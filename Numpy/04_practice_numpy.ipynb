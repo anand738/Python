{
  "nbformat": 4,
  "nbformat_minor": 0,
  "metadata": {
    "colab": {
      "provenance": [],
      "gpuType": "T4"
    },
    "kernelspec": {
      "name": "python3",
      "display_name": "Python 3"
    },
    "language_info": {
      "name": "python"
    },
    "accelerator": "GPU"
  },
  "cells": [
    {
      "cell_type": "code",
      "execution_count": 3,
      "metadata": {
        "colab": {
          "base_uri": "https://localhost:8080/"
        },
        "id": "ruDyOs42YIeb",
        "outputId": "c00d71ee-e520-4ab3-c4de-d77e0404dd40"
      },
      "outputs": [
        {
          "output_type": "execute_result",
          "data": {
            "text/plain": [
              "array([nan, nan, nan, nan,  1., nan, nan, nan, nan, nan])"
            ]
          },
          "metadata": {},
          "execution_count": 3
        }
      ],
      "source": [
        "### `Q-1` Create a null vector of size 10 but the fifth value which is 1.\n",
        "\n",
        "import numpy as np\n",
        "# Filling the numpy array with NaN values\n",
        "a = np.empty(10)*np.nan\n",
        "a[4] = 1\n",
        "a"
      ]
    },
    {
      "cell_type": "code",
      "source": [
        "### `Q-2` Ask user to input two numbers a, b. Write a program to generate a random array of shape (a, b) and print the array and avg of the array.\n",
        "\n",
        "a = int(input(\"Enter the value of a: \"))\n",
        "b = int(input(\"Enter the value of b: \"))\n",
        "x = np.random.random((a,b))\n",
        "print(x)\n",
        "print(\"Average of the array elements is: \",x.mean())\n"
      ],
      "metadata": {
        "colab": {
          "base_uri": "https://localhost:8080/"
        },
        "id": "hhIIU25vYykC",
        "outputId": "6aa3fa8b-4286-473f-a720-8d3bce890292"
      },
      "execution_count": 14,
      "outputs": [
        {
          "output_type": "stream",
          "name": "stdout",
          "text": [
            "Enter the value of a: 4\n",
            "Enter the value of b: 6\n",
            "[[0.34942408 0.57429338 0.61855872 0.79363987 0.15714784 0.72121407]\n",
            " [0.02768525 0.96080067 0.73212488 0.99373695 0.33430387 0.13764747]\n",
            " [0.95296664 0.55827324 0.48271944 0.91609204 0.89689231 0.69277029]\n",
            " [0.76492377 0.25762393 0.03205014 0.78690153 0.41068721 0.69621532]]\n",
            "Average of the array elements is:  0.5770288711317058\n"
          ]
        }
      ]
    },
    {
      "cell_type": "code",
      "source": [
        "### `Q-3`Write a function to create a 2d array with 1 on the border and 0 inside. Take 2-D array shape as (a,b) as parameter to function.\n",
        "\n",
        "# Eg.-\n",
        "# ```\n",
        "# [[1,1,1,1],\n",
        "# [1,0,0,1],\n",
        "# [1,0,0,1],\n",
        "# [1,1,1,1]]\n",
        "# ```\n",
        "\n",
        "def borderarray(a,b):\n",
        "  x = np.ones((a,b))\n",
        "  x[1:-1,1:-1] = 0\n",
        "  return x\n",
        "\n",
        "borderarray(4,5)"
      ],
      "metadata": {
        "colab": {
          "base_uri": "https://localhost:8080/"
        },
        "id": "ODNTDv0UZcmq",
        "outputId": "2fe0f155-b89a-4d25-975d-2daa800ca769"
      },
      "execution_count": 16,
      "outputs": [
        {
          "output_type": "execute_result",
          "data": {
            "text/plain": [
              "array([[1., 1., 1., 1., 1.],\n",
              "       [1., 0., 0., 0., 1.],\n",
              "       [1., 0., 0., 0., 1.],\n",
              "       [1., 1., 1., 1., 1.]])"
            ]
          },
          "metadata": {},
          "execution_count": 16
        }
      ]
    },
    {
      "cell_type": "code",
      "source": [
        "### `Q-4` Create a vector of size 10 with values ranging from 0 to 1, both excluded.\n",
        "\n",
        "np.linspace(0,1,12)[1:-1]\n"
      ],
      "metadata": {
        "colab": {
          "base_uri": "https://localhost:8080/"
        },
        "id": "S1972QNzaPPv",
        "outputId": "0e2d670a-c145-476b-fcf0-699f596ebeca"
      },
      "execution_count": 20,
      "outputs": [
        {
          "output_type": "execute_result",
          "data": {
            "text/plain": [
              "array([0.09090909, 0.18181818, 0.27272727, 0.36363636, 0.45454545,\n",
              "       0.54545455, 0.63636364, 0.72727273, 0.81818182, 0.90909091])"
            ]
          },
          "metadata": {},
          "execution_count": 20
        }
      ]
    },
    {
      "cell_type": "code",
      "source": [
        "#Code here\n",
        "# Identity matricx is a square mattrix, means no of rows and columns will always be same.\n",
        "# Here shape given 3,4 so identuty matrix not possible.\n",
        "\n",
        "#Identy matrix of size 3-- 3X3\n",
        "np.eye(3)\n",
        "\n",
        "#Identy matrix of size 4-- 4X4\n",
        "np.identity(4)\n",
        "\n",
        "# eye and identity are same."
      ],
      "metadata": {
        "colab": {
          "base_uri": "https://localhost:8080/"
        },
        "id": "Fy0ngoS6b5f2",
        "outputId": "fc07622c-9c38-48c2-d89d-983f85ed4e4a"
      },
      "execution_count": 23,
      "outputs": [
        {
          "output_type": "execute_result",
          "data": {
            "text/plain": [
              "array([[1., 0., 0., 0.],\n",
              "       [0., 1., 0., 0.],\n",
              "       [0., 0., 1., 0.],\n",
              "       [0., 0., 0., 1.]])"
            ]
          },
          "metadata": {},
          "execution_count": 23
        }
      ]
    },
    {
      "cell_type": "code",
      "source": [
        "### `Q-6:` Create a 5x5 matrix with row values ranging from 0 to 4.\n",
        "\n",
        "z = np.zeros((5,5))\n",
        "z\n",
        "z= z + np.arange(5)\n",
        "z"
      ],
      "metadata": {
        "colab": {
          "base_uri": "https://localhost:8080/"
        },
        "id": "iQL323G6cQtw",
        "outputId": "f0cc0991-5f65-4fbb-f167-fcb904fe634f"
      },
      "execution_count": 31,
      "outputs": [
        {
          "output_type": "execute_result",
          "data": {
            "text/plain": [
              "array([[0., 1., 2., 3., 4.],\n",
              "       [0., 1., 2., 3., 4.],\n",
              "       [0., 1., 2., 3., 4.],\n",
              "       [0., 1., 2., 3., 4.],\n",
              "       [0., 1., 2., 3., 4.]])"
            ]
          },
          "metadata": {},
          "execution_count": 31
        }
      ]
    },
    {
      "cell_type": "code",
      "source": [
        "# ### `Q-7:`  Consider a random integer (in range 1 to 100) vector with shape `(10,2)` representing coordinates,\n",
        "# and coordinates of a point as array is given. Create an array of distance of each point in the random vectros\n",
        "# from the given point. Distance array should be interger type.\n",
        "\n",
        "# ```\n",
        "point = np.array([2,3])\n",
        "# ```\n",
        "\n",
        "\n",
        "x = np.random.randint(1,100,(10,2))\n",
        "\n",
        "np.sqrt(np.sum((x-point)**2,axis=1)).astype(int)"
      ],
      "metadata": {
        "colab": {
          "base_uri": "https://localhost:8080/"
        },
        "id": "NVAyY4gMcoXh",
        "outputId": "ae289dbb-06a4-4d65-f960-d046ea7485c5"
      },
      "execution_count": 40,
      "outputs": [
        {
          "output_type": "execute_result",
          "data": {
            "text/plain": [
              "array([ 85,  53,  79,  67,  10,  38, 105,  75,  96,  58])"
            ]
          },
          "metadata": {},
          "execution_count": 40
        }
      ]
    },
    {
      "cell_type": "code",
      "source": [
        "### `Q-8:` Consider a (6,7,8) shape array, what is the index (x,y,z) of the 100th element?\n",
        "np.unravel_index(100,(6,7,8))"
      ],
      "metadata": {
        "colab": {
          "base_uri": "https://localhost:8080/"
        },
        "id": "fAlGz4JDdPOE",
        "outputId": "62dd8ccf-0877-45f8-b124-c54cb9133e2c"
      },
      "execution_count": 43,
      "outputs": [
        {
          "output_type": "execute_result",
          "data": {
            "text/plain": [
              "(1, 5, 4)"
            ]
          },
          "metadata": {},
          "execution_count": 43
        }
      ]
    },
    {
      "cell_type": "code",
      "source": [
        "a = input().strip().split()\n",
        "a = np.array(a[::-1],dtype=np.float32)\n",
        "a"
      ],
      "metadata": {
        "colab": {
          "base_uri": "https://localhost:8080/"
        },
        "id": "zdY2JkEUfLa_",
        "outputId": "3bdface8-5c18-4ebe-edcb-25eecae308f5"
      },
      "execution_count": 47,
      "outputs": [
        {
          "name": "stdout",
          "output_type": "stream",
          "text": [
            "2 43 45 65 76 \n"
          ]
        },
        {
          "output_type": "execute_result",
          "data": {
            "text/plain": [
              "array([76., 65., 45., 43.,  2.], dtype=float32)"
            ]
          },
          "metadata": {},
          "execution_count": 47
        }
      ]
    },
    {
      "cell_type": "code",
      "source": [
        "a = np.zeros((2,3))\n",
        "a.size"
      ],
      "metadata": {
        "colab": {
          "base_uri": "https://localhost:8080/"
        },
        "id": "4FwqVR_YgNNG",
        "outputId": "2449cd26-8f5c-408c-bff0-918e35f00f68"
      },
      "execution_count": 48,
      "outputs": [
        {
          "output_type": "execute_result",
          "data": {
            "text/plain": [
              "6"
            ]
          },
          "metadata": {},
          "execution_count": 48
        }
      ]
    },
    {
      "cell_type": "markdown",
      "source": [
        "### `Q-11:` Softmax function\n",
        "\n",
        "Create a Python function to calculate the Softmax of the given numpy 1D array. The function only accepts the numpy 1D array, otherwise raise error.\n",
        "\n",
        "$$\\Large \\sigma(\\vec z)_i = \\frac{e^{z_i}}{\\sum_{j=i}^{K}{e^{z_j}}}$$"
      ],
      "metadata": {
        "id": "haOWAFelg_5a"
      }
    },
    {
      "cell_type": "code",
      "source": [
        "def softmax(arr):\n",
        "  if type(arr)!=np.ndarray:\n",
        "    raise TypeError(\"Enter a numpy array\")\n",
        "  elif arr.ndim>1:\n",
        "    raise TypeError(\"Enter a 1D array\")\n",
        "  s = np.sum(np.exp(arr))\n",
        "  return np.exp(arr)/s\n",
        "\n",
        "softmax(np.array([86.03331084, 37.7285648,  48.64908087, 87.16563062, 38.40852563, 37.20006318]))\n"
      ],
      "metadata": {
        "colab": {
          "base_uri": "https://localhost:8080/"
        },
        "id": "Vws0Xrc2gvoe",
        "outputId": "27a3a0dc-7d53-4940-b764-1fa7e0f60ea7"
      },
      "execution_count": 49,
      "outputs": [
        {
          "output_type": "execute_result",
          "data": {
            "text/plain": [
              "array([2.43733248e-01, 2.56112114e-22, 1.41628283e-17, 7.56266752e-01,\n",
              "       5.05514197e-22, 1.50974911e-22])"
            ]
          },
          "metadata": {},
          "execution_count": 49
        }
      ]
    },
    {
      "cell_type": "markdown",
      "source": [
        "### `Q-12:` Vertical stack\n",
        "\n",
        "Write a python function that accepts infinite number of numpy arrays and do the vertical stack to them. Then return that new array as result. The function only accepts the numpy array, otherwise raise error.\n",
        "\n"
      ],
      "metadata": {
        "id": "S7EUOpaBiIwQ"
      }
    },
    {
      "cell_type": "code",
      "source": [
        "def v_stack(*args):\n",
        "  for i in args:\n",
        "    if type(i)!=np.ndarray:\n",
        "      raise TypeError(\"Enter a numpy array\")\n",
        "\n",
        "    return np.vstack(args)\n",
        "\n",
        "v_stack(np.array([1,2,3]),np.array([4,5,6]),np.array([7,8,9]))\n",
        ""
      ],
      "metadata": {
        "colab": {
          "base_uri": "https://localhost:8080/"
        },
        "id": "HgOI47IXh19M",
        "outputId": "33f6cd03-23d7-48f0-88ad-e725becc48fc"
      },
      "execution_count": 50,
      "outputs": [
        {
          "output_type": "execute_result",
          "data": {
            "text/plain": [
              "array([[1, 2, 3],\n",
              "       [4, 5, 6],\n",
              "       [7, 8, 9]])"
            ]
          },
          "metadata": {},
          "execution_count": 50
        }
      ]
    },
    {
      "cell_type": "code",
      "source": [
        "a = np.arange(10).reshape(2,-1)\n",
        "b = np.repeat(1,10).reshape(2,-1)\n",
        "c= np.random.random((2,5))\n",
        "\n",
        "print(v_stack(a,b,c))"
      ],
      "metadata": {
        "colab": {
          "base_uri": "https://localhost:8080/"
        },
        "id": "c3Nk-AW1isHE",
        "outputId": "75cd0ce7-3b3f-4480-a5a2-898c17c33db2"
      },
      "execution_count": 57,
      "outputs": [
        {
          "output_type": "stream",
          "name": "stdout",
          "text": [
            "[[0.         1.         2.         3.         4.        ]\n",
            " [5.         6.         7.         8.         9.        ]\n",
            " [1.         1.         1.         1.         1.        ]\n",
            " [1.         1.         1.         1.         1.        ]\n",
            " [0.28944001 0.97127917 0.65116211 0.49329523 0.86539619]\n",
            " [0.61371358 0.87887183 0.54550006 0.41958072 0.13474652]]\n"
          ]
        }
      ]
    },
    {
      "cell_type": "code",
      "source": [
        "x = np.random.random((5,4))\n",
        "x - x.mean(axis = 1, keepdims = True)"
      ],
      "metadata": {
        "colab": {
          "base_uri": "https://localhost:8080/"
        },
        "id": "I-XugmkSizHz",
        "outputId": "d2f47212-dfb9-47d2-ec2b-92050d921b7f"
      },
      "execution_count": 58,
      "outputs": [
        {
          "output_type": "execute_result",
          "data": {
            "text/plain": [
              "array([[-0.49236189,  0.44053129, -0.15633244,  0.20816304],\n",
              "       [-0.28464819, -0.32916663,  0.19696719,  0.41684763],\n",
              "       [ 0.28970967, -0.19353441,  0.1446394 , -0.24081466],\n",
              "       [ 0.28027253, -0.14381878, -0.14761965,  0.01116589],\n",
              "       [ 0.24735121, -0.28012167, -0.316145  ,  0.34891546]])"
            ]
          },
          "metadata": {},
          "execution_count": 58
        }
      ]
    },
    {
      "cell_type": "code",
      "source": [
        "### `Q-15:` Swap column-1 of array with column-2 in the array.\n",
        "a = np.arange(9).reshape(3,3)\n",
        "a[:,[0,2,1]]"
      ],
      "metadata": {
        "colab": {
          "base_uri": "https://localhost:8080/"
        },
        "id": "KieikskOkHeG",
        "outputId": "73bbfe89-9c2a-42c3-8953-cf7e82752c68"
      },
      "execution_count": 60,
      "outputs": [
        {
          "output_type": "execute_result",
          "data": {
            "text/plain": [
              "array([[0, 2, 1],\n",
              "       [3, 5, 4],\n",
              "       [6, 8, 7]])"
            ]
          },
          "metadata": {},
          "execution_count": 60
        }
      ]
    },
    {
      "cell_type": "code",
      "source": [
        "### `Q-16:` Replace odd elements in arrays with -1.\n",
        "a = np.arange(10)\n",
        "a[a%2!=0] = -1\n",
        "a"
      ],
      "metadata": {
        "colab": {
          "base_uri": "https://localhost:8080/"
        },
        "id": "v96RKjcckR-M",
        "outputId": "b62c3b1e-480c-49eb-cf85-d8bf943c8e4f"
      },
      "execution_count": 61,
      "outputs": [
        {
          "output_type": "execute_result",
          "data": {
            "text/plain": [
              "array([ 0, -1,  2, -1,  4, -1,  6, -1,  8, -1])"
            ]
          },
          "metadata": {},
          "execution_count": 61
        }
      ]
    },
    {
      "cell_type": "code",
      "source": [
        "# Given two arrays of same shape make an array of max out of two arrays. (Numpy way)\n",
        "a = np.array([1,32,4,2,5,6])\n",
        "b = np.array([4,2,54,45,2,34])\n",
        "a[b>a] = b[a<b]\n",
        "a"
      ],
      "metadata": {
        "colab": {
          "base_uri": "https://localhost:8080/"
        },
        "id": "0H5FYva2knUJ",
        "outputId": "965d0b6e-2a1f-4ec1-994a-0e15a68ab695"
      },
      "execution_count": 64,
      "outputs": [
        {
          "output_type": "execute_result",
          "data": {
            "text/plain": [
              "array([ 4, 32, 54, 45,  5, 34])"
            ]
          },
          "metadata": {},
          "execution_count": 64
        }
      ]
    },
    {
      "cell_type": "markdown",
      "source": [
        "### `Q-18` Answer below asked questions on given array:\n",
        "1. Fetch Every alternate column of the array\n",
        "2. Normalise the given array\n",
        "\n",
        "\n",
        "There are different form of normalisation for this question use below formula.\n",
        "\n",
        "$$\\large X_{normalized} = \\frac{X - X_{min}}{X_{max} - X_{min}}$$\n",
        "\n",
        "```python\n",
        "arr1=np.random.randint(low=1, high=10000, size=40).reshape(8,5)\n",
        "```\n"
      ],
      "metadata": {
        "id": "QR9zch9elm-6"
      }
    },
    {
      "cell_type": "code",
      "source": [
        "arr1=np.random.randint(low=1, high=10000, size=40).reshape(8,5)\n",
        "arr1"
      ],
      "metadata": {
        "colab": {
          "base_uri": "https://localhost:8080/"
        },
        "id": "VPxn51lilDY9",
        "outputId": "c9dbc515-5752-47bb-e238-f22a3e2fdb34"
      },
      "execution_count": 65,
      "outputs": [
        {
          "output_type": "execute_result",
          "data": {
            "text/plain": [
              "array([[6439, 4769,  198,   18, 1868],\n",
              "       [9613, 3398, 8249, 3329, 7711],\n",
              "       [2591, 3801, 4713, 9722, 7585],\n",
              "       [8867, 7892, 8823, 9830, 7613],\n",
              "       [1017, 5747, 6362, 5702, 2312],\n",
              "       [5798, 1249, 1687, 3804, 7303],\n",
              "       [1606, 1629, 9749, 3753, 9628],\n",
              "       [8444, 5750, 5456, 6443, 8439]])"
            ]
          },
          "metadata": {},
          "execution_count": 65
        }
      ]
    },
    {
      "cell_type": "code",
      "source": [
        "arr1[:,::2]"
      ],
      "metadata": {
        "colab": {
          "base_uri": "https://localhost:8080/"
        },
        "id": "Ri405PFHlrRO",
        "outputId": "266488a2-6a83-448f-b2f5-37415d5351dc"
      },
      "execution_count": 66,
      "outputs": [
        {
          "output_type": "execute_result",
          "data": {
            "text/plain": [
              "array([[6439,  198, 1868],\n",
              "       [9613, 8249, 7711],\n",
              "       [2591, 4713, 7585],\n",
              "       [8867, 8823, 7613],\n",
              "       [1017, 6362, 2312],\n",
              "       [5798, 1687, 7303],\n",
              "       [1606, 9749, 9628],\n",
              "       [8444, 5456, 8439]])"
            ]
          },
          "metadata": {},
          "execution_count": 66
        }
      ]
    },
    {
      "cell_type": "code",
      "source": [
        "(arr1 - arr1.min())/(arr1.max() - arr1.min())"
      ],
      "metadata": {
        "colab": {
          "base_uri": "https://localhost:8080/"
        },
        "id": "xK5xUbTUluos",
        "outputId": "8570df7d-b0e0-4f4a-c4d6-37e1c3fec065"
      },
      "execution_count": 68,
      "outputs": [
        {
          "output_type": "execute_result",
          "data": {
            "text/plain": [
              "array([[0.65440277, 0.48420302, 0.01834488, 0.        , 0.18854464],\n",
              "       [0.97788422, 0.34447615, 0.83887077, 0.33744395, 0.78403995],\n",
              "       [0.26222992, 0.38554831, 0.47849572, 0.98899307, 0.77119853],\n",
              "       [0.90185487, 0.80248675, 0.89737057, 1.        , 0.77405218],\n",
              "       [0.10181411, 0.58387689, 0.64655524, 0.57929066, 0.23379535],\n",
              "       [0.5890746 , 0.12545862, 0.17009784, 0.38585406, 0.74245821],\n",
              "       [0.16184264, 0.16418671, 0.9917448 , 0.38065634, 0.97941296],\n",
              "       [0.85874439, 0.58418263, 0.55421932, 0.65481044, 0.85823481]])"
            ]
          },
          "metadata": {},
          "execution_count": 68
        }
      ]
    },
    {
      "cell_type": "markdown",
      "source": [
        "### `Q-19:` Write a function which will accept 2 arguments.\n",
        "First: A 1D numpy array arr\n",
        "\n",
        "Second: An integer n {Please make sure n<=len(arr)}\n",
        "\n",
        "Output: The output should be the nth largest item out of the array\n",
        "```\n",
        "# Example1 : arr=(12,34,40,7,1,0) and n=3, the output should be 12\n",
        "# Example2 : arr=(12,34,40,7,1,0) and n=1, the output should be 40\n",
        "```"
      ],
      "metadata": {
        "id": "PIj3MwsGmckv"
      }
    },
    {
      "cell_type": "code",
      "source": [
        "#Code here\n",
        "def nthmax(arr, n):\n",
        "    if n>len(arr):\n",
        "        raise IndexError(\"n is way out of limit\")\n",
        "    arr.sort()\n",
        "    return arr[-n]\n",
        "nthmax(np.array([12,34,40,7,1,0]),2)"
      ],
      "metadata": {
        "colab": {
          "base_uri": "https://localhost:8080/"
        },
        "id": "MmSidS-zl7bq",
        "outputId": "6d142155-a03b-4dae-e853-be922515b666"
      },
      "execution_count": 69,
      "outputs": [
        {
          "output_type": "execute_result",
          "data": {
            "text/plain": [
              "34"
            ]
          },
          "metadata": {},
          "execution_count": 69
        }
      ]
    },
    {
      "cell_type": "markdown",
      "source": [
        "### `Q-20:` Create the following pattern without hardcoding. Use only numpy functions and the below input array a.\n",
        "```\n",
        "# Input: a = np.array([1,2,3])\n",
        "# Output: array([1, 1, 1, 2, 2, 2, 3, 3, 3, 1, 2, 3, 1, 2, 3, 1, 2, 3])\n",
        "```"
      ],
      "metadata": {
        "id": "F01tlMhOm6ig"
      }
    },
    {
      "cell_type": "code",
      "source": [
        "\n",
        "a = np.array([1,2,3])\n",
        "np.hstack([np.repeat(a,3),np.tile(a,3)])"
      ],
      "metadata": {
        "colab": {
          "base_uri": "https://localhost:8080/"
        },
        "id": "w6UzIfh7me26",
        "outputId": "497e1ee5-49ca-425e-8c05-f4dbef78ba65"
      },
      "execution_count": 72,
      "outputs": [
        {
          "output_type": "execute_result",
          "data": {
            "text/plain": [
              "array([1, 1, 1, 2, 2, 2, 3, 3, 3, 1, 2, 3, 1, 2, 3, 1, 2, 3])"
            ]
          },
          "metadata": {},
          "execution_count": 72
        }
      ]
    },
    {
      "cell_type": "code",
      "source": [],
      "metadata": {
        "id": "puPMWfiDnI_X"
      },
      "execution_count": null,
      "outputs": []
    }
  ]
}