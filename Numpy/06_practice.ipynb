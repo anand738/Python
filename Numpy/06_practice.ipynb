{
 "cells": [
  {
   "cell_type": "markdown",
   "metadata": {},
   "source": [
    "Create a random 3x4 matrix with value between 0-100. And perform below tasks\n",
    "\n",
    "i. Sort this matrix. np.sort()\n",
    "\n",
    "ii. Sort this matrix based on values in 2nd column.\n",
    "\n",
    "iii. Sort this matrix based on max value in each row.\n",
    "\n",
    "iv. Sort based on elements value."
   ]
  },
  {
   "cell_type": "code",
   "execution_count": 2,
   "metadata": {},
   "outputs": [],
   "source": [
    "import numpy as np\n"
   ]
  },
  {
   "cell_type": "code",
   "execution_count": 19,
   "metadata": {},
   "outputs": [
    {
     "name": "stdout",
     "output_type": "stream",
     "text": [
      "[[12 84  9 62]\n",
      " [37 88 97 14]\n",
      " [80  5 63 35]]\n",
      "[[ 9 12 62 84]\n",
      " [14 37 88 97]\n",
      " [ 5 35 63 80]]\n",
      "[[80  5 63 35]\n",
      " [12 84  9 62]\n",
      " [37 88 97 14]]\n",
      "[[80  5 63 35]\n",
      " [12 84  9 62]\n",
      " [37 88 97 14]]\n",
      "[[ 5  9 12]\n",
      " [14 35 37]\n",
      " [62 63 80]\n",
      " [84 88 97]]\n"
     ]
    }
   ],
   "source": [
    "arr = np.random.randint(0,100,size=(3,4))\n",
    "print(arr)\n",
    "print(np.sort(arr))\n",
    "print(arr[arr[:,1].argsort()])\n",
    "\n",
    "print(np.array(sorted(arr, key = lambda x: max(x))))\n",
    "print(np.sort(arr, axis = None).reshape(4,3))"
   ]
  },
  {
   "cell_type": "markdown",
   "metadata": {},
   "source": [
    "There is an array of marks of 5 students in 4 subjects. Further you are asked to perform below task.\n",
    "\n",
    "i. Add marks every student of an extra subject in the same array.\n",
    "\n",
    "ii. Add two new students marks in respective 5 subjects.(one subject added in above task)\n",
    "\n",
    "iii. Add extra column with sum of all subjects(5-subjects) marks\n",
    "\n",
    "iv. Sort the array(non-ascending order) on total marks column--one added in above task. Show top 2 rows."
   ]
  },
  {
   "cell_type": "code",
   "execution_count": 45,
   "metadata": {},
   "outputs": [
    {
     "name": "stdout",
     "output_type": "stream",
     "text": [
      "[[13 10  9 33 41]\n",
      " [63 46 90 42 87]\n",
      " [39 76 13 29 72]\n",
      " [82  9 29 78 36]\n",
      " [67 61 59 36 92]]\n",
      "[[13 10  9 33 41]\n",
      " [63 46 90 42 87]\n",
      " [39 76 13 29 72]\n",
      " [82  9 29 78 36]\n",
      " [67 61 59 36 92]\n",
      " [77 83 98 95 89]\n",
      " [92 71 52 61 53]]\n",
      "[[ 13  10   9  33  41 106]\n",
      " [ 63  46  90  42  87 328]\n",
      " [ 39  76  13  29  72 229]\n",
      " [ 82   9  29  78  36 234]\n",
      " [ 67  61  59  36  92 315]\n",
      " [ 77  83  98  95  89 442]\n",
      " [ 92  71  52  61  53 329]]\n",
      "[[67 61 59 36 92]\n",
      " [77 83 98 95 89]\n",
      " [63 46 90 42 87]\n",
      " [39 76 13 29 72]\n",
      " [92 71 52 61 53]\n",
      " [13 10  9 33 41]\n",
      " [82  9 29 78 36]]\n"
     ]
    }
   ],
   "source": [
    "marks = np.array([[13, 10,  9, 33],\n",
    "       [63, 46, 90, 42],\n",
    "       [39, 76, 13, 29],\n",
    "       [82,  9, 29, 78],\n",
    "       [67, 61, 59, 36]])\n",
    "extra_subject = np.array([41, 87, 72, 36, 92]).reshape(-1, 1)\n",
    "marks = np.concatenate([marks, extra_subject], axis = 1)\n",
    "print(marks)\n",
    "#2\n",
    "rec1 = np.array([77, 83, 98, 95, 89]).reshape(1, -1)\n",
    "rec2 = np.array([92,71,52,61,53]).reshape(1,-1)\n",
    "marks = np.concatenate([marks, rec1, rec2], axis = 0) \n",
    "print(marks)\n",
    "#3\n",
    "sum_of_student = marks.sum(axis = 1, keepdims=True)\n",
    "sum1 = np.concatenate([marks,sum_of_student],axis=1)\n",
    "print(sum1)\n",
    "#4 \n",
    "print(np.array(sorted(marks, key = lambda x: x[-1], reverse=True)))"
   ]
  },
  {
   "cell_type": "code",
   "execution_count": null,
   "metadata": {},
   "outputs": [],
   "source": []
  }
 ],
 "metadata": {
  "kernelspec": {
   "display_name": "Python 3",
   "language": "python",
   "name": "python3"
  },
  "language_info": {
   "codemirror_mode": {
    "name": "ipython",
    "version": 3
   },
   "file_extension": ".py",
   "mimetype": "text/x-python",
   "name": "python",
   "nbconvert_exporter": "python",
   "pygments_lexer": "ipython3",
   "version": "3.11.9"
  }
 },
 "nbformat": 4,
 "nbformat_minor": 2
}
