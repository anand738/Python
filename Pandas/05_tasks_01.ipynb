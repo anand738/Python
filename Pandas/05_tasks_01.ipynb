{
  "nbformat": 4,
  "nbformat_minor": 0,
  "metadata": {
    "colab": {
      "provenance": [],
      "gpuType": "T4"
    },
    "kernelspec": {
      "name": "python3",
      "display_name": "Python 3"
    },
    "language_info": {
      "name": "python"
    },
    "accelerator": "GPU"
  },
  "cells": [
    {
      "cell_type": "code",
      "execution_count": 1,
      "metadata": {
        "id": "zxrbXftDYalU"
      },
      "outputs": [],
      "source": [
        "import numpy as np\n",
        "import pandas as pd"
      ]
    },
    {
      "cell_type": "markdown",
      "source": [
        "###`Q-1:` Write a program to create an empty series."
      ],
      "metadata": {
        "id": "MetYTZJpYfdz"
      }
    },
    {
      "cell_type": "code",
      "source": [
        "# code here\n",
        "pd.Series()"
      ],
      "metadata": {
        "id": "KUcgT935YgC5",
        "outputId": "5ba784db-2fff-44dc-969c-442ddffa6df3",
        "colab": {
          "base_uri": "https://localhost:8080/",
          "height": 84
        }
      },
      "execution_count": 3,
      "outputs": [
        {
          "output_type": "execute_result",
          "data": {
            "text/plain": [
              "Series([], dtype: object)"
            ],
            "text/html": [
              "<div>\n",
              "<style scoped>\n",
              "    .dataframe tbody tr th:only-of-type {\n",
              "        vertical-align: middle;\n",
              "    }\n",
              "\n",
              "    .dataframe tbody tr th {\n",
              "        vertical-align: top;\n",
              "    }\n",
              "\n",
              "    .dataframe thead th {\n",
              "        text-align: right;\n",
              "    }\n",
              "</style>\n",
              "<table border=\"1\" class=\"dataframe\">\n",
              "  <thead>\n",
              "    <tr style=\"text-align: right;\">\n",
              "      <th></th>\n",
              "      <th>0</th>\n",
              "    </tr>\n",
              "  </thead>\n",
              "  <tbody>\n",
              "  </tbody>\n",
              "</table>\n",
              "</div><br><label><b>dtype:</b> object</label>"
            ]
          },
          "metadata": {},
          "execution_count": 3
        }
      ]
    },
    {
      "cell_type": "markdown",
      "source": [
        "###`Q-2:` Write a Pandas program to add, subtract, multiple and divide two Pandas Series."
      ],
      "metadata": {
        "id": "jw5ybzU6YhOo"
      }
    },
    {
      "cell_type": "code",
      "source": [
        "# code here\n",
        "a = pd.Series([1,2,4,5])\n",
        "b = pd.Series([3,4,5,6])\n",
        "print(a+b)\n",
        "print(a-b)\n",
        "print(a*b)\n",
        "print(a/b)"
      ],
      "metadata": {
        "id": "EF3GgVFjYjwG",
        "outputId": "8cffffa2-05ef-41b9-fc84-f27804854713",
        "colab": {
          "base_uri": "https://localhost:8080/"
        }
      },
      "execution_count": 4,
      "outputs": [
        {
          "output_type": "stream",
          "name": "stdout",
          "text": [
            "0     4\n",
            "1     6\n",
            "2     9\n",
            "3    11\n",
            "dtype: int64\n",
            "0   -2\n",
            "1   -2\n",
            "2   -1\n",
            "3   -1\n",
            "dtype: int64\n",
            "0     3\n",
            "1     8\n",
            "2    20\n",
            "3    30\n",
            "dtype: int64\n",
            "0    0.333333\n",
            "1    0.500000\n",
            "2    0.800000\n",
            "3    0.833333\n",
            "dtype: float64\n"
          ]
        }
      ]
    },
    {
      "cell_type": "markdown",
      "source": [
        "###`Q-3` Write a Pandas program to compare the elements of the two Pandas Series.\n",
        "Sample Series: [2, 4, 6, 8, 10], [1, 3, 5, 7, 10]\n",
        "\n"
      ],
      "metadata": {
        "id": "TZDp25jeYlB6"
      }
    },
    {
      "cell_type": "code",
      "source": [
        "# code here\n",
        "a = pd.Series([2, 4, 6, 8, 10])\n",
        "b = pd.Series([1, 3, 5, 7, 10])\n",
        "print(a==b)\n",
        "print(a>b)\n",
        "print(a<b)\n"
      ],
      "metadata": {
        "id": "gFNil8ruYp1y",
        "outputId": "43c4dba6-f25f-4c50-d63e-38e5e0ceb4b9",
        "colab": {
          "base_uri": "https://localhost:8080/"
        }
      },
      "execution_count": 5,
      "outputs": [
        {
          "output_type": "stream",
          "name": "stdout",
          "text": [
            "0    False\n",
            "1    False\n",
            "2    False\n",
            "3    False\n",
            "4     True\n",
            "dtype: bool\n",
            "0     True\n",
            "1     True\n",
            "2     True\n",
            "3     True\n",
            "4    False\n",
            "dtype: bool\n",
            "0    False\n",
            "1    False\n",
            "2    False\n",
            "3    False\n",
            "4    False\n",
            "dtype: bool\n"
          ]
        }
      ]
    },
    {
      "cell_type": "markdown",
      "source": [
        "###`Q-5.`Write a function to change the data type of given a column or a Series. Function takes series and data type as input, returns the converted series.\n",
        "```\n",
        "series = pd.Series([1,2,'Python', 2.0, True, 100])\n",
        "change to float type data\n",
        "```\n",
        "Note: Read about pd.to_numeric()"
      ],
      "metadata": {
        "id": "HlOBn_N6YrZz"
      }
    },
    {
      "cell_type": "code",
      "source": [
        "# code here\n",
        "def change(series):\n",
        "  return pd.to_numeric(series, errors='coerce')\n",
        "series = pd.Series([1,2,'Python', 2.0, True, 100])\n",
        "change(series)"
      ],
      "metadata": {
        "id": "_SWQJCUJYwXm",
        "outputId": "6d13a253-9251-455d-9045-043f8df83b45",
        "colab": {
          "base_uri": "https://localhost:8080/",
          "height": 272
        }
      },
      "execution_count": 6,
      "outputs": [
        {
          "output_type": "execute_result",
          "data": {
            "text/plain": [
              "0      1.0\n",
              "1      2.0\n",
              "2      NaN\n",
              "3      2.0\n",
              "4      1.0\n",
              "5    100.0\n",
              "dtype: float64"
            ],
            "text/html": [
              "<div>\n",
              "<style scoped>\n",
              "    .dataframe tbody tr th:only-of-type {\n",
              "        vertical-align: middle;\n",
              "    }\n",
              "\n",
              "    .dataframe tbody tr th {\n",
              "        vertical-align: top;\n",
              "    }\n",
              "\n",
              "    .dataframe thead th {\n",
              "        text-align: right;\n",
              "    }\n",
              "</style>\n",
              "<table border=\"1\" class=\"dataframe\">\n",
              "  <thead>\n",
              "    <tr style=\"text-align: right;\">\n",
              "      <th></th>\n",
              "      <th>0</th>\n",
              "    </tr>\n",
              "  </thead>\n",
              "  <tbody>\n",
              "    <tr>\n",
              "      <th>0</th>\n",
              "      <td>1.0</td>\n",
              "    </tr>\n",
              "    <tr>\n",
              "      <th>1</th>\n",
              "      <td>2.0</td>\n",
              "    </tr>\n",
              "    <tr>\n",
              "      <th>2</th>\n",
              "      <td>NaN</td>\n",
              "    </tr>\n",
              "    <tr>\n",
              "      <th>3</th>\n",
              "      <td>2.0</td>\n",
              "    </tr>\n",
              "    <tr>\n",
              "      <th>4</th>\n",
              "      <td>1.0</td>\n",
              "    </tr>\n",
              "    <tr>\n",
              "      <th>5</th>\n",
              "      <td>100.0</td>\n",
              "    </tr>\n",
              "  </tbody>\n",
              "</table>\n",
              "</div><br><label><b>dtype:</b> float64</label>"
            ]
          },
          "metadata": {},
          "execution_count": 6
        }
      ]
    },
    {
      "cell_type": "markdown",
      "source": [
        "###`Q-6` Find top 10 most run getter from the series."
      ],
      "metadata": {
        "id": "TxFkp-L4Y23d"
      }
    },
    {
      "cell_type": "code",
      "source": [
        "# code here\n",
        "batsman = pd.read_csv('/content/batsman_runs_series.csv')\n",
        "batsman.sort_values('batsman_run', ascending=False).head(10)\n",
        "\n"
      ],
      "metadata": {
        "id": "muBgocA6Y2Bg",
        "outputId": "f23aade9-1b41-4250-d11f-23e3e80f357d",
        "colab": {
          "base_uri": "https://localhost:8080/",
          "height": 661
        }
      },
      "execution_count": 12,
      "outputs": [
        {
          "output_type": "execute_result",
          "data": {
            "text/plain": [
              "             batter  batsman_run\n",
              "569         V Kohli         6634\n",
              "462        S Dhawan         6244\n",
              "130       DA Warner         5883\n",
              "430       RG Sharma         5881\n",
              "493        SK Raina         5536\n",
              "27   AB de Villiers         5181\n",
              "108        CH Gayle         4997\n",
              "339        MS Dhoni         4978\n",
              "452      RV Uthappa         4954\n",
              "256      KD Karthik         4377"
            ],
            "text/html": [
              "\n",
              "  <div id=\"df-b24a36d7-fd20-4302-8ff0-4aa344ddae8f\" class=\"colab-df-container\">\n",
              "    <div>\n",
              "<style scoped>\n",
              "    .dataframe tbody tr th:only-of-type {\n",
              "        vertical-align: middle;\n",
              "    }\n",
              "\n",
              "    .dataframe tbody tr th {\n",
              "        vertical-align: top;\n",
              "    }\n",
              "\n",
              "    .dataframe thead th {\n",
              "        text-align: right;\n",
              "    }\n",
              "</style>\n",
              "<table border=\"1\" class=\"dataframe\">\n",
              "  <thead>\n",
              "    <tr style=\"text-align: right;\">\n",
              "      <th></th>\n",
              "      <th>batter</th>\n",
              "      <th>batsman_run</th>\n",
              "    </tr>\n",
              "  </thead>\n",
              "  <tbody>\n",
              "    <tr>\n",
              "      <th>569</th>\n",
              "      <td>V Kohli</td>\n",
              "      <td>6634</td>\n",
              "    </tr>\n",
              "    <tr>\n",
              "      <th>462</th>\n",
              "      <td>S Dhawan</td>\n",
              "      <td>6244</td>\n",
              "    </tr>\n",
              "    <tr>\n",
              "      <th>130</th>\n",
              "      <td>DA Warner</td>\n",
              "      <td>5883</td>\n",
              "    </tr>\n",
              "    <tr>\n",
              "      <th>430</th>\n",
              "      <td>RG Sharma</td>\n",
              "      <td>5881</td>\n",
              "    </tr>\n",
              "    <tr>\n",
              "      <th>493</th>\n",
              "      <td>SK Raina</td>\n",
              "      <td>5536</td>\n",
              "    </tr>\n",
              "    <tr>\n",
              "      <th>27</th>\n",
              "      <td>AB de Villiers</td>\n",
              "      <td>5181</td>\n",
              "    </tr>\n",
              "    <tr>\n",
              "      <th>108</th>\n",
              "      <td>CH Gayle</td>\n",
              "      <td>4997</td>\n",
              "    </tr>\n",
              "    <tr>\n",
              "      <th>339</th>\n",
              "      <td>MS Dhoni</td>\n",
              "      <td>4978</td>\n",
              "    </tr>\n",
              "    <tr>\n",
              "      <th>452</th>\n",
              "      <td>RV Uthappa</td>\n",
              "      <td>4954</td>\n",
              "    </tr>\n",
              "    <tr>\n",
              "      <th>256</th>\n",
              "      <td>KD Karthik</td>\n",
              "      <td>4377</td>\n",
              "    </tr>\n",
              "  </tbody>\n",
              "</table>\n",
              "</div>\n",
              "    <div class=\"colab-df-buttons\">\n",
              "\n",
              "  <div class=\"colab-df-container\">\n",
              "    <button class=\"colab-df-convert\" onclick=\"convertToInteractive('df-b24a36d7-fd20-4302-8ff0-4aa344ddae8f')\"\n",
              "            title=\"Convert this dataframe to an interactive table.\"\n",
              "            style=\"display:none;\">\n",
              "\n",
              "  <svg xmlns=\"http://www.w3.org/2000/svg\" height=\"24px\" viewBox=\"0 -960 960 960\">\n",
              "    <path d=\"M120-120v-720h720v720H120Zm60-500h600v-160H180v160Zm220 220h160v-160H400v160Zm0 220h160v-160H400v160ZM180-400h160v-160H180v160Zm440 0h160v-160H620v160ZM180-180h160v-160H180v160Zm440 0h160v-160H620v160Z\"/>\n",
              "  </svg>\n",
              "    </button>\n",
              "\n",
              "  <style>\n",
              "    .colab-df-container {\n",
              "      display:flex;\n",
              "      gap: 12px;\n",
              "    }\n",
              "\n",
              "    .colab-df-convert {\n",
              "      background-color: #E8F0FE;\n",
              "      border: none;\n",
              "      border-radius: 50%;\n",
              "      cursor: pointer;\n",
              "      display: none;\n",
              "      fill: #1967D2;\n",
              "      height: 32px;\n",
              "      padding: 0 0 0 0;\n",
              "      width: 32px;\n",
              "    }\n",
              "\n",
              "    .colab-df-convert:hover {\n",
              "      background-color: #E2EBFA;\n",
              "      box-shadow: 0px 1px 2px rgba(60, 64, 67, 0.3), 0px 1px 3px 1px rgba(60, 64, 67, 0.15);\n",
              "      fill: #174EA6;\n",
              "    }\n",
              "\n",
              "    .colab-df-buttons div {\n",
              "      margin-bottom: 4px;\n",
              "    }\n",
              "\n",
              "    [theme=dark] .colab-df-convert {\n",
              "      background-color: #3B4455;\n",
              "      fill: #D2E3FC;\n",
              "    }\n",
              "\n",
              "    [theme=dark] .colab-df-convert:hover {\n",
              "      background-color: #434B5C;\n",
              "      box-shadow: 0px 1px 3px 1px rgba(0, 0, 0, 0.15);\n",
              "      filter: drop-shadow(0px 1px 2px rgba(0, 0, 0, 0.3));\n",
              "      fill: #FFFFFF;\n",
              "    }\n",
              "  </style>\n",
              "\n",
              "    <script>\n",
              "      const buttonEl =\n",
              "        document.querySelector('#df-b24a36d7-fd20-4302-8ff0-4aa344ddae8f button.colab-df-convert');\n",
              "      buttonEl.style.display =\n",
              "        google.colab.kernel.accessAllowed ? 'block' : 'none';\n",
              "\n",
              "      async function convertToInteractive(key) {\n",
              "        const element = document.querySelector('#df-b24a36d7-fd20-4302-8ff0-4aa344ddae8f');\n",
              "        const dataTable =\n",
              "          await google.colab.kernel.invokeFunction('convertToInteractive',\n",
              "                                                    [key], {});\n",
              "        if (!dataTable) return;\n",
              "\n",
              "        const docLinkHtml = 'Like what you see? Visit the ' +\n",
              "          '<a target=\"_blank\" href=https://colab.research.google.com/notebooks/data_table.ipynb>data table notebook</a>'\n",
              "          + ' to learn more about interactive tables.';\n",
              "        element.innerHTML = '';\n",
              "        dataTable['output_type'] = 'display_data';\n",
              "        await google.colab.output.renderOutput(dataTable, element);\n",
              "        const docLink = document.createElement('div');\n",
              "        docLink.innerHTML = docLinkHtml;\n",
              "        element.appendChild(docLink);\n",
              "      }\n",
              "    </script>\n",
              "  </div>\n",
              "\n",
              "\n",
              "<div id=\"df-25cb0e8c-cb41-4193-8974-477b23ae793d\">\n",
              "  <button class=\"colab-df-quickchart\" onclick=\"quickchart('df-25cb0e8c-cb41-4193-8974-477b23ae793d')\"\n",
              "            title=\"Suggest charts\"\n",
              "            style=\"display:none;\">\n",
              "\n",
              "<svg xmlns=\"http://www.w3.org/2000/svg\" height=\"24px\"viewBox=\"0 0 24 24\"\n",
              "     width=\"24px\">\n",
              "    <g>\n",
              "        <path d=\"M19 3H5c-1.1 0-2 .9-2 2v14c0 1.1.9 2 2 2h14c1.1 0 2-.9 2-2V5c0-1.1-.9-2-2-2zM9 17H7v-7h2v7zm4 0h-2V7h2v10zm4 0h-2v-4h2v4z\"/>\n",
              "    </g>\n",
              "</svg>\n",
              "  </button>\n",
              "\n",
              "<style>\n",
              "  .colab-df-quickchart {\n",
              "      --bg-color: #E8F0FE;\n",
              "      --fill-color: #1967D2;\n",
              "      --hover-bg-color: #E2EBFA;\n",
              "      --hover-fill-color: #174EA6;\n",
              "      --disabled-fill-color: #AAA;\n",
              "      --disabled-bg-color: #DDD;\n",
              "  }\n",
              "\n",
              "  [theme=dark] .colab-df-quickchart {\n",
              "      --bg-color: #3B4455;\n",
              "      --fill-color: #D2E3FC;\n",
              "      --hover-bg-color: #434B5C;\n",
              "      --hover-fill-color: #FFFFFF;\n",
              "      --disabled-bg-color: #3B4455;\n",
              "      --disabled-fill-color: #666;\n",
              "  }\n",
              "\n",
              "  .colab-df-quickchart {\n",
              "    background-color: var(--bg-color);\n",
              "    border: none;\n",
              "    border-radius: 50%;\n",
              "    cursor: pointer;\n",
              "    display: none;\n",
              "    fill: var(--fill-color);\n",
              "    height: 32px;\n",
              "    padding: 0;\n",
              "    width: 32px;\n",
              "  }\n",
              "\n",
              "  .colab-df-quickchart:hover {\n",
              "    background-color: var(--hover-bg-color);\n",
              "    box-shadow: 0 1px 2px rgba(60, 64, 67, 0.3), 0 1px 3px 1px rgba(60, 64, 67, 0.15);\n",
              "    fill: var(--button-hover-fill-color);\n",
              "  }\n",
              "\n",
              "  .colab-df-quickchart-complete:disabled,\n",
              "  .colab-df-quickchart-complete:disabled:hover {\n",
              "    background-color: var(--disabled-bg-color);\n",
              "    fill: var(--disabled-fill-color);\n",
              "    box-shadow: none;\n",
              "  }\n",
              "\n",
              "  .colab-df-spinner {\n",
              "    border: 2px solid var(--fill-color);\n",
              "    border-color: transparent;\n",
              "    border-bottom-color: var(--fill-color);\n",
              "    animation:\n",
              "      spin 1s steps(1) infinite;\n",
              "  }\n",
              "\n",
              "  @keyframes spin {\n",
              "    0% {\n",
              "      border-color: transparent;\n",
              "      border-bottom-color: var(--fill-color);\n",
              "      border-left-color: var(--fill-color);\n",
              "    }\n",
              "    20% {\n",
              "      border-color: transparent;\n",
              "      border-left-color: var(--fill-color);\n",
              "      border-top-color: var(--fill-color);\n",
              "    }\n",
              "    30% {\n",
              "      border-color: transparent;\n",
              "      border-left-color: var(--fill-color);\n",
              "      border-top-color: var(--fill-color);\n",
              "      border-right-color: var(--fill-color);\n",
              "    }\n",
              "    40% {\n",
              "      border-color: transparent;\n",
              "      border-right-color: var(--fill-color);\n",
              "      border-top-color: var(--fill-color);\n",
              "    }\n",
              "    60% {\n",
              "      border-color: transparent;\n",
              "      border-right-color: var(--fill-color);\n",
              "    }\n",
              "    80% {\n",
              "      border-color: transparent;\n",
              "      border-right-color: var(--fill-color);\n",
              "      border-bottom-color: var(--fill-color);\n",
              "    }\n",
              "    90% {\n",
              "      border-color: transparent;\n",
              "      border-bottom-color: var(--fill-color);\n",
              "    }\n",
              "  }\n",
              "</style>\n",
              "\n",
              "  <script>\n",
              "    async function quickchart(key) {\n",
              "      const quickchartButtonEl =\n",
              "        document.querySelector('#' + key + ' button');\n",
              "      quickchartButtonEl.disabled = true;  // To prevent multiple clicks.\n",
              "      quickchartButtonEl.classList.add('colab-df-spinner');\n",
              "      try {\n",
              "        const charts = await google.colab.kernel.invokeFunction(\n",
              "            'suggestCharts', [key], {});\n",
              "      } catch (error) {\n",
              "        console.error('Error during call to suggestCharts:', error);\n",
              "      }\n",
              "      quickchartButtonEl.classList.remove('colab-df-spinner');\n",
              "      quickchartButtonEl.classList.add('colab-df-quickchart-complete');\n",
              "    }\n",
              "    (() => {\n",
              "      let quickchartButtonEl =\n",
              "        document.querySelector('#df-25cb0e8c-cb41-4193-8974-477b23ae793d button');\n",
              "      quickchartButtonEl.style.display =\n",
              "        google.colab.kernel.accessAllowed ? 'block' : 'none';\n",
              "    })();\n",
              "  </script>\n",
              "</div>\n",
              "\n",
              "    </div>\n",
              "  </div>\n"
            ],
            "application/vnd.google.colaboratory.intrinsic+json": {
              "type": "dataframe",
              "summary": "{\n  \"name\": \"batsman\",\n  \"rows\": 10,\n  \"fields\": [\n    {\n      \"column\": \"batter\",\n      \"properties\": {\n        \"dtype\": \"string\",\n        \"num_unique_values\": 10,\n        \"samples\": [\n          \"RV Uthappa\",\n          \"S Dhawan\",\n          \"AB de Villiers\"\n        ],\n        \"semantic_type\": \"\",\n        \"description\": \"\"\n      }\n    },\n    {\n      \"column\": \"batsman_run\",\n      \"properties\": {\n        \"dtype\": \"number\",\n        \"std\": 691,\n        \"min\": 4377,\n        \"max\": 6634,\n        \"num_unique_values\": 10,\n        \"samples\": [\n          4954,\n          6244,\n          5181\n        ],\n        \"semantic_type\": \"\",\n        \"description\": \"\"\n      }\n    }\n  ]\n}"
            }
          },
          "metadata": {},
          "execution_count": 12
        },
        {
          "output_type": "display_data",
          "data": {
            "text/plain": [
              "<google.colab._quickchart_helpers.SectionTitle at 0x7f6671347370>"
            ],
            "text/html": [
              "<h4 class=\"colab-quickchart-section-title\">Distributions</h4>\n",
              "<style>\n",
              "  .colab-quickchart-section-title {\n",
              "      clear: both;\n",
              "  }\n",
              "</style>"
            ]
          },
          "metadata": {}
        },
        {
          "output_type": "display_data",
          "data": {
            "text/plain": [
              "from matplotlib import pyplot as plt\n",
              "_df_0['batsman_run'].plot(kind='hist', bins=20, title='batsman_run')\n",
              "plt.gca().spines[['top', 'right',]].set_visible(False)"
            ],
            "text/html": [
              "      <div class=\"colab-quickchart-chart-with-code\" id=\"chart-cba456f2-8f47-46a5-9a48-7fda730fae36\">\n",
              "        <img style=\"width: 180px;\" src=\"data:image/png;base64,iVBORw0KGgoAAAANSUhEUgAAAioAAAGrCAYAAADuNLxTAAAAOXRFWHRTb2Z0d2FyZQBNYXRwbG90\n",
              "bGliIHZlcnNpb24zLjguMCwgaHR0cHM6Ly9tYXRwbG90bGliLm9yZy81sbWrAAAACXBIWXMAAA9h\n",
              "AAAPYQGoP6dpAAAhvElEQVR4nO3df1BVdf7H8dcVDEVAUkzxi0gKYimCqCxJptZa6hoaamk5qSVi\n",
              "ZdboTOX0E7OwndbV2nHQdG2rGcufLaNpo2aGu5WamWWrCYFoItgPwAwR8PP9o+lON0S9yJEP8nzM\n",
              "3BnuOR8Obzzd5jn3Hu51GWOMAAAALNSsoQcAAACoDaECAACsRagAAABrESoAAMBahAoAALAWoQIA\n",
              "AKxFqAAAAGsRKgAAwFqECgAAsBahAgAArEWoAE3QoEGD9NRTTzX0GABwQYQKAK+5XC5t2bKloccA\n",
              "0AQQKgCaPGOMqqqqGnoMAOdAqABNVElJiVJSUhQYGKjIyEi98cYbkqTCwkKNGDFC7du3V2BgoHr1\n",
              "6qVVq1a5v69Hjx6SpNtvv10BAQEaNmyYJGnlypXq0aOHgoKCFBISoj//+c/u7xk0aJAefvhh3XXX\n",
              "XQoKClJYWJjefvttffnll7rhhhsUGBiohIQEHTx40P09q1atUp8+fXT11VcrJCREycnJysvLc+9/\n",
              "/fXXFRYWpsWLFysiIkKtW7fW2LFjVVZWdsHfPT8/Xy6XS8uWLVNsbKz8/f21e/duTZo0SRMmTPBY\n",
              "+8eXyVwul1599VUlJSUpICBAMTEx2rFjhzf/9AC8YQA0OQMHDjQtWrQwWVlZprKy0mzYsME0b97c\n",
              "7Nixwxw5csSsWbPGnDx50pw5c8YsXbrU+Pr6mq+++sr9/ZLM5s2b3fdPnTplmjdvbrZu3WqMMaa8\n",
              "vNz99W8/r3Xr1mb79u2murraLFiwwPj7+5vhw4ebvLw8U1FRYVJSUsytt97q/p6NGzeavXv3mqqq\n",
              "KnPixAkzYsQIk5iY6N6/fPly4+PjYx599FHzyy+/mGPHjpnIyEjzzDPPXPD3z8vLM5JM//79TUFB\n",
              "gamqqjKnT582EydONPfcc0+Nf6snn3zS43fv1auXOXTokKmsrDSPPPKICQ8P9+JfH4A3eEYFaKKG\n",
              "Dx+u22+/Xb6+vho+fLjuuOMO/fOf/1RYWJhSUlIUEBCg5s2b6/7779f111+vDz744LzHa968uf73\n",
              "v//p+++/V4sWLXTzzTd77B89erRuuukmNWvWTJMmTdIvv/yiCRMmKCIiQldddZXuvvtu7dy5071+\n",
              "6NChio2NlY+Pj0JCQjRnzhx98sknOnnypHuNr6+v/vrXv6ply5YKDQ3VqFGjPI5xIc8884w6deok\n",
              "Hx8f+fn5XfT3zZo1S5GRkfL19VVqaqoKCgpUVFR00d8P4OIRKkATde2119a4f+TIEf30009KTU3V\n",
              "tddeq6CgIAUHB2v//v0qLi6u9Vj+/v7atGmTtmzZoujoaMXExGjhwoUea0JDQ91ft2rV6pzbfh8h\n",
              "27dv1y233KLQ0FAFBQVp4MCBkuQxR0hIiJo3b17rMbz9N7hYHTt29PiZkrz6uQAuHqECNFH5+fk1\n",
              "7oeFhemJJ57QgQMHtH37dpWWlqqkpEQ9evSQMca91uVy1TjegAEDtG7dOn3//fd69dVX9fjjj2vz\n",
              "5s11mu3MmTMaMWKEhg4dqm+++UZlZWXavn27JHnMcamaNfP8X2BgYKBOnTrlse3YsWP19vMAeI9Q\n",
              "AZqo9957Txs2bFB1dbU2bdqkdevWafLkySotLZW/v7/atm2ryspKvfrqq9q/f7/H93bo0MHjwtfj\n",
              "x49r1apVKikpkcvlUnBwsFwul3x9fes025kzZ1ReXq6rr75agYGBOnbs2GV535e+fftq27ZtOnDg\n",
              "gCorK7VgwQKPC3gBXH6ECtBE3XfffVq2bJmCg4P10EMPKTMzUwMGDNDcuXNVXl6u9u3bKyIiQkVF\n",
              "RUpKSvL43oyMDL300ksKDg7WiBEjZIxRZmamunTpooCAAI0ZM0YvvPCCBg8eXKfZAgICtHTpUs2d\n",
              "O9f9l0Vjx46tj1/7vO655x6NGzdO/fv3V6dOnVRSUlLjdwdweblMfT6PCgAAUI94RgUAAFiLUAFw\n",
              "xcnOzlZAQMA5b+PHj2/o8QB4gZd+AACAtXhGBQAAWItQAQAA1iJUAACAta6IUPnjW3UDAIArwxUR\n",
              "KocPH27oEQAAgAOuiFABAABXJkIFAABYi1ABAADWIlQAAIC1CBUAAGAtQgUAAFiLUAEAANYiVAAA\n",
              "gLUIFQAAYC1CBQAAWItQAQAA1iJUAACAtRwNlVtvvVW9evVSXFycBgwYoM8///yc65YtW6aoqCh1\n",
              "7dpVqampqqysdHIsAADQSDgaKitXrtS+ffu0d+9ezZw5U5MmTaqxJi8vT08//bSys7OVk5OjoqIi\n",
              "LVmyxMmxAABAI+FoqAQHB7u/Li0tlcvlqrFm9erVSk5OVocOHeRyuTRt2jStWLGi1mNWVFSorKzM\n",
              "41ZdXe3E+AAAoIH5Ov0D7r33Xm3btk2S9N5779XYX1BQoM6dO7vvR0REqKCgoNbjZWRkKD093WNb\n",
              "YmJiPU2LK03EExscO3b+vL84dmwAwK8cv5j2jTfe0JEjRzR37lw9/vjjl3y82bNnq7S01OOWkJBQ\n",
              "D5MCAADbXLa/+pk4caK2bdumH374wWN7eHi4Dh8+7L6fn5+v8PDwWo/j5+enoKAgj5uPj49jcwMA\n",
              "gIbjWKiUlJTo2LFj7vvvvvuu2rZtqzZt2nisGz16tLKysnT8+HEZY5SZmalx48Y5NRYAAGhEHLtG\n",
              "pbS0VGPHjlV5ebmaNWumdu3aaf369XK5XJoyZYqSk5OVnJysLl26KD09XUlJSZKkQYMGKS0tzamx\n",
              "AABAI+IyxpiGHuJSzZw5U/Pnz2/oMWAhLqYFgMaNd6YFAADWIlQAAIC1CBUAAGAtQgUAAFiLUAEA\n",
              "ANYiVAAAgLUIFQAAYC1CBQAAWItQAQAA1iJUAACAtQgVAABgLUIFAABYi1ABAADWIlQAAIC1CBUA\n",
              "AGAtQgUAAFiLUAEAANYiVAAAgLUIFQAAYC1CBQAAWItQAQAA1iJUAACAtQgVAABgLUIFAABYi1AB\n",
              "AADWIlQAAIC1CBUAAGAtQgUAAFiLUAEAANYiVAAAgLUIFQAAYC1CBQAAWItQAQAA1iJUAACAtQgV\n",
              "AABgLUIFAABYi1ABAADWIlQAAIC1CBUAAGAtQgUAAFiLUAEAANYiVAAAgLUIFQAAYC1CBQAAWItQ\n",
              "AQAA1iJUAACAtQgVAABgLUIFAABYi1ABAADWIlQAAIC1HAuV06dPa9SoUerWrZtiY2M1ZMgQ5eTk\n",
              "1FiXn58vHx8fxcXFuW+5ublOjQUAABoRXycPPnXqVA0bNkwul0v/+Mc/NGXKFH344Yc11gUGBmrv\n",
              "3r1OjgIAABohx55RadGihYYPHy6XyyVJSkxMVH5+/iUft6KiQmVlZR636urqSz4uAACwz2W7RmXh\n",
              "woUaOXLkOfedOnVK/fr1U3x8vObMmXPe8MjIyFDr1q09bjt37nRqbAAA0IAuS6i8+OKLysnJUUZG\n",
              "Ro19oaGh+u6777Rr1y5t2bJF2dnZ+tvf/lbrsWbPnq3S0lKPW0JCgpPjAwCABuJ4qLz88stau3at\n",
              "Nm7cKH9//xr7/fz8dM0110iS2rRpo/vuu0/Z2dm1Hs/Pz09BQUEeNx8fH8fmBwAADcfRUJk/f75W\n",
              "rFihzZs3Kzg4+JxriouLVVlZKenX60/Wrl2r3r17OzkWAABoJBwLlaNHj2rWrFkqKSnR4MGDFRcX\n",
              "pz/96U+SpGeeeUaZmZmSpB07dqh3796KjY1VfHy8OnTooCeffNKpsQAAQCPi2J8nh4WFyRhzzn1z\n",
              "5sxxf52SkqKUlBSnxgAAAI0Y70wLAACsRagAAABrESoAAMBahAoAALAWoQIAAKxFqAAAAGsRKgAA\n",
              "wFqECgAAsBahAgAArEWoAAAAaxEqAADAWoQKAACwFqECAACsRagAAABrESoAAMBahAoAALAWoQIA\n",
              "AKxFqAAAAGsRKgAAwFqECgAAsBahAgAArEWoAAAAaxEqAADAWoQKAACwFqECAACsRagAAABrESoA\n",
              "AMBahAoAALAWoQIAAKxFqAAAAGsRKgAAwFqECgAAsBahAgAArEWoAAAAaxEqAADAWoQKAACwFqEC\n",
              "AACsRagAAABrESoAAMBahAoAALAWoQIAAKxFqAAAAGsRKgAAwFqECgAAsBahAgAArEWoAAAAaxEq\n",
              "AADAWoQKAACwFqECAACs5VionD59WqNGjVK3bt0UGxurIUOGKCcn55xr169fr+7duysqKkopKSkq\n",
              "KytzaiwAANCIOPqMytSpU3Xw4EF98cUXGjlypKZMmVJjzc8//6z7779f7777rg4dOqSOHTvq+eef\n",
              "d3IsAADQSDgWKi1atNDw4cPlcrkkSYmJicrPz6+xbuPGjerdu7e6d+8uSXrwwQe1YsUKp8YCAACN\n",
              "iO/l+kELFy7UyJEja2wvKChQ586d3fcjIiJUWFioqqoq+frWHK+iokIVFRUe26qrq+t/YAAA0OAu\n",
              "S6i8+OKLysnJ0datWy/5WBkZGUpPT/fYlpiYeMnHBQDbRTyxwbFj58/7i2PHBi6F43/18/LLL2vt\n",
              "2rXauHGj/P39a+wPDw/X4cOH3ffz8/MVGhp6zmdTJGn27NkqLS31uCUkJDg2PwAAaDiOhsr8+fO1\n",
              "YsUKbd68WcHBwedcM3ToUO3Zs0cHDhyQJC1atEjjxo2r9Zh+fn4KCgryuPn4+DgxPgAAaGCOvfRz\n",
              "9OhRzZo1S126dNHgwYMl/RoZn376qZ555hl17NhR06ZNU2BgoJYuXapRo0apqqpKPXv21L/+9S+n\n",
              "xgIAAI2IY6ESFhYmY8w5982ZM8fjfnJyspKTk50aBQAANFK8My0AALAWoQIAAKxFqAAAAGsRKgAA\n",
              "wFqECgAAsBahAgAArEWoAAAAaxEqAADAWoQKAACwFqECAACsRagAAABrESoAAMBahAoAALAWoQIA\n",
              "AKxFqAAAAGsRKgAAwFqECgAAsBahAgAArEWoAAAAa3kdKu+//74TcwAAANTgdajMmTNH0dHRWrhw\n",
              "ocrKypyYCQAAQFIdQuU///mP3n77bX311Vfq1q2bHnzwQX399ddOzAYAAJq4Ol2j0rt3b7322mva\n",
              "tGmT1q9fr169emnIkCH68ssv63s+AADQhNUpVLZs2aKRI0cqJSVFDz30kI4fP660tDTdcccd9T0f\n",
              "AABowny9/YbrrrtOISEhmjFjhlJSUuTj4yNJGjNmjJYtW1bvAwIAgKbL61B566231KdPn3Pu27hx\n",
              "4yUPBAAA8BuvX/r57LPP9OOPP7rv//DDD3rttdfqdSgAAACpDqGyaNEitWnTxn2/bdu2WrRoUb0O\n",
              "BQAAINUhVIwxNbZVV1fXyzAAAAC/53WohIaGauXKle7777zzjkJDQ+t1KAAAAKkOF9MuWLBAI0eO\n",
              "1GOPPSZJ8vf317///e96HwwAAMDrUOnevbu+/vprHTx4UJIUHR3t/hNlAACA+uR1qEiSy+VScHCw\n",
              "qqqq9N1330mSwsPD63UwAAAAr0Pl9ddf14wZM9S8eXM1a/brJS4ul0vFxcX1PhwAAGjavA6V559/\n",
              "Xrt27VJ0dLQT8wAAALh5/Vc/ISEhRAoAALgsvA6VUaNGacGCBSouLlZZWZn7BgAAUN+8funnySef\n",
              "lCTNnDlTLpdLxhi5XC7e9A0AANQ7r0Pl7NmzTswBAABQg9cv/Ui/fjDhm2++KUkqKSlRYWFhvQ4F\n",
              "AAAg1fFDCe+77z4999xzkn799OS77767vucCAADwPlSWLFmiTz75REFBQZKkrl276sSJE/U+GAAA\n",
              "gNeh4ufnp5YtW3ps8/Wt0xvcAgAAnJfXodKuXTt98803crlckn59p1rePh8AADihTp+ePH78eB04\n",
              "cECdOnVSUFCQ1q9f78RsAACgifM6VCIjI/Xpp5/q4MGDMsbw6ckAAMAxXodKQUGBJKlVq1aSxKcn\n",
              "AwAAx3gdKn369HG/I+3p06f1yy+/qG3btnx6MgAAqHdeh8of/xR57dq1+uKLL+ptIAAAgN/U6Z1p\n",
              "fy8lJUUbNmyoj1kAAAA8eB0qv//E5J9++kmbNm2q9dOTZ8yYoYiICLlcLu3du/ecaz788EO1bNlS\n",
              "cXFx7lt5ebm3YwEAgCuQ1y/9BAcHu69R8fHxUVRUlF555ZVzrh0zZowee+wx3Xjjjec9ZnR0dK0h\n",
              "AwAAmi5HPz35pptu8vbwF1RRUaGKigqPbdXV1fX+cwAAQMO75GtU6kNubq7i4+PVr18/LVq06Lxr\n",
              "MzIy1Lp1a4/bzp07L9OkAADgcvI6VJo1ayYfH58at9+2eys+Pl5Hjx7Vnj17tG7dOmVmZmrlypW1\n",
              "rp89e7ZKS0s9bgkJCV7/XAAAYD+vX/qZM2eOysvL9cADD0iSMjMz1bJlSz366KN1GuC3T2GWpLCw\n",
              "MI0fP17Z2dm68847z7nez89Pfn5+Htt4Z1wAAK5MXj+jsm7dOr3wwgsKCwtTWFiY5s6dq7Vr16pV\n",
              "q1bud6v1RmFhofu6l5MnT2r9+vXq3bu318cBAABXHq9D5eTJkx7vQltcXKyTJ0+ec21aWprCwsJ0\n",
              "9OhR3XbbbYqMjJQkTZkyRVlZWZKkNWvWKCYmRrGxsUpMTNSQIUM0efLkuvwuAADgCuP1Sz+zZs1S\n",
              "bGyshg8fLknatGmTnnvuuXOuXbx48Tm3L1261P319OnTNX36dG/HAAAATYDXoZKWlqakpCRt27ZN\n",
              "kjRz5kz16NGj3gcDAADwOlQkqW3btoqJidGgQYNUVVWlM2fO6Kqrrqrv2QAAQBPn9TUqq1evVmJi\n",
              "ovs6kv3792vUqFH1PRcAAID3oZKRkaE9e/YoODhYkhQbG6vDhw/X91wAAADeh4qPj4/atm3rsY2X\n",
              "fQAAgBO8DpXAwEAVFRXJ5XJJkrZu3ao2bdrU+2AAAABeX0z70ksvadiwYfr222914403Ki8vTxs2\n",
              "bHBiNgAA0MR5FSpnz55VdXW1tm3bpv/+978yxqh///7u61UAAADqk1eh0qxZM02dOlVffPGFhg0b\n",
              "5tRMAAAAkupwjUpUVJRycnKcmAUAAMCD19eo/Pjjj4qLi1P//v0VEBDg3r527dp6HQwAAOCiQ2Xq\n",
              "1KlasmSJJk6cqOTkZF199dVOzgUAAHDxobJ7925J0sSJExUfH689e/Y4NhQAAIBUh2tUJMkYU99z\n",
              "AAAA1HDRz6iUl5fryy+/lDFGp0+fdn/9m169ejkyIAAAaLq8CpXk5GT3/d9/7XK59O2339bvZAAA\n",
              "oMm76FDJz893cAwAAICa6nSNCgAAwOVAqAAAAGsRKgAAwFqECgAAsBahAgAArEWoAAAAaxEqAADA\n",
              "WoQKAACwFqECAACsRagAAABrESoAAMBahAoAALAWoQIAAKxFqAAAAGsRKgAAwFqECgAAsBahAgAA\n",
              "rEWoAAAAaxEqAADAWoQKAACwFqECAACsRagAAABrESoAAMBahAoAALAWoQIAAKxFqAAAAGsRKgAA\n",
              "wFqECgAAsBahAgAArEWoAAAAaxEqAADAWoQKAACwFqECAACs5WiozJgxQxEREXK5XNq7d2+t65Yt\n",
              "W6aoqCh17dpVqampqqysdHIsAADQSDgaKmPGjNGOHTvUuXPnWtfk5eXp6aefVnZ2tnJyclRUVKQl\n",
              "S5Y4ORYAAGgkHA2Vm266SWFhYedds3r1aiUnJ6tDhw5yuVyaNm2aVqxYUev6iooKlZWVedyqq6vr\n",
              "e3QAAGAB34YeoKCgwOMZl4iICBUUFNS6PiMjQ+np6R7bEhMTHZkt4okNjhxXkvLn/cWxY6Nx4787\n",
              "T079ezTGfwt44rHi6Up9rDS6i2lnz56t0tJSj1tCQkJDjwUAABzQ4M+ohIeHKzc3130/Pz9f4eHh\n",
              "ta738/OTn5+fxzYfHx/H5gMAAA2nwZ9RGT16tLKysnT8+HEZY5SZmalx48Y19FgAAMACjoZKWlqa\n",
              "wsLCdPToUd12222KjIyUJE2ZMkVZWVmSpC5duig9PV1JSUmKjIxUu3btlJaW5uRYAACgkXD0pZ/F\n",
              "ixefc/vSpUs97qempio1NdXJUQAAQCPU4C/9AAAA1IZQAQAA1iJUAACAtQgVAABgLUIFAABYi1AB\n",
              "AADWIlQAAIC1CBUAAGAtQgUAAFiLUAEAANYiVAAAgLUIFQAAYC1CBQAAWItQAQAA1iJUAACAtQgV\n",
              "AABgLUIFAABYi1ABAADWIlQAAIC1CBUAAGAtQgUAAFiLUAEAANYiVAAAgLUIFQAAYC1CBQAAWItQ\n",
              "AQAA1iJUAACAtQgVAABgLUIFAABYi1ABAADWIlQAAIC1CBUAAGAtQgUAAFiLUAEAANYiVAAAgLUI\n",
              "FQAAYC1CBQAAWItQAQAA1iJUAACAtQgVAABgLUIFAABYi1ABAADWIlQAAIC1CBUAAGAtQgUAAFiL\n",
              "UAEAANYiVAAAgLUIFQAAYC1CBQAAWMvRUDl06JD69++vbt26qV+/ftq/f3+NNR9++KFatmypuLg4\n",
              "9628vNzJsQAAQCPh6+TB09LSNHXqVE2aNEmrV6/WpEmTtGvXrhrroqOjtXfvXidHAQAAjZBjz6gU\n",
              "Fxdr9+7dmjBhgiRp9OjROnLkiHJycpz6kQAA4ArjWKgcOXJEoaGh8vX99Ukbl8ul8PBwFRQU1Fib\n",
              "m5ur+Ph49evXT4sWLTrvcSsqKlRWVuZxq66uduR3AAAADcvRl34uRnx8vI4eParWrVvr6NGjGj58\n",
              "uEJCQnTnnXeec31GRobS09M9tiUmJl6OUQEAwGXm2DMqnTp1UmFhoaqqqiRJxhgVFBQoPDzcY11Q\n",
              "UJBat24tSQoLC9P48eOVnZ1d63Fnz56t0tJSj1tCQoJTvwYAAGhAjoXKNddco/j4eL311luSpDVr\n",
              "1igsLEyRkZEe6woLC3X27FlJ0smTJ7V+/Xr17t271uP6+fkpKCjI4+bj4+PUrwEAABqQo3+evHjx\n",
              "Yi1evFjdunXTvHnztHz5cknSlClTlJWVJenXgImJiVFsbKwSExM1ZMgQTZ482cmxAABAI+HoNSrR\n",
              "0dH6+OOPa2xfunSp++vp06dr+vTpTo4BAAAaKd6ZFgAAWItQAQAA1iJUAACAtQgVAABgLUIFAABY\n",
              "i1ABAADWIlQAAIC1CBUAAGAtQgUAAFiLUAEAANYiVAAAgLUIFQAAYC1CBQAAWItQAQAA1iJUAACA\n",
              "tQgVAABgLUIFAABYi1ABAADWIlQAAIC1CBUAAGAtQgUAAFiLUAEAANYiVAAAgLUIFQAAYC1CBQAA\n",
              "WItQAQAA1iJUAACAtQgVAABgLUIFAABYi1ABAADWIlQAAIC1CBUAAGAtQgUAAFiLUAEAANYiVAAA\n",
              "gLUIFQAAYC1CBQAAWItQAQAA1iJUAACAtQgVAABgLUIFAABYi1ABAADWIlQAAIC1CBUAAGAtQgUA\n",
              "AFiLUAEAANYiVAAAgLUIFQAAYC1CBQAAWItQAQAA1nI0VA4dOqT+/furW7du6tevn/bv33/OdcuW\n",
              "LVNUVJS6du2q1NRUVVZWOjkWAABoJBwNlbS0NE2dOlXffPONHn/8cU2aNKnGmry8PD399NPKzs5W\n",
              "Tk6OioqKtGTJEifHAgAAjYRjoVJcXKzdu3drwoQJkqTRo0fryJEjysnJ8Vi3evVqJScnq0OHDnK5\n",
              "XJo2bZpWrFhR63ErKipUVlbmcauurnbq1wAAAA3IZYwxThz4s88+0913362DBw+6tyUkJGjevHm6\n",
              "+eab3dsefvhhdezYUbNnz5Ykff311xo6dKgKCgrOedznnntO6enpHtu6d++uYcOGOfBbOKu6ulo7\n",
              "d+5UQkKCfHx8GnqcJo/zYRfOh104H3a5Us5H586d9cgjj5x3je9lmqXezJ49WzNnzvTY5ufnJz8/\n",
              "vwaaqO7KysrUunVrvf/++woKCmrocZo8zoddOB924XzYpSmdD8dCpVOnTiosLFRVVZV8fX1ljFFB\n",
              "QYHCw8M91oWHhys3N9d9Pz8/v8aa32usUQIAALzn2DUq11xzjeLj4/XWW29JktasWaOwsDBFRkZ6\n",
              "rBs9erSysrJ0/PhxGWOUmZmpcePGOTUWAABoRBz9q5/Fixdr8eLF6tatm+bNm6fly5dLkqZMmaKs\n",
              "rCxJUpcuXZSenq6kpCRFRkaqXbt2SktLc3IsAADQSDh6jUp0dLQ+/vjjGtuXLl3qcT81NVWpqalO\n",
              "jmIlPz8/Pfvss7yUZQnOh104H3bhfNilKZ0Px/7qBwAA4FLxFvoAAMBahAoAALAWoQIAAKxFqAAA\n",
              "AGsRKg5Yvny5XC6X3n33XUnSoEGDdO211youLk5xcXH6+9//7l5bXFysoUOHKioqSj179tRHH310\n",
              "UftwcSIiIhQdHe3+t3/nnXcknf+Tveu6DxdW2/mobbvE+XBKRUWFpk+frqioKMXExLg/l43HRsOo\n",
              "7Xzw2JBkUK/y8vLMDTfcYBITE826deuMMcYMHDjQ/fUfTZ482Tz77LPGGGN27txp/u///s+cOXPm\n",
              "gvtwcTp37mw+//zzGtsHDx5sli9fbowxZtWqVaZv376XvA8XVtv5qG27MZwPpzz66KNm+vTp5uzZ\n",
              "s8YYYwoLC40xPDYaSm3ng8eGMYRKPaqurja33HKL2b17t0ecnC9UWrVq5f4P0hhj+vXrZzZv3nzB\n",
              "fbg453qQFxUVmcDAQFNZWWmMMebs2bOmffv25tChQ3Xeh4vjbahwPpzx888/m8DAQFNaWuqxncdG\n",
              "w6jtfBjDY8MYY3jppx7Nnz9fSUlJ6tOnT419TzzxhGJiYnTXXXfp22+/lST98MMPqqysVIcOHdzr\n",
              "IiIiVFBQcN598M69996rmJgY3X///Tpx4oSOHDmi0NBQ+fr++n6HLpdL4eHhKigoqPM+XLw/no/z\n",
              "bed8OCM3N1dt2rTRiy++qL59+2rAgAHaunUrj40GUtv5+E1Tf2wQKvXkq6++0po1a/TUU0/V2Pfm\n",
              "m2/qwIED2rdvnwYMGKARI0Y0wIRN00cffaR9+/Zpz549CgkJ0cSJExt6pCattvPBebq8qqqqdPjw\n",
              "YV1//fXavXu3XnnlFd11112qqqpq6NGapNrOR1FREY8NiWtU6suiRYtMhw4dTOfOnU3nzp2Nn5+f\n",
              "adeunVm0aFGNtX5+fub77783xhjj7+9f68s759sH7x07dswEBATw9LYlfjsf59vO+XDGiRMnTLNm\n",
              "zUxVVZV7W9++fc0777zDY6MB1HY+/vj/+6b62OAZlXrywAMPqLCwUPn5+crPz1diYqKWLFmi1NRU\n",
              "FRUVudetWbNG7du3V9u2bSVJY8eOVWZmpiRp165d+u677zRw4MAL7sOFnTp1SiUlJe77K1asUO/e\n",
              "vc/7yd513YcLq+181LZdOv+nsHM+6i4kJES33HKL3n//fUlSXl6e8vLylJSUxGOjAdR2Pq677joe\n",
              "GxLPqDjltwtof/75Z9OnTx/Ts2dP06tXL3PzzTebvXv3utcdP37cDBkyxERGRprrr7/efPDBBxe1\n",
              "DxeWm5tr4uLiTExMjOnZs6dJTk42eXl5xhhjDhw4YBITE01UVJTp06eP2bdvn/v76roP51fb+Tjf\n",
              "eTKG8+GU3NxcM2jQIPf/m1avXm2M4bHRUM51Pnhs/IoPJQQAANbipR8AAGAtQgUAAFiLUAEAANYi\n",
              "VAAAgLUIFQAAYC1CBQAAWItQAQAA1iJUAACAtQgVAABgLUIFAABY6/8BaEyMQiiLKMUAAAAASUVO\n",
              "RK5CYII=\n",
              "\">\n",
              "      </div>\n",
              "      <script type=\"text/javascript\">\n",
              "        (() => {\n",
              "          const chartElement = document.getElementById(\"chart-cba456f2-8f47-46a5-9a48-7fda730fae36\");\n",
              "          async function getCodeForChartHandler(event) {\n",
              "            const chartCodeResponse =  await google.colab.kernel.invokeFunction(\n",
              "                'getCodeForChart', [\"chart-cba456f2-8f47-46a5-9a48-7fda730fae36\"], {});\n",
              "            const responseJson = chartCodeResponse.data['application/json'];\n",
              "            await google.colab.notebook.addCell(responseJson.code, 'code');\n",
              "          }\n",
              "          chartElement.onclick = getCodeForChartHandler;\n",
              "        })();\n",
              "      </script>\n",
              "      <style>\n",
              "        .colab-quickchart-chart-with-code  {\n",
              "            display: block;\n",
              "            float: left;\n",
              "            border: 1px solid transparent;\n",
              "        }\n",
              "\n",
              "        .colab-quickchart-chart-with-code:hover {\n",
              "            cursor: pointer;\n",
              "            border: 1px solid #aaa;\n",
              "        }\n",
              "      </style>"
            ]
          },
          "metadata": {}
        },
        {
          "output_type": "display_data",
          "data": {
            "text/plain": [
              "<google.colab._quickchart_helpers.SectionTitle at 0x7f6671347520>"
            ],
            "text/html": [
              "<h4 class=\"colab-quickchart-section-title\">Values</h4>\n",
              "<style>\n",
              "  .colab-quickchart-section-title {\n",
              "      clear: both;\n",
              "  }\n",
              "</style>"
            ]
          },
          "metadata": {}
        },
        {
          "output_type": "display_data",
          "data": {
            "text/plain": [
              "from matplotlib import pyplot as plt\n",
              "_df_1['batsman_run'].plot(kind='line', figsize=(8, 4), title='batsman_run')\n",
              "plt.gca().spines[['top', 'right']].set_visible(False)"
            ],
            "text/html": [
              "      <div class=\"colab-quickchart-chart-with-code\" id=\"chart-167dac32-d70c-4473-a1ac-02265bd33aa9\">\n",
              "        <img style=\"width: 180px;\" src=\"data:image/png;base64,iVBORw0KGgoAAAANSUhEUgAAAqUAAAFuCAYAAAC4H2HYAAAAOXRFWHRTb2Z0d2FyZQBNYXRwbG90\n",
              "bGliIHZlcnNpb24zLjguMCwgaHR0cHM6Ly9tYXRwbG90bGliLm9yZy81sbWrAAAACXBIWXMAAA9h\n",
              "AAAPYQGoP6dpAABAmklEQVR4nO3deVyc5b3///csMEDYlxDWkEiiZoNEjdFsatS6xKC1fj21bYLa\n",
              "2uO3Pa2N55zq+Wqr5/QYPUvaHL/tz27Gar61VVMl1iVqbbOpTaySGDU7BMIatkBYhmHm/v0BDAwh\n",
              "bAHuGeb1fDx8MFzXPTPXZBx4c133/bkshmEYAgAAAExkNXsAAAAAAKEUAAAApiOUAgAAwHSEUgAA\n",
              "AJiOUAoAAADTEUoBAABgOkIpAAAATEcoBQAAgOkIpQAAADAdoRQAAACmI5QCCApXXHGFHnroIbOH\n",
              "AQA4C0IpAAyBxWLRO++8Y/YwAGDCIpQCQBAyDEMdHR1mDwMAvAilAIJGQ0ODvvjFLyoqKkrZ2dl6\n",
              "9tlnJUkVFRVauXKlkpOTFRUVpXnz5unFF1/03m/27NmSpJtuukmRkZG6/vrrJUkvvPCCZs+erejo\n",
              "aCUmJurqq6/23ueKK67QP/zDP+j2229XdHS00tPT9bvf/U6ffPKJLrvsMkVFRWnhwoU6ePCg9z4v\n",
              "vviiLrroIsXFxSkxMVGrVq1SUVGRt/+ZZ55Renq6fv7znysrK0sxMTG67bbb1NjYOOhrLy4ulsVi\n",
              "0a9//Wvl5OQoIiJCH374ofLz8/XVr37V59i+pzpYLBY9+eSTWrx4sSIjIzV37lzt3LlzOP/0ADAo\n",
              "QimAoPHrX/9ad955p+rr6/U///M/+vrXv65du3bJ7Xbrrrvu0tGjR1VXV6fvfve7uuOOO/Tpp59K\n",
              "kvfrq6++qtOnT+uNN95QS0uLvvrVr+rJJ59UY2OjTpw4oX/5l3/xeb7nnntO3/rWt9TQ0KB/+qd/\n",
              "0t13360HHnhAzz//vGpra5WRkaHvfOc73uOjoqL09NNPq6amRgcOHJBhGLrjjjt8HrOyslIHDhzQ\n",
              "559/rgMHDqiwsFD//d//PeR/g6efflp//OMfdfr0ac2fP3/I9/vVr36l3/zmN2poaNCKFSv0la98\n",
              "Zcj3BYChIJQCCBo33HCDbrrpJtntdt1www265ZZb9PTTTys9PV1f/OIXFRkZqZCQEN19992aNWuW\n",
              "3n333QEfLyQkRJ9//rlqamoUFhamq666yqf/1ltv1bJly2S1WpWfn+8NsllZWQoNDdUdd9yh3bt3\n",
              "e4+/7rrrlJOTI5vNpsTERP3rv/6rPvjgAzU1NXmPsdvt+o//+A+Fh4crJSVFN998s89jDOYHP/iB\n",
              "MjIyZLPZ5HA4hny/+++/X9nZ2bLb7frGN76hkpISVVVVDfn+ADAYQimAoDFt2rQzvi8tLVV9fb2+\n",
              "8Y1vaNq0aYqOjlZsbKw+/fRTVVdXn/WxIiIi9Oabb+qdd97R+eefr7lz52rDhg0+x6SkpHhvT5o0\n",
              "qd+23oFz27ZtWrFihVJSUhQdHa3ly5dLks84EhMTFRISctbHGO6/wVClpqb6PKekYT0vAAyGUAog\n",
              "aBQXF5/xfXp6uh544AEdOHBA27Zt06lTp9TQ0KDZs2fLMAzvsRaL5YzHW7p0qV5++WXV1NToySef\n",
              "1Pe//329/fbbIxpbe3u7Vq5cqeuuu06HDh1SY2Ojtm3bJkk+4zhXVqvvj/2oqCg1Nzf7tJWXl4/a\n",
              "8wHAUBFKAQSN119/Xa+99prcbrfefPNNvfzyy7rzzjt16tQpRUREKCEhQS6XS08++aT3PNJuU6ZM\n",
              "8bkoqbKyUi+++KIaGhpksVgUGxsri8Uiu90+orG1t7ertbVVcXFxioqKUnl5+bjUVb344ov15z//\n",
              "WQcOHJDL5dJPfvITn4urAGC8EEoBBI277rpLv/71rxUbG6tvfetbeuqpp7R06VL96Ec/Umtrq5KT\n",
              "k5WVlaWqqiotXrzY577r1q3TE088odjYWK1cuVKGYeipp57S9OnTFRkZqS996Uv693//d1155ZUj\n",
              "GltkZKR+9atf6Uc/+pH3Cv/bbrttNF72gL7yla/o7/7u73T55ZcrIyNDDQ0NZ7x2ABgPFmM014UA\n",
              "AACAEWCmFAAAAKYjlALABLBjxw5FRkb2+9+Xv/xls4cHAINi+R4AAACmY6YUAAAApiOUAgAAwHSE\n",
              "UgAAAJgu4ENp3239AAAAEHgCPpQeP37c7CEAAADgHAV8KAUAAEDgI5QCAADAdIRSAAAAmI5QCgAA\n",
              "ANMRSgEAAGA6QikAAABMRygFAACA6QilAAAAMB2hFAAAAKYjlAIAAMB0hFIAAIAgYhiGOtwes4dx\n",
              "BkIpAABAEGjv8OiVj8t080936Zc7iswezhnsZg8AAAAAY6f2tFO//WuJnvvguKqbnJKkxrYO/f3y\n",
              "6bJYLCaPrgehFAAAYAL6rLxRG3cVqWBvudo7OpfrJ0c5tPqyqfrywky/CqQSoRQAAGDCcHsMvfN5\n",
              "lTbuKtIHx+q87TnpMbpryTRdPydFoXb/PHuTUAoAABDgGttcemFPqX7zfrFK61olSTarRdfPmaI7\n",
              "F0/TgsxYv5sZ7YtQCgAAEKCKapr1m/eK9eKHpWpud0uSYiNC9OWFmfraoqlKjQ03eYRDRygFAAAI\n",
              "IIZhaOeRGm3cVaw/H6yWYXS2z5gcqTsXT9Mt89MUHmozd5AjQCgFAAAIAK3tbr38cZmeea9Ih6pO\n",
              "e9tXXDBZdy6epsXZCX6/RD8QQikAAIAfqzjVqmffP67nd5eoocUlSZoUatNtF2dozeVZmpY4yeQR\n",
              "jg5CKQAAgJ8xDEMflTTo6V1FenN/pdyezjX6jPhwrbksS//rkgxFh4WYPMrRRSgFAADwE+0dHr3+\n",
              "SYU27irS3hOnvO2LpsfrrsXTtOLCZNmsgbtEPxBCKQAAgMn623Up1G7Vzbmpyr98mmalRps8wrFH\n",
              "KAUAADDJ5xWduy69Uui769LXFk3VHZdmKiHSYfIIxw+hFAAAYBwF8q5LY2nYodTpdOr+++/X1q1b\n",
              "FRYWppycHG3atElZWVlyOBwKD+8s0vrggw/q9ttvlyQdPnxYa9asUU1NjWJiYvTMM89o9uzZg/YB\n",
              "AABMFGfbdem6OVN0V4DsujSWhh1KH3jgAVksFh06dEgWi0WVlZXevt///vfKzc094z7f/OY3dc89\n",
              "9yg/P18vvfSS8vPztWfPnkH7AAAAAt1E2nVpLFkMo3sfgME1NzcrJSVFJ06cUHS07wm3WVlZeuWV\n",
              "V84IpdXV1crOzlZdXZ3sdrsMw1BKSop27typ6Ojos/ZlZ2cPaUxr167V+vXrh/oSAAAAxpxhGNp1\n",
              "pFZP7yqaULsujaVhzZQePXpU8fHxeuyxx/TOO+8oPDxcjzzyiFasWCFJWr16tQzD0MKFC/X4448r\n",
              "KSlJpaWlSklJkd3e+VQWi0WZmZkqKSlRTEzMWfv6C6VOp1NOp9Onze12j+iFAwAAjLaz7bp01QWT\n",
              "defiLC3JTgzqJfqBDCuUdnR06Pjx45o1a5Yef/xxffzxx7rmmmv06aefavv27crMzJTL5dJDDz2k\n",
              "NWvW6PXXXx/Vwa5bt06PPvqoT9uiRYtG9TkAAACGK1h2XRpLw1q+r6mpUXJystrb22WzdU45X3LJ\n",
              "JVq3bp2uvvpq73EVFRWaOXOmmpqaRnX5vr+Z0ocfflgbNmwY6esHAAAYke5dlzbuKtIbQbLr0lga\n",
              "1kxpYmKiVqxYoa1bt+qGG25QUVGRioqKdOGFF6qhoUGxsbGSpOeff17z58+XJE2ePFkLFizQpk2b\n",
              "lJ+fr82bNys9Pd0bOgfq68vhcMjh8K3X1R2OAQAAxkN7h0dv7K/Q0zuDb9elsTSsmVJJOnbsmO6+\n",
              "+27V1NTIarXqBz/4gebPn69bb71VbrdbhmFo+vTp2rBhg7KysiRJBw8eVH5+vmpraxUdHa2NGzdq\n",
              "7ty5g/YNBRc6AQCA8XC2XZfyclJ15+Lg2HVpLA07lPobQikAABhL7Lo0PtjRCQAAoA+3x9CfPq/S\n",
              "xl3Fev9Yrbd9XnqM7lo8TTfMDc5dl8YSoRQAAKBL965Lz75/XCV1LZJ677qUpQWZcZR0GiOEUgAA\n",
              "EPT623UpJjxEd1zKrkvjhVAKAACCUveuSxt3Felddl0yHaEUAAAEldZ2t14pLNPGXey65E8IpQAA\n",
              "ICj0t+tSRKhNt12UrjWXZ2l6UqTJIwxuhFIAADBhnW3XpfS4cOVfzq5L/oRQCgAAJhzvrku7irW3\n",
              "tMHbvmh6vO5cPE1Xs+uS3yGUAgCACaP2tFPP7y7Rs++fuetS/uIszU6NMXmEOBtCKQAACHj97bqU\n",
              "1GvXpUR2XfJ7hFIAABCQ2HVpYiGUAgCAgNLU5tILH57Qb94rZtelCYRQCgAAAsLZdl368sJMrb6M\n",
              "XZcCHaEUAAD4LXZdCh6EUgAA4HfaXG69/DG7LgUTQikAAPAbFada9dz7x/Vbdl0KOoRSAABguo9K\n",
              "6vX0zv53Xbrt4gzFhLPr0kRHKAUAAKY4265Ll06L111L2HUp2BBKAQDAuOp31yWbVXm57LoUzAil\n",
              "AABgXByobNTGncV6ubCMXZdwBkIpAAAYMwPtunTn4izdODeVXZcgiVAKAADGALsuYbgIpQAAYNQU\n",
              "1zTrGXZdwggQSgEAwDkxDEPvHa3V0zt9d13KnhypOxdn6Zb5aYoIJXJgYPwfAgAARqR716VndhXr\n",
              "YFWTt/3K85N015Jp7LqEYSGUAgCAIWnv8KisoVUldS3667FaPb+7RPXsuoRRQigFAACSJI/HUFVT\n",
              "m0rrWlVa16LS+haV1LXoRF2rSutbVNnY5l2a78auSxgthFIAAIKEYRg61erqDJ1dgbMzfLbqRF2L\n",
              "TtS3qt3tGfAxwkNsyogP17TESbplfrqumcWuSxgdhFIAACaQ1na3TtR3znL6znh2Bs8mZ8eA97dZ\n",
              "LUqNDVNmfIQy4iKUER+h9LhwZcRHKDM+QgmTQjlPFGOCUAoAQADpcHtUcapNpfWdy+oldd0BtHPG\n",
              "82TXtp0DSYpyKKMraGbEdYbN9PhwZcRFKCUmTHYbxewx/gilAAD4EcMwVNvc7l1aP1Hve35nRUOb\n",
              "OjzGgI8R5bArPT5CGXHhnTOe8RHK6Aqd6XERCg+1jdOrAYaOUAoAwDg77ezoDJpds5s9tzuX3Ftd\n",
              "7gHvH2qzKj0u3Bs8e894ZsSHKyY8hCV2BBxCKQAAo6y9w6Pyht4XE7V2Lbd3htC65vYB72+xSFOi\n",
              "wzpnNuPDfc7vzIgPV3JUmKxcXIQJhlAKAMAweTyGqpucPedy9rqa/URdZ+mkQVbYFRsR4g2b3edz\n",
              "dl9MlBobJoedJXYEF0IpAAD9ONXi8obOkl5L66X1XaWTOgYunRQWYu2Z3exeYvfOeIYrKoyankBv\n",
              "hFIAQFBqc7l9LiLqO+PZ1DZ46aSUmDCfczk7yyd13k6KdHBeJzAMhFIAwITk9hiqONXqcz5nSa8L\n",
              "i6qHUDopMdLhvWq9+2v31exTYsIUQukkYNQQSgEAAckwDNU1t6u0vrVX+aSe2c6y+tZBSydFOuw+\n",
              "heF7L7Onx4UrIpRfk8B44dMGAPBbzc6OM3Ym6n27pX3g0kkhNovSYs88n7N7xjM2gtJJgL8glAIA\n",
              "TONyd5VOOste7LWDlE6SukondReG7zPjmRwdxr7sQIAglAIAxoxhGDrZ5PS9er3X7YpTrYOWTooJ\n",
              "D1FGr1qdvQvGp8WGKyyE0knAREAoBQCck1OtLp/zOXvvxX6ivlXOQUonOexW37JJcT1XsmfERyia\n",
              "0klAUCCUAgAG1OZyq6yh9cxtMbtC6KlW14D3t1qklJjwM65e7/4+KYrSSQAIpQAQ9NweQ5WNbT6h\n",
              "80SvgvFVjYOXTkqYFNrrYiLfvdhTYimdBGBwhFIAmOAMw1B9i8s7u9m9F/uJriX2soZWudwDn9g5\n",
              "KdTmUxi+917s6XHhmuTg1wmAc8NPEQCYAFraO3SivlUltb7bYXbPfjYPUjrJbrUoLa5n//WMXnux\n",
              "Z8SFK35SKEvsAMYUoRQAAoDL7VFFQ1tP0KxvUUnXlewn6ltUc3rw0knJ0Q6foOktnxQfoSmUTgJg\n",
              "MkIpAPgBwzB08rSzp2RSne+MZ8WpNrkHqZ0UHWbvOZczoSd4ZsR1LrFTOgmAPyOUAsA4aWzrOq+z\n",
              "1/mc3Xuxn6hvUZtr4NJJoXar0uN6n8/Ze7k9QjHhlE4CELgIpQAwSpwdbpXVt/aUTOoz29nQMrTS\n",
              "Sem9r15P6AmeSZEOWVliBzBBEUoBYIg8HkNVTW1dFxP11Oo80VUwvqqpTcYguxPFTwrtKZnUZ8Yz\n",
              "NTZcoXZKJwEIToRSAOhiGIYaWlw+s5vde7GfqG9VWX2r2t0DL7FHhNq8QTO9a4YzM77n+0hKJwFA\n",
              "v/jpCCCotLa7O8/nrG/pM+PZ+fW0s2PA+9utFqXGhp9xPmf37GcCpZMAYESGHUqdTqfuv/9+bd26\n",
              "VWFhYcrJydGmTZt0+PBhrVmzRjU1NYqJidEzzzyj2bNnS9KI+wBguDrcHlWcajvjfM7ugvE1pwff\n",
              "nSgpytF1MVHPuZ3pXQXjp0SHyc7uRAAw6oYdSh944AFZLBYdOnRIFotFlZWVkqRvfvObuueee5Sf\n",
              "n6+XXnpJ+fn52rNnzzn1AUBfhmGo5nS7T2F4b6H4+haVNwxeOinKYfcpEN9ZPqlniZ3SSQAw/iyG\n",
              "Mdhp+T2am5uVkpKiEydOKDo62tteXV2t7Oxs1dXVyW63yzAMpaSkaOfOnYqOjh5RX3Z29pDGtHbt\n",
              "Wq1fv374rxyA32pqc/nsSHSia2m9pOt2q2vg3YlCbZ2lkzqLw/femagzeMaEh7DEDgB+ZlgzpUeP\n",
              "HlV8fLwee+wxvfPOOwoPD9cjjzyi2NhYpaSkyG7vfDiLxaLMzEyVlJQoJiZmRH39hVKn0ymn03fp\n",
              "ze0e+JcTAP/T3uFRWUOr7xK793aL6gcpnWSxSCnRYd7C8H1nPCdHUToJAALNsEJpR0eHjh8/rlmz\n",
              "Zunxxx/Xxx9/rGuuuUavvfbaWI3Px7p16/Too4/6tC1atGhcnhvA0Hk8hqqbnL0uJupZYj9R16KK\n",
              "xsFLJ8VFhPSa3fQtFJ8aGyaHnSV2AJhIhhVKMzMzZbVa9ZWvfEWSNH/+fE2bNk3Hjx9XRUWFOjo6\n",
              "vMvwJSUlyszMVHR09Ij6+vPggw9q7dq1Pm0PP/zwCF86gHNxqsXVtRuR717sJ+padKKhVe0dA5dO\n",
              "Cgux9tqZKMJbMD6z63ZUGLsTAUAwGVYoTUxM1IoVK7R161bdcMMNKioqUlFRkRYvXqwFCxZo06ZN\n",
              "ys/P1+bNm5Wenu5dgh9pX18Oh0MOh8OnzWZjtgQYC22urtJJXYXh+17N3tQ2cOkkm9Wi1NiwztDZ\n",
              "vcTeq2B8YiSlkwAAPYZ1oZMkHTt2THfffbdqampktVr1gx/8QLfeeqsOHjyo/Px81dbWKjo6Whs3\n",
              "btTcuXMlacR9Q8GFTsDIuD2GKk51Bs4TvS4qKq3vbDvZNHjppMRIhzLi+9+LPSWG0kkAgKEbdij1\n",
              "N4RSoH+GYai2ud2nMHzv2c7yhlZ1DFI6KbK7dJK3Xme492Ki9LgIhYeyUgEAGB3s6AQEsGZnxxk7\n",
              "E53otcTe0j546aS0uHCf8zl7z3jGRlA6CQAwPgilgB9r7/CovKH1jJ2JTnTNftY1tw94f4tFSo4K\n",
              "67x4yKdeZ+eMZ3JUGKWTAAB+gVAKmMjjMXTytLPn6vVa34LxFadaNcgKu2IjQs44n7M7eKbFhVM6\n",
              "CQAQEAilwBg71eo643xO74xn/dBKJ6XHdc1uxneXT+q5mj2a0kkAgAmAUAqco87SST2F4Ut678Ve\n",
              "16LGQUonWS1Samx4/7Od8eFKinRwXicAYMIjlAKDcHsMVTa29ey93utq9pK6FlUPqXRSaNfs5pl7\n",
              "safEhimE0kkAgCBHKEXQMwxDdc3tPWWT+uzFXt7QKpd74BM7J4XafArD996LPT0uXBGhfNQAABgI\n",
              "vykRFFraO7xBs6RX8DzRtcTePEjppBCbRWmx4d7zOTP77MUeR+kkAADOCaEUE9L2Qyf14t9OeC8w\n",
              "qh2kdFJ/wkNs3t2KJkeHydYVOi0WqeJU55Xxu4vqOtv63HeoAbW/wyxnPNrZjhvi4/XT2O/oxmMs\n",
              "fY4c6mP1d+BIn3M4zzvUf8/+jOZYzuWx+h/bufx7DvHxxvi9Hev/N8925yG//qE+7wjf24z4CC3I\n",
              "jOvnWYDARSjFhPTEmwf0aXnjOT1Gq8utQ1Wndajq9CiNCgBGz005qXrkpllKiHSYPRRgVBBKMSE9\n",
              "ces8/flAtfqeCdrfprpGn6P6P6Yf/RzY33FDec7hPO9QH2+ITepvp+HRHstQNjPudxyj/JxDfbz+\n",
              "juz38QLxvR3x2Ib2/vQ/Nv/59xzye9vv453L/6ODP1Z/+jusw+PR7qI6vbq3XLuO1OiRVbN107wU\n",
              "TiFCwCOUYkKakxajOWkxZg8DAMbE3tIG/fNL+3Swqknfef5jbSks17/fMkfJ0WFmDw0YMerQAAAQ\n",
              "YHIyYvXqPyzRfVfPUIjNonc+r9LV67fphT2lQ56FBfwNoRQAgAAUarfqvqtn6tV/WKJ56TFqauvQ\n",
              "P2/ep9VP71ZpXYvZwwOGjVAKAEAAu2BKtP5w7+V68PoL5LBbteNwjb7wk+16ZleRPB5mTRE4CKUA\n",
              "AAQ4u82qby4/T298d6kWZsWrpd2tR179TLf/4n0dPUkFEQQGQikAABPE9KRI/e6eRfq3vNmaFGrT\n",
              "nuJ6Xb9hh/6/vxxVh9tj9vCAARFKAQCYQKxWi752WZa2fm+Zls5IVHuHR0+8eUC3/Ow9fV5xbvWb\n",
              "gbFEKAUAYAJKj4vQs3ct1H9+aZ6iw+z6pOyUbnpyp9a/dVDOjoG3VgbMQCgFAGCCslgsuu3iDL2z\n",
              "drm+MDtZHR5D//PuEd305E4VljaYPTzAB6EUAIAJbnJ0mJ766kX66R0LlDApVIeqTuuLP9ulx17/\n",
              "XK3tzJrCPxBKAQAIAhaLRTfOS9Hba5fr5txUeQzpF9uP6foN2/XXY7VmDw8glAIAEEziJ4XqJ383\n",
              "X79ec7GmRIepuLZFt//iAz30yic67ewwe3gIYoRSAACC0IoLk/XW2mX68sIMSdKmD0p07fpt+svB\n",
              "apNHhmBFKAUAIEhFh4Vo3Rfn6bdfv1QZ8eEqP9Wm/I17dP8Le9XQ0m728BBkCKUAAAS5y7MTtfW+\n",
              "ZbpzcZYsFmnzRyd09frtenN/hdlDQxAhlAIAAEWE2vXDm2brpb+/TOclTVLNaaf+ftNH+tb/+0gn\n",
              "m5xmDw9BgFAKAAC8Lpoar9e+s1TfuvI82awWvfZJha758Ta9/PEJGYZh9vAwgRFKAQCAj7AQm/7p\n",
              "Cxeo4FuLdWFKtBpaXPre7/fq7t98qIpTrWYPDxMUoRQAAPRrTlqMtnx7sf7x2pkKtVn17oFqXbt+\n",
              "u3771xJmTTHqCKUAAOCsQmxWffuqGXrtO0uUmxGrJmeH/uXlT3THL/+q47XNZg8PEwihFAAADGpG\n",
              "cpQ233u5HrrxQoWFWPX+sVp94Sfb9asdx+T2MGuKc0coBQAAQ2KzWvT1pdO19b5lumx6gtpcHv3o\n",
              "tc/1pafe05HqJrOHhwBHKAUAAMMyNWGS/t/XL9Vjt8xVpMOuj0sadMOGnfrpn4/I5faYPTwEKEIp\n",
              "AAAYNqvVojsuzdRb31umK89PUrvbo//celB5/3eX9pedMnt4CECEUgAAMGKpseF6Ov8S/fj2HMVG\n",
              "hOizikbl/XSX/nPrAbW53GYPDwGEUAoAAM6JxWLRLfPT9fb3luuGuVPk9hj66Z+P6sb/2aG/Ha83\n",
              "e3gIEIRSAAAwKpKiHPrZVy7SU19doMRIh46ebNaXnnpP//rqZ2pp7zB7ePBzhFIAADCqrpuTonfW\n",
              "LtMXF6TJMKSndxXpup/s0HtHasweGvwYoRQAAIy62IhQrf9fudp45yVKjQlTSV2L7vjVX/XgH/ap\n",
              "sc1l9vDghwilAABgzFx5/mRt/d4yfXVRpiTp+d2lunb9dr17oMrkkcHfEEoBAMCYigoL0Y9unqvf\n",
              "3bNIWQkRqmxs013PfKj7fvex6pvbzR4e/AShFAAAjItF0xP0xneX6RtLp8lqkV4pLNc1P96m1/ZV\n",
              "yDDYqjTYEUoBAMC4CQ+16f/cOEt/+N+LNTM5UjWn2/Wt336kv9/0N1U3tpk9PJiIUAoAAMZdbkas\n",
              "Xv2HJfrOihmyWy3a+mmVrl6/TS9+WMqsaZAilAIAAFM47DatvWamtnx7ieakRauxrUP/9NI+rdm4\n",
              "R2UNrWYPD+OMUAoAAEw1KzVar/zvxfr+dRco1G7V9kMnde36bXru/WJ5PMyaBgtCKQAAMJ3dZtW9\n",
              "V5ynN767VBdPjVNzu1sPF3yqv/vlByqqaTZ7eBgHhFIAAOA3zkuK1AvfvEyP3DRLEaE27S6q03U/\n",
              "2a5fbD8qN7OmExqhFAAA+BWr1aL8xdO09b5lWpKdKGeHR4+9fkBf/NkuHaxsMnt4GCOEUgAA4Jcy\n",
              "4iP03N0L9cStcxUVZtfeE6e08skd2vDOYbV3eMweHkYZoRQAAPgtjyFddUGynvzyfKXEhMnlNvTj\n",
              "dw5p1f/dqWLONZ1Q7GYPAAAABBe3x1Bdc7tqTjt1ssmpmtPOXrd92+ua29XfqaQHKpv0zHvFemTV\n",
              "7PF/ARgTww6lWVlZcjgcCg8PlyQ9+OCDuv3228/aLkmHDx/WmjVrVFNTo5iYGD3zzDOaPXv2oH0A\n",
              "ACAwdAfN3iFzuEHzbCwWKT4iVImRDiVGhSop0qHkmDB9bdHUsXtBGHcjmin9/e9/r9zc3CG3f/Ob\n",
              "39Q999yj/Px8vfTSS8rPz9eePXsG7QMAAOYZ76DZedvReTvKocTIzvb4SaGy2zjjcKIb8+X76upq\n",
              "ffjhh3rrrbckSbfeequ+/e1v68iRI4qOjj5rX3Z29lgPDQCAoDNeQTOpK1QSNDFUIwqlq1evlmEY\n",
              "WrhwoR5//HElJSWdtb20tFQpKSmy2zufymKxKDMzUyUlJYqJiTlrX3+h1Ol0yul0+rS53e6RvAQA\n",
              "ACaM/oJmz+1xCppRDsVHEDQxcsMOpdu3b1dmZqZcLpceeughrVmzRq+//vpZ20fTunXr9Oijj/q0\n",
              "LVq0aFSfAwAAf+D2GKptdqqmqX3cgmbnbYImzGExDGPE2yNUVFRo5syZampqOmt7dXW1srOzVVdX\n",
              "J7vdLsMwlJKSop07dyo6OvqsfUOdKX344Ye1YcOGkb4EAADGzWBBs/dMJ0ETwWZYM6XNzc1yuVyK\n",
              "jY2VJD3//POaP3/+WdslafLkyVqwYIE2bdqk/Px8bd68Wenp6d7QOVBfXw6HQw6Hw6fNZrMN5yUA\n",
              "ADCq+gZN33M1RydoeoMlQRMT2LBCaVVVlW699Va53W4ZhqHp06fr2WefPWt7t5///OfKz8/XY489\n",
              "pujoaG3cuHFIfQAAmGE4QbO2uV3DWXMcStBM6roinaCJYHJOy/f+YO3atVq/fr3ZwwAA+LmBgmbv\n",
              "K89HK2j23CZoAkPBjk4AgIDVO2iePO1UzSgHzYRJoT3BkqAJjClCKQDArww1aJ5scqquZXSDZs8S\n",
              "OkETGG+EUgDAmOtwe1TX0n5G0OyvxNG5Bk2fWpoETSBgEEoBACPSHTS9s5cETQDngFAKAPAyK2j6\n",
              "nqtJ0ASCEaEUACa4oQRN785ABE0AJiGUAkAA6i9o+l4UNDpB86y1NAmaAEYZoRQA/ESH26O65q4L\n",
              "gUwKmklRDsVPCpXNahm7FwoA/SCUAsAYGixodt5uH9Wg6TObSdAEECAIpQAwTH2DpvfcTIImAIwY\n",
              "oRQANLZB02qR4gcJmt23CZoAghWhFMCENVDQPHm6+/boBc2z1dIkaALA4AilAAJK76Dps7f5qAVN\n",
              "31lMgiYAjA9CKQDTDTVonjztVP0oB83eS+gETQAwD6EUwJg4W9DsKdg+ekEzKdKhRIImAAQ0QimA\n",
              "IesOmtX9bDlJ0AQAnAtCKRDkCJoAAH9AKAUmoKEEze4l9dEMmn1raRI0AQBDRSgFAkR/QdNnNpOg\n",
              "CQAIYIRSwEQdbo9qm3uHy/EPmklRDsVFEDQBAOYilAKjbLCg2bt9tIJm59dQgiYAIGARSoEh6Bs0\n",
              "fWppjlLQ7K6dSdAEAAQjQimClqu7juYQgmZdc/uwHnsoQbN7CZ2gCQAAoRQTzEBB0/dczdEJmt5z\n",
              "MwmaAACcE0Ip/F7voHmya+tJgiYAABMLoRSmGGrQPNnkVH2La1iPbbVICd4SRgRNAAACAaEUo+Zs\n",
              "QbO/EkejHTSTIsO8gZOgCQBA4CGUYkDjGjS7LwQiaAIAEHQIpUGIoAkAAPwNoXSCGErQ7L49mkGz\n",
              "77maBE0AADAShFI/1l/Q7Px6Zi3NcwmaPrU0CZoAAMAEhNJx5nJ7VNt9lfkoB02b1aL4SaGDBs2k\n",
              "rqBpJWgCAAA/QSgdBYMFzd5L6KMVNL0hk6AJAAAmAELpMOwuqtOb+ytHLWh2bz1J0AQAAMGOUDoM\n",
              "3/rtRzrZ5Oy3j6AJAAAwcoTSYXjslrnauKtIHxbXq93t8em7MCVKy2YkacmMRF00NU4Ou82kUQIA\n",
              "AAQeQukwXDMrWdfMSlZLe4d2F9Vpx+Ea7Txco4NVTdpf1qj9ZY362V+OKjzEpkunx2vpjCQtnZGo\n",
              "GZMjZbEwMwoAAHA2hNIRiAi164rzJ+uK8ydLkqoa27TzcI12HqnRjsM1qjnt1F8OntRfDp6UJCVH\n",
              "O7QkuzOgLs5OVFKUw8zhAwAA+B2LYRiG2YM4F2vXrtX69evNHoaXYRg6UNmknYdrtP3wSe0uqpOz\n",
              "o+9Sf7SWzkjU0hmJuiQrXmEhLPUDAIDgRigdY20ut/52vF7bD5/UzsM1+rS80ac/1G7Vwqx4LZ2R\n",
              "qCUzEnXhlGguggIAAEGH5fsxFhZi0+LszmV7XS/VnHZq15HOc1F3HK5RZWObdh7pXPrXG1LCpFAt\n",
              "mZGoJdmJWjojSVNiwsx+CQAAAGOOUDrOEiMdystNU15umgzD0NGTp7WjK6B+cKxWtc3tKigsV0Fh\n",
              "uSRpxuRILZmRqGUzknTp9HhFhPKWAQCAiYeEYyKLxaLsyVHKnhylOxdPU3uHRx+V1HfOoh6p0b4T\n",
              "DTpcfVqHq09r465ihdgsWpAZp2Uzk7QkO1Fz0mLYkx4AAEwInFPqxxpa2vXe0dqumdSTOlHf6tMf\n",
              "GxGixeclepf7M+IjTBopAADAuWGm1I/FRoTqhrkpumFuigzD0PHaFu04fFI7Dtfo/aO1amhx6bVP\n",
              "KvTaJxWSpGmJk7rORU3UZeclKCosxORXAAAAMDSE0gBhsViUlThJWYmT9LXLstTh9mjviQZvAf+P\n",
              "SxtUVNOsoppmPffBcdmsFs3PiNWSrtJTOemxstusZr8MAACAfrF8P0E0trn0QddS/84jNSqqafbp\n",
              "j3LYddl5CV31UZM0NSGCXaYAAIDfYKZ0gogOC9G1s6fo2tlTJEmldS2dpaa6QuqpVpfe+qxKb31W\n",
              "JUlKjwv3boN6+XkJio0INXP4AAAgyDFTGgTcHkP7y05p55EabT90Uh+V1Mvl7nnbrRZpbnqslmZ3\n",
              "XjS1IDNOoXaW+gEAwPghlAahZmeH/lpU6z0f9XD1aZ/+iFCbFk1P0JLsRC2bmajzkiJZ6gcAAGOK\n",
              "5fsgNMlh11UXJOuqC5IlSRWnWr3L/DsP16i2uV3vHqjWuweqJUlTosO826AuyU5UQqTDzOEDAIAJ\n",
              "iJlS+PB4DH1e2ejdBnV3cZ3aOzw+x8xOjfbuMnXR1DiFhdhMGi0AAJgoCKUYUJvLrd1Fddp5pDOk\n",
              "fl7R6NPvsFu1cFq8ls1I0pIZibpgShRL/QAAYNiGvXyflZUlh8Oh8PBwSdKDDz6o22+/XYcPH9aa\n",
              "NWtUU1OjmJgYPfPMM5o9e7YkjbgP5gsLsWnZzCQtm5kkSTrZ5NSuIzXafvikdh6uUXWTs2vHqRpJ\n",
              "UmKko3Opv6uI/+ToMDOHDwAAAsSwZ0qzsrL0yiuvKDc316f9qquu0urVq5Wfn6+XXnpJTzzxhPbs\n",
              "2XNOfUPBTKl5DMPQ4erT2n7opHYeqdFfj9Wp1eX2Oeb85ChvAf9LpyUoPJSlfgAAcKZRCaXV1dXK\n",
              "zs5WXV2d7Ha7DMNQSkqKdu7cqejo6BH1ZWdnD2k8hFL/4exw62/H673no+4vP6Xe/3eF2qy6aGqc\n",
              "ls5M1NLsJM1OjZbVylI/AAAY4dX3q1evlmEYWrhwoR5//HGVlpYqJSVFdnvnw1ksFmVmZqqkpEQx\n",
              "MTEj6usvlDqdTjmdTp82t9t9xnEwh8Nu0+XnJery8xL1z9dJdc3teu9ojXYc6ryyv6yhVe8fq9X7\n",
              "x2r1HzqouIgQzc+Mk8NuldVqkdVikc0iWS2Wru8lm9Uii8Uim6Xze+9xVossFnW19zree7vv/dWr\n",
              "3SKbVT2Pa1Wv9q7nsfR5nl737X7cnjH7HuPz2L0e/6xj7uexOS8XABBshh1Kt2/frszMTLlcLj30\n",
              "0ENas2aN/u3f/m0sxnaGdevW6dFHH/VpW7Ro0bg8N4YvflKoVs5L1cp5qTIMQ8dqmr2zqO8frVF9\n",
              "i8tbdgpnGlZA7h1+LWce532sswTp3qHe0hWse9rH94+Fob/evmMe+DXyxwIA+Ldzuvq+oqJCM2fO\n",
              "1NGjR8dl+b6/mdKHH35YGzZsGOlLgElcbo8KSxt0qKpJHo8hj9G585TH6P6v83vDMOT2SG6j+3Zn\n",
              "n8cw5PEYXe197tt1fPcxHqOf+3cd7zbUq73zvp3tfY7zdD2P9zG7juk63tM1TsPb3jNOn/t2jReB\n",
              "q/cfC7ZeQdtqtZwZ6rvCb9/Aa+YfC2c/Rv2G8IH+OLJZLAqxWRVityrUZlWo3aJQm00hdotCbVaF\n",
              "2Kxy2Du/hnZ9DbER7gH0b1gzpc3NzXK5XIqNjZUkPf/885o/f74mT56sBQsWaNOmTcrPz9fmzZuV\n",
              "np7uDZYj7evL4XDI4fAt3G6zceFMIAqxWXVJVrwuyYo3eyjjzjAGC+G9gnfvUNvreLen/8DbO+Ab\n",
              "ZwnXgz32wGOR+ob93iHd57GG8AeBp/f9e4f6s/1B0Oc19h5z9x8pPn9cDOP1DpXbY6jzpCH+uhip\n",
              "UG9ItXjDaqg32HZ9f0bY9Q23/YXdvm1nPKZ9kONsVs5zB0w0rJnSY8eO6dZbb5Xb7ZZhGJo+fbo2\n",
              "bNigrKwsHTx4UPn5+aqtrVV0dLQ2btyouXPnStKI+4aCC50AjIaz/UHgG6T7Bm/1avf9Y2Ekf2yc\n",
              "EbZ9VgnUq73vLL/v6sGZIX2wP1bO/gfBQGN2ewy5PIbaOzxyuT0+X9t7fQ2k1QGbtTsAWxRqtym0\n",
              "T3A+M+x2HucTdn0CtdXn8bqD+JlhuW/QPvM4O6eQYIKjeD4AYEx1uD1yuY2esOr2yNUnuHZ/3xNq\n",
              "zwy7zq6vPW2Gt62/QOzyPpfh+1y9+l3uwPkVaLF0rjI5eoXe/k6VODPoDjAj7dPeedwlWfFKj4sw\n",
              "++UiCI3o6nsAAIbKbrPKbpNf1in2eAy5PD0ht28A7h1u+x5zRgDuvq83CLt7AnE/x/WEb3f/j9tn\n",
              "ltkw1NnX4ZGcZ39N5yopyqE9/+fqsXsC4CwIpQCAoGW1WuSw2uSw+19glkZ/lrn7+yPVp7X9cM0Z\n",
              "51NHOuzKvzzLnBeLoEcoBQDAT43mLPPJJqde21eugr3l+rikwdsearfqqvMnKy83VVdeMFlhIf4Z\n",
              "0DHxEUoBAJigGttc2rq/Ulv2lmvXkRp1T4xaLdLi7EStyknVF+ZMUXRYiLkDBUQoBQBgQmlzufWX\n",
              "g9UqKCzXnw5Ud56D2iU3I1Z5uam6cV6KJkeFmThK4EyEUgAAApzbY+j9o7UqKCzTm/sr1eTs8Pad\n",
              "lzRJN+emaVVuqqYmTDJxlMDACKUAAAQgwzC098QpFRSW6Y/7KnSyqeeS/NSYMN2Uk6pVuamalRJN\n",
              "fVMEBEIpAAAB5Eh1k7YUdl6wdLy2xdseGxGiG+emKC83TRdPjWN3KgQcQikAAH6uvKFVr+4tV0Fh\n",
              "uT6raPS2h4fYdO3sZOXlpmpJdpJC7VYTRwmcG0IpAAB+qL65Xa/vr1BBYbl2F9V52+1Wi5bPTNKq\n",
              "3FRdMytZEaH8KsfEwP/JAAD4iZb2Dr39WZW2FJZr26GT6uhV3P7SafHKy03T9XOmKG5SqImjBMYG\n",
              "oRQAABO1d3i04/BJFRSW6+3PqtTqcnv7ZqdGKy83VSvnpSo1NtzEUQJjj1AKAMA483gM7SmuU8He\n",
              "cr3+SYUaWlzevqkJEcrrunI+e3KUiaMExhehFACAcWAYhj6raNSWwnJt2VuuilNt3r6kKIdWzuu8\n",
              "cj4nPYYSTghKhFIAAMZQcU2ztuztDKJHqk9726Mcdl0/d4ryctO0aHqCbJRwQpAjlAIAMMqqm9r0\n",
              "x70VKthbrr2lDd72ULtVV184Waty0nTF+UkKC7GZN0jAzxBKAQAYBY1tLr25v1JbCsv13tEadV84\n",
              "b7VIi7MTlZebpmtnJys6LMTcgQJ+ilAKAMAItbnc+vOBahUUluvdg9Vq7/B4++ZnxiovJ1U3zktV\n",
              "UpTDxFECgYFQCgDAMHS4PXrvaK0KCsu19dNKnXZ2ePtmTI7UzfPTdNO8VGUmRJg4SiDwEEoBABiE\n",
              "YRj6uLRBWwrL9cd95ao53e7tS4sN1005qcrLTdUFU6K4ch4YIUIpAABncbiqSQWF5SrYW6bSulZv\n",
              "e1xEiG7sKuF0UWacrFw5D5wzQikAAL2UNbTq1b3lKigs1+cVjd72iFCbrp2VrLzcNC2ZkagQm9XE\n",
              "UQITD6EUABD06prb9fonFdpSWK7dxXXe9hCbRctnTlZebqpWXDhZEaH82gTGCp8uAEBQanZ26O3P\n",
              "qlRQWKYdh2vU0VXDyWKRLp0Wr7zcNF0/Z4piI0JNHikQHAilAICg0d7h0fZDJ1Wwt1xvf1apNldP\n",
              "Cac5adHKy0nTypwUpcSEmzhKIDgRSgEAE5rHY2h3cZ0KCsv1+icVOtXq8vZlJUQoLzdNq3JTdV5S\n",
              "pImjBEAoBQBMOIZh6NPyRhUUlunVvRWqbGzz9k2OcnhLOM1Ni6GEE+AnCKUAgAmjqKZZW7pKOB07\n",
              "2extjwqz64Y5KcrLTdWl0xNko4QT4HcIpQCAgFbd2KZX91VoS2GZ9p445W132K26+sJkrcpN1RXn\n",
              "J8lht5k4SgCDIZQCAALOqVaX3txfoS17y/Xe0VoZnRfOy2a1aEl2ovJyU3XNrGRFhYWYO1AAQ0Yo\n",
              "BQAEhDaXW3/6vFoFhWX6y8GTanf3XDl/0dQ45eWm6oa5KUqMdJg4SgAjRSgFAPitDrdHu47WqqCw\n",
              "TG99WqXTzg5v3/nJUVqVm6pVOanKiI8wcZQARgOhFADgVwzD0EclDdpSWKY/7qtQbXO7ty8tNlx5\n",
              "ualalZuqC6ZEmzhKAKONUAoA8AsHK5tUUFimLXvLdaK+1dsePylUK+d1Xjm/IDOOEk7ABEUoBQCY\n",
              "prSuRa/uK9eWwnIdqGzytk8KtekLs6doVW6qFmcnKsRmNXGUAMYDoRQAMK5qTzv1+icVKigs14fH\n",
              "673toTarrjg/SatyU7XigmSFh1LCCQgmhFIAwJg77ezQW59Wasvecu04XCO3p7OGk8UiXTY9QXm5\n",
              "qbpudopiIijhBAQrQikAYEw4O9zadvCkCvaW60+fV6nN1VPCaV56jFblpOqmnFQlR4eZOEoA/oJQ\n",
              "CgAYNW6Pob8W1WpLYble/6RCjW09JZymJ07ylnCanhRp4igB+CNCKQDgnBiGof1ljSooLNOr+8pV\n",
              "1ej09iVHO3TTvFTl5aZpTlo0V84DOCtCKQBgRI6dPK0tezuvnD9W0+xtjw6z68Z5KbopJ1WXTkuQ\n",
              "zUoQBTA4QikAYMgqT7Xpj/vKVVBYrk/KTnnbw0KsuvrCZOXlpmnZzEQ57Fw5D2B4CKUAgAGdanHp\n",
              "jf2dJZw+KKqV0XnhvGxWi5bOSFRebqqumTVFkQ5+pQAYOX6CAADO0Nru1p8OVKmgsFx/OVgtl9vw\n",
              "9l08NU55uam6YW6KEiIdJo4SwERCKAUASJJcbo92HqnRq4Xl2vpppZrb3d6+C6ZEKS83TTflpCg9\n",
              "LsLEUQKYqAilABDEPB5DH5XUq6CwXK99UqG65nZvX3pcuPJyU7UqJ03nT4kycZQAggGhFACC0IHK\n",
              "RhUUdl45X9bQ6m1PmBSqlfNStCo3TQsyYynhBGDcEEoBIEiU1rV4SzgdrGrytkc67PrC7CnKy03V\n",
              "5eclyG6zmjhKAMGKUAoAE1jNaade21ehgsIyfVTS4G0PtVl15QVJystN01UXTFZYCCWcAJiLUAoA\n",
              "E0xTm0tvfVqlgr3l2nWkRm5P55XzFot0+XkJystJ0xfmTFFMeIjJIwWAHoRSAJgAnB1u/eXgSW0p\n",
              "LNc7n1fJ2eHx9uVkxGpVTqpumpeiydFhJo4SAM6OUAoAAcrtMfTBsVptKSzX6/sr1NTW4e2bnjRJ\n",
              "N+emaVVOqrISJ5k4SgAYGkIpAAQQwzC078QpFRSW64/7ylXd5PT2TYkO06rcVK3KSdXs1GiunAcQ\n",
              "UEYcSjdu3Ki77rpLL7/8sm6++WZdccUVOn78uGJiYiRJa9as0fe+9z1JUnV1tVavXq2jR4/K4XDo\n",
              "Zz/7mZYtWzZoHwCg05Hq011XzpepuLbF2x4THqIb5qYoLzdVC7PiZbUSRAEEphGF0uLiYv3yl7/U\n",
              "okWLfNp//OMf6+abbz7j+AceeECLFi3Sm2++qT179uiWW25RUVGRQkJCBuwDgGBWcapVf9xboYK9\n",
              "Zdpf1uhtDw+x6ZpZycrLTdXSGUkKtVPCCUDgG3Yo9Xg8+vrXv64nn3xS999//5Du88ILL+jIkSOS\n",
              "pEsuuUSpqanatm2brr766gH7ACDYNLS06439lSooLNNfi+pkdG05b7datGxmkvJyU3X1hcma5ODs\n",
              "KwATy7B/qq1fv16LFy/WRRdddEbfAw88oIcfflizZs3SunXrNH36dNXW1srlcmnKlCne47KyslRS\n",
              "UjJgX3+cTqecTqdPm9vt7vdYAAgULe0deufzam0pLNO2QyflchvevoVZ8VqVm6ob5qYoflKoiaME\n",
              "gLE1rFC6f/9+bd68Wdu3bz+j77nnnlNGRoYMw9BPf/pTrVy5Up999tmoDVSS1q1bp0cffdSnre8p\n",
              "BAAQCFxuj3YerlFBYZne+qxKLe09f2DPSonWqtxU3ZSTqrTYcBNHCQDjZ1ihdMeOHSouLtaMGTMk\n",
              "SZWVlbrnnntUUVGhe++9V5JksVj07W9/W//4j/+o2tpaJSQkyG63q7Ky0jsjWlxcrMzMzAH7+vPg\n",
              "gw9q7dq1Pm0PP/zw8F4xAJjE4zH0t5J6FRSW6bV9FapvcXn7MuMjlNd15fyM5CgTRwkA5hhWKL33\n",
              "3nu94VOSrrjiCt13331auXKlqqqqlJycLEnavHmzkpOTlZCQIEm67bbb9NRTT+mRRx7Rnj17VFZW\n",
              "puXLlw/a15fD4ZDD4fBps9nYGg+A/zIMQ59XNGnL3nK9urdcZQ2t3r7ESIdWzuu8cj43I5YSTgCC\n",
              "2qicKe90OnXjjTfK6XTKarUqMTFRW7Zs8fY/8cQT+trXvqYZM2YoNDRUmzZt8l5dP1AfAASqktoW\n",
              "bdlbpoLCch2uPu1tj3LY9YU5U5SXm6rLpifIbuPKeQCQJIthGMbgh/mvtWvXav369WYPAwB0ssmp\n",
              "1/aVq2BvuT4uafC2h9qtWnHBZOXlpuqK8ycrLIQVHgDoi5oiAHAOmtpc2vpplQoKy7TrSI08XX/m\n",
              "Wy3S4uxErcpJ1RfmTFF0GCtAADAQQikADFOby62/HKxWQWG5/nSgWu0dHm9fbkas8nJTdeO8FE2O\n",
              "CjNxlAAQWAilADAEbo+h94/WqqCwTG/ur1STs8Pbd17SJN2cm6ZVuamamjDJxFECQOAilALAWRiG\n",
              "ob0nTqmgsEx/3Fehk009m3ekxoTpppxUrcpN1ayUaK6cB4BzRCgFgD6OVDdpS2HnBUvHa1u87bER\n",
              "IbpxboryctN08dQ4Wa0EUQAYLYRSAJBU3tCqV/eWq6CwXJ9VNHrbw0NsunZ2svJyU7UkO0mhdko4\n",
              "AcBYIJQCCFr1ze16fX+FCgrLtbuozttut1q0fGaSVuWm6ppZyYoI5UclAIw1ftICCCot7R16+7Mq\n",
              "bSks17ZDJ9Xh6SnVfOm0eOXlpun6OVMUNynUxFECQPAhlAKY8No7PNpx+KQKCsv19mdVanW5vX2z\n",
              "U6OVl5uqlfNSlRobbuIoASC4EUoBTFit7W7922uf6fVPKtTQ4vK2T02IUF7XlfPZk6NMHCEAoBuh\n",
              "FMCEFRZi1a4jNWpocSkpyqGV8zqvnM9Jj6GEEwD4GUIpgAnLYrHoX264UJEOuxZNT5CNEk4A4LcI\n",
              "pQAmtC/MnmL2EAAAQ0DBPQAAAJiOUAoAAADTEUoBAABgOkIpAAAATEcoBQAAgOkIpQAAADAdoRQA\n",
              "AACmI5QCAADAdIRSAAAAmI5QCgAAANMRSgEAAGA6u9kDOBdOp1NvvPGG3G63bDab2cNBH263W7t3\n",
              "79bChQt5f/wQ749/4/3xb7w//o33x/9MnTpV3/3udwc8xmIYhjFO4xl1jY2NiomJ0alTpxQdHW32\n",
              "cNAH749/4/3xb7w//o33x7/x/gQmlu8BAABgOkIpAAAATEcoBQAAgOkCOpQ6HA798Ic/lMPhMHso\n",
              "6Afvj3/j/fFvvD/+jffHv/H+BKaAvtAJAAAAE0NAz5QCAABgYiCUAgAAwHSEUgAAAJguYEPp4cOH\n",
              "dfnll2vmzJm65JJL9Omnn5o9pKDzne98R1lZWbJYLCosLPS2D/Te8L6Nj7a2Nt18882aOXOmcnJy\n",
              "dM011+jIkSOSpOrqal133XWaMWOG5syZo+3bt3vvN1AfRte1116refPmKTc3V0uXLtXHH38sic+P\n",
              "v9m4caMsFoteeeUVSXx+/EVWVpbOP/985ebmKjc3V7///e8l8fkJeEaAuvLKK42NGzcahmEYL774\n",
              "onHxxRebO6AgtG3bNqO0tNSYOnWq8fHHH3vbB3pveN/GR2trq/Haa68ZHo/HMAzDePLJJ43ly5cb\n",
              "hmEYd955p/HDH/7QMAzD2L17t5GWlma0t7cP2ofRVV9f7739hz/8wZg3b55hGHx+/ElRUZFx2WWX\n",
              "GYsWLTJefvllwzD4/PiLvr93uvH5CWwBGUqrqqqMqKgow+VyGYZhGB6Px0hOTjYOHz5s8siCU+8f\n",
              "DgO9N7xv5tmzZ48xdepUwzAMY9KkSUZFRYW375JLLjHefvvtQfswdjZu3Gjk5OTw+fEjbrfbWLFi\n",
              "hfHhhx8ay5cv94ZSPj/+ob9Qyucn8AXk8n1paalSUlJkt9slSRaLRZmZmSopKTF5ZBjoveF9M8+G\n",
              "DRuUl5en2tpauVwuTZkyxduXlZWlkpKSAfswNlavXq2MjAw9/PDDeu655/j8+JH169dr8eLFuuii\n",
              "i7xtfH78y+rVqzV37lzdfffdOnnyJJ+fCSAgQymAoXvsscd05MgRrVu3zuyhoI9nn31WpaWl+tGP\n",
              "fqTvf//7Zg8HXfbv36/NmzfroYceMnsoOIvt27dr3759+uijj5SYmKg1a9aYPSSMgoAMpRkZGaqo\n",
              "qFBHR4ckyTAMlZSUKDMz0+SRYaD3hvdt/P3Xf/2X/vCHP+iNN95QRESEEhISZLfbVVlZ6T2muLhY\n",
              "mZmZA/ZhbK1Zs0Z//vOflZ6ezufHD+zYsUPFxcWaMWOGsrKy9MEHH+iee+7RCy+8wOfHT3T/u4aE\n",
              "hOi+++7Tjh07+P0zAQRkKJ08ebIWLFigTZs2SZI2b96s9PR0ZWdnmzwyDPTe8L6Nr/Xr1+v555/X\n",
              "22+/rdjYWG/7bbfdpqeeekqStGfPHpWVlWn58uWD9mH0NDQ0qLy83Pv9K6+8ooSEBD4/fuLee+9V\n",
              "RUWFiouLVVxcrEWLFukXv/iF7r33Xj4/fqC5uVkNDQ3e759//nnNnz+fz89EYOL5rOfkwIEDxqJF\n",
              "i4wZM2YYF110kbFv3z6zhxR07rnnHiMtLc2w2WzG5MmTjfPOO88wjIHfG9638VFaWmpIMqZPn27k\n",
              "5OQYOTk5xsKFCw3DMIzKykrjmmuuMbKzs41Zs2YZ7777rvd+A/Vh9BQXFxuXXHKJMWfOHGPevHnG\n",
              "ihUrvBdt8PnxP70vdOLzY76jR48aubm5xty5c405c+YYq1atMoqKigzD4PMT6CyGYRhmB2MAAAAE\n",
              "t4BcvgcAAMDEQigFAACA6QilAAAAMB2hFAAAAKYjlAIAAMB0hFIAAACYjlAKAAAA0xFKAQAAYDpC\n",
              "KQAAAExHKAUAAIDpCKUAAAAw3f8PGg5W67D0nEcAAAAASUVORK5CYII=\n",
              "\">\n",
              "      </div>\n",
              "      <script type=\"text/javascript\">\n",
              "        (() => {\n",
              "          const chartElement = document.getElementById(\"chart-167dac32-d70c-4473-a1ac-02265bd33aa9\");\n",
              "          async function getCodeForChartHandler(event) {\n",
              "            const chartCodeResponse =  await google.colab.kernel.invokeFunction(\n",
              "                'getCodeForChart', [\"chart-167dac32-d70c-4473-a1ac-02265bd33aa9\"], {});\n",
              "            const responseJson = chartCodeResponse.data['application/json'];\n",
              "            await google.colab.notebook.addCell(responseJson.code, 'code');\n",
              "          }\n",
              "          chartElement.onclick = getCodeForChartHandler;\n",
              "        })();\n",
              "      </script>\n",
              "      <style>\n",
              "        .colab-quickchart-chart-with-code  {\n",
              "            display: block;\n",
              "            float: left;\n",
              "            border: 1px solid transparent;\n",
              "        }\n",
              "\n",
              "        .colab-quickchart-chart-with-code:hover {\n",
              "            cursor: pointer;\n",
              "            border: 1px solid #aaa;\n",
              "        }\n",
              "      </style>"
            ]
          },
          "metadata": {}
        }
      ]
    },
    {
      "cell_type": "markdown",
      "source": [
        "###`Q-7` No of players having runs above 3000"
      ],
      "metadata": {
        "id": "GzlCFBM_Y83g"
      }
    },
    {
      "cell_type": "code",
      "source": [
        "# code here\n",
        "batsman[batsman['batsman_run']>3000].shape[0]"
      ],
      "metadata": {
        "id": "JdNchHRWY1B-",
        "outputId": "13896c03-554e-4283-f9d7-52a72611b58d",
        "colab": {
          "base_uri": "https://localhost:8080/"
        }
      },
      "execution_count": 15,
      "outputs": [
        {
          "output_type": "execute_result",
          "data": {
            "text/plain": [
              "20"
            ]
          },
          "metadata": {},
          "execution_count": 15
        }
      ]
    },
    {
      "cell_type": "markdown",
      "source": [
        "###`Q-8` No of players having runs above mean value?"
      ],
      "metadata": {
        "id": "pMBEoCL1Y-vh"
      }
    },
    {
      "cell_type": "code",
      "source": [
        "# code here\n",
        "batsman[batsman['batsman_run']>batsman['batsman_run'].mean()].shape[0]"
      ],
      "metadata": {
        "id": "LgtViVFZZBIu",
        "outputId": "70068b45-6484-4351-c53c-12179885f980",
        "colab": {
          "base_uri": "https://localhost:8080/"
        }
      },
      "execution_count": 17,
      "outputs": [
        {
          "output_type": "execute_result",
          "data": {
            "text/plain": [
              "128"
            ]
          },
          "metadata": {},
          "execution_count": 17
        }
      ]
    },
    {
      "cell_type": "markdown",
      "source": [
        "###`Q-9`\n",
        "    i. Read `items.csv` making `item_name` as index.\n",
        "    ii. Show no of nan values\n",
        "    ii. Item price is given in $, so convert it to rupees without currency symbol.\n",
        "    iii. Make data type of newly made series as float.\n",
        "    iv. Fill nan with mean of the series\n",
        "\n",
        "\n",
        "How csv file looks\n",
        "\n",
        "```\n",
        "item_name\titem_price\n",
        "Chips and Fresh Tomato Salsa\t$2.39\n",
        "Izze\t$3.39\n",
        "Nantucket Nectar\t$3.39\n",
        "Chips and Tomatillo-Green Chili Salsa\t$2.39\n",
        "Chicken Bowl\t$16.98\n",
        "\n",
        "```"
      ],
      "metadata": {
        "id": "1UTQQImxZGLu"
      }
    },
    {
      "cell_type": "code",
      "source": [
        "# code here\n",
        "#1\n",
        "items = pd.read_csv(\"items.csv\", index_col = ['item_name']).squeeze(\"columns\")\n",
        "items"
      ],
      "metadata": {
        "id": "1xaWkoMJZFNK",
        "outputId": "871f0840-a846-4d3b-8fe0-ab0806b0564f",
        "colab": {
          "base_uri": "https://localhost:8080/"
        }
      },
      "execution_count": 72,
      "outputs": [
        {
          "output_type": "execute_result",
          "data": {
            "text/plain": [
              "50"
            ]
          },
          "metadata": {},
          "execution_count": 72
        }
      ]
    },
    {
      "cell_type": "code",
      "source": [
        "#2\n",
        "items.isna().sum()"
      ],
      "metadata": {
        "id": "aevOiS9gcuHq",
        "outputId": "e8116940-da68-4b3b-b5f0-d3f8e2d93535",
        "colab": {
          "base_uri": "https://localhost:8080/"
        }
      },
      "execution_count": 73,
      "outputs": [
        {
          "output_type": "execute_result",
          "data": {
            "text/plain": [
              "50"
            ]
          },
          "metadata": {},
          "execution_count": 73
        }
      ]
    },
    {
      "cell_type": "code",
      "source": [
        "#2ii\n",
        "def rupees(x):\n",
        "    try:\n",
        "        y = x[1:]\n",
        "    except:\n",
        "\n",
        "        y = x\n",
        "    return float(y)*85.16\n",
        "items.apply(rupees)"
      ],
      "metadata": {
        "id": "kGu06TpnZOnL",
        "outputId": "95529bf1-783f-4c79-e627-72a10942d714",
        "colab": {
          "base_uri": "https://localhost:8080/",
          "height": 489
        }
      },
      "execution_count": 74,
      "outputs": [
        {
          "output_type": "execute_result",
          "data": {
            "text/plain": [
              "item_name\n",
              "Chips and Fresh Tomato Salsa              203.5324\n",
              "Izze                                      288.6924\n",
              "Nantucket Nectar                          288.6924\n",
              "Chips and Tomatillo-Green Chili Salsa     203.5324\n",
              "Chicken Bowl                             1446.0168\n",
              "                                           ...    \n",
              "Steak Burrito                            1000.6300\n",
              "Steak Burrito                            1000.6300\n",
              "Chicken Salad Bowl                        958.0500\n",
              "Chicken Salad Bowl                        745.1500\n",
              "Chicken Salad Bowl                        745.1500\n",
              "Name: item_price, Length: 4622, dtype: float64"
            ],
            "text/html": [
              "<div>\n",
              "<style scoped>\n",
              "    .dataframe tbody tr th:only-of-type {\n",
              "        vertical-align: middle;\n",
              "    }\n",
              "\n",
              "    .dataframe tbody tr th {\n",
              "        vertical-align: top;\n",
              "    }\n",
              "\n",
              "    .dataframe thead th {\n",
              "        text-align: right;\n",
              "    }\n",
              "</style>\n",
              "<table border=\"1\" class=\"dataframe\">\n",
              "  <thead>\n",
              "    <tr style=\"text-align: right;\">\n",
              "      <th></th>\n",
              "      <th>item_price</th>\n",
              "    </tr>\n",
              "    <tr>\n",
              "      <th>item_name</th>\n",
              "      <th></th>\n",
              "    </tr>\n",
              "  </thead>\n",
              "  <tbody>\n",
              "    <tr>\n",
              "      <th>Chips and Fresh Tomato Salsa</th>\n",
              "      <td>203.5324</td>\n",
              "    </tr>\n",
              "    <tr>\n",
              "      <th>Izze</th>\n",
              "      <td>288.6924</td>\n",
              "    </tr>\n",
              "    <tr>\n",
              "      <th>Nantucket Nectar</th>\n",
              "      <td>288.6924</td>\n",
              "    </tr>\n",
              "    <tr>\n",
              "      <th>Chips and Tomatillo-Green Chili Salsa</th>\n",
              "      <td>203.5324</td>\n",
              "    </tr>\n",
              "    <tr>\n",
              "      <th>Chicken Bowl</th>\n",
              "      <td>1446.0168</td>\n",
              "    </tr>\n",
              "    <tr>\n",
              "      <th>...</th>\n",
              "      <td>...</td>\n",
              "    </tr>\n",
              "    <tr>\n",
              "      <th>Steak Burrito</th>\n",
              "      <td>1000.6300</td>\n",
              "    </tr>\n",
              "    <tr>\n",
              "      <th>Steak Burrito</th>\n",
              "      <td>1000.6300</td>\n",
              "    </tr>\n",
              "    <tr>\n",
              "      <th>Chicken Salad Bowl</th>\n",
              "      <td>958.0500</td>\n",
              "    </tr>\n",
              "    <tr>\n",
              "      <th>Chicken Salad Bowl</th>\n",
              "      <td>745.1500</td>\n",
              "    </tr>\n",
              "    <tr>\n",
              "      <th>Chicken Salad Bowl</th>\n",
              "      <td>745.1500</td>\n",
              "    </tr>\n",
              "  </tbody>\n",
              "</table>\n",
              "<p>4622 rows × 1 columns</p>\n",
              "</div><br><label><b>dtype:</b> float64</label>"
            ]
          },
          "metadata": {},
          "execution_count": 74
        }
      ]
    },
    {
      "cell_type": "code",
      "source": [
        "#3\n",
        "items = items.apply(rupees)"
      ],
      "metadata": {
        "id": "GXOka8MUc3Fh"
      },
      "execution_count": 75,
      "outputs": []
    },
    {
      "cell_type": "code",
      "source": [
        "#4\n",
        "items.fillna(items.mean())"
      ],
      "metadata": {
        "id": "eN08_eXzaQZ4",
        "outputId": "782c5738-eff1-4d9f-9bcd-32499672fd23",
        "colab": {
          "base_uri": "https://localhost:8080/",
          "height": 489
        }
      },
      "execution_count": 76,
      "outputs": [
        {
          "output_type": "execute_result",
          "data": {
            "text/plain": [
              "item_name\n",
              "Chips and Fresh Tomato Salsa              203.5324\n",
              "Izze                                      288.6924\n",
              "Nantucket Nectar                          288.6924\n",
              "Chips and Tomatillo-Green Chili Salsa     203.5324\n",
              "Chicken Bowl                             1446.0168\n",
              "                                           ...    \n",
              "Steak Burrito                            1000.6300\n",
              "Steak Burrito                            1000.6300\n",
              "Chicken Salad Bowl                        958.0500\n",
              "Chicken Salad Bowl                        745.1500\n",
              "Chicken Salad Bowl                        745.1500\n",
              "Name: item_price, Length: 4622, dtype: float64"
            ],
            "text/html": [
              "<div>\n",
              "<style scoped>\n",
              "    .dataframe tbody tr th:only-of-type {\n",
              "        vertical-align: middle;\n",
              "    }\n",
              "\n",
              "    .dataframe tbody tr th {\n",
              "        vertical-align: top;\n",
              "    }\n",
              "\n",
              "    .dataframe thead th {\n",
              "        text-align: right;\n",
              "    }\n",
              "</style>\n",
              "<table border=\"1\" class=\"dataframe\">\n",
              "  <thead>\n",
              "    <tr style=\"text-align: right;\">\n",
              "      <th></th>\n",
              "      <th>item_price</th>\n",
              "    </tr>\n",
              "    <tr>\n",
              "      <th>item_name</th>\n",
              "      <th></th>\n",
              "    </tr>\n",
              "  </thead>\n",
              "  <tbody>\n",
              "    <tr>\n",
              "      <th>Chips and Fresh Tomato Salsa</th>\n",
              "      <td>203.5324</td>\n",
              "    </tr>\n",
              "    <tr>\n",
              "      <th>Izze</th>\n",
              "      <td>288.6924</td>\n",
              "    </tr>\n",
              "    <tr>\n",
              "      <th>Nantucket Nectar</th>\n",
              "      <td>288.6924</td>\n",
              "    </tr>\n",
              "    <tr>\n",
              "      <th>Chips and Tomatillo-Green Chili Salsa</th>\n",
              "      <td>203.5324</td>\n",
              "    </tr>\n",
              "    <tr>\n",
              "      <th>Chicken Bowl</th>\n",
              "      <td>1446.0168</td>\n",
              "    </tr>\n",
              "    <tr>\n",
              "      <th>...</th>\n",
              "      <td>...</td>\n",
              "    </tr>\n",
              "    <tr>\n",
              "      <th>Steak Burrito</th>\n",
              "      <td>1000.6300</td>\n",
              "    </tr>\n",
              "    <tr>\n",
              "      <th>Steak Burrito</th>\n",
              "      <td>1000.6300</td>\n",
              "    </tr>\n",
              "    <tr>\n",
              "      <th>Chicken Salad Bowl</th>\n",
              "      <td>958.0500</td>\n",
              "    </tr>\n",
              "    <tr>\n",
              "      <th>Chicken Salad Bowl</th>\n",
              "      <td>745.1500</td>\n",
              "    </tr>\n",
              "    <tr>\n",
              "      <th>Chicken Salad Bowl</th>\n",
              "      <td>745.1500</td>\n",
              "    </tr>\n",
              "  </tbody>\n",
              "</table>\n",
              "<p>4622 rows × 1 columns</p>\n",
              "</div><br><label><b>dtype:</b> float64</label>"
            ]
          },
          "metadata": {},
          "execution_count": 76
        }
      ]
    },
    {
      "cell_type": "markdown",
      "source": [
        "###`Q-10`:\n",
        "    i. Find mean price\n",
        "    ii. Find 30th and 6th percentile value\n",
        "    iii. Plot Histogram on price with bin size 50\n",
        "    iv. No of items price lies between [1000 to 2000]\n",
        "\n"
      ],
      "metadata": {
        "id": "UHc_4e9cZK8r"
      }
    },
    {
      "cell_type": "code",
      "source": [
        "# code here\n",
        "# code here\n",
        "#1\n",
        "items.mean()"
      ],
      "metadata": {
        "id": "Eh3xX9FpZNmE",
        "outputId": "1eb32726-d1a4-4034-be4e-2a078a51e0ba",
        "colab": {
          "base_uri": "https://localhost:8080/"
        }
      },
      "execution_count": 77,
      "outputs": [
        {
          "output_type": "execute_result",
          "data": {
            "text/plain": [
              "635.5517622047244"
            ]
          },
          "metadata": {},
          "execution_count": 77
        }
      ]
    },
    {
      "cell_type": "code",
      "source": [
        "#2\n",
        "items.quantile(q=0.3)\n",
        "items.quantile(q=0.06)"
      ],
      "metadata": {
        "id": "hkLQJIDkdBNo",
        "outputId": "981ec597-6316-4b00-87e6-b389fe0ce3d9",
        "colab": {
          "base_uri": "https://localhost:8080/"
        }
      },
      "execution_count": 78,
      "outputs": [
        {
          "output_type": "execute_result",
          "data": {
            "text/plain": [
              "106.44999999999999"
            ]
          },
          "metadata": {},
          "execution_count": 78
        }
      ]
    },
    {
      "cell_type": "code",
      "source": [
        "#3\n",
        "items.plot.hist(bins=50)"
      ],
      "metadata": {
        "id": "DnlcL6otdDYA",
        "outputId": "ed1a2927-f6c7-48bb-af79-d1c5c5f2158f",
        "colab": {
          "base_uri": "https://localhost:8080/",
          "height": 447
        }
      },
      "execution_count": 79,
      "outputs": [
        {
          "output_type": "execute_result",
          "data": {
            "text/plain": [
              "<Axes: ylabel='Frequency'>"
            ]
          },
          "metadata": {},
          "execution_count": 79
        },
        {
          "output_type": "display_data",
          "data": {
            "text/plain": [
              "<Figure size 640x480 with 1 Axes>"
            ],
            "image/png": "[encoded data removed]"
          },
          "metadata": {}
        }
      ]
    },
    {
      "cell_type": "code",
      "source": [
        "items[(items>1000) & (items<2000)]"
      ],
      "metadata": {
        "id": "huVeOhZHdGw-",
        "outputId": "0b29c365-a8dc-4122-c2ec-6fd5500b883e",
        "colab": {
          "base_uri": "https://localhost:8080/",
          "height": 489
        }
      },
      "execution_count": 80,
      "outputs": [
        {
          "output_type": "execute_result",
          "data": {
            "text/plain": [
              "item_name\n",
              "Chicken Bowl     1446.0168\n",
              "Steak Burrito    1000.6300\n",
              "Barbacoa Bowl    1000.6300\n",
              "Steak Burrito    1000.6300\n",
              "Barbacoa Bowl    1000.6300\n",
              "                   ...    \n",
              "Barbacoa Bowl    1000.6300\n",
              "Steak Burrito    1000.6300\n",
              "Steak Burrito    1000.6300\n",
              "Steak Burrito    1000.6300\n",
              "Steak Burrito    1000.6300\n",
              "Name: item_price, Length: 419, dtype: float64"
            ],
            "text/html": [
              "<div>\n",
              "<style scoped>\n",
              "    .dataframe tbody tr th:only-of-type {\n",
              "        vertical-align: middle;\n",
              "    }\n",
              "\n",
              "    .dataframe tbody tr th {\n",
              "        vertical-align: top;\n",
              "    }\n",
              "\n",
              "    .dataframe thead th {\n",
              "        text-align: right;\n",
              "    }\n",
              "</style>\n",
              "<table border=\"1\" class=\"dataframe\">\n",
              "  <thead>\n",
              "    <tr style=\"text-align: right;\">\n",
              "      <th></th>\n",
              "      <th>item_price</th>\n",
              "    </tr>\n",
              "    <tr>\n",
              "      <th>item_name</th>\n",
              "      <th></th>\n",
              "    </tr>\n",
              "  </thead>\n",
              "  <tbody>\n",
              "    <tr>\n",
              "      <th>Chicken Bowl</th>\n",
              "      <td>1446.0168</td>\n",
              "    </tr>\n",
              "    <tr>\n",
              "      <th>Steak Burrito</th>\n",
              "      <td>1000.6300</td>\n",
              "    </tr>\n",
              "    <tr>\n",
              "      <th>Barbacoa Bowl</th>\n",
              "      <td>1000.6300</td>\n",
              "    </tr>\n",
              "    <tr>\n",
              "      <th>Steak Burrito</th>\n",
              "      <td>1000.6300</td>\n",
              "    </tr>\n",
              "    <tr>\n",
              "      <th>Barbacoa Bowl</th>\n",
              "      <td>1000.6300</td>\n",
              "    </tr>\n",
              "    <tr>\n",
              "      <th>...</th>\n",
              "      <td>...</td>\n",
              "    </tr>\n",
              "    <tr>\n",
              "      <th>Barbacoa Bowl</th>\n",
              "      <td>1000.6300</td>\n",
              "    </tr>\n",
              "    <tr>\n",
              "      <th>Steak Burrito</th>\n",
              "      <td>1000.6300</td>\n",
              "    </tr>\n",
              "    <tr>\n",
              "      <th>Steak Burrito</th>\n",
              "      <td>1000.6300</td>\n",
              "    </tr>\n",
              "    <tr>\n",
              "      <th>Steak Burrito</th>\n",
              "      <td>1000.6300</td>\n",
              "    </tr>\n",
              "    <tr>\n",
              "      <th>Steak Burrito</th>\n",
              "      <td>1000.6300</td>\n",
              "    </tr>\n",
              "  </tbody>\n",
              "</table>\n",
              "<p>419 rows × 1 columns</p>\n",
              "</div><br><label><b>dtype:</b> float64</label>"
            ]
          },
          "metadata": {},
          "execution_count": 80
        }
      ]
    },
    {
      "cell_type": "code",
      "source": [],
      "metadata": {
        "id": "eweaRdlddLuN"
      },
      "execution_count": null,
      "outputs": []
    }
  ]
}