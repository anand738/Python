{
 "cells": [
  {
   "cell_type": "code",
   "execution_count": 1,
   "metadata": {},
   "outputs": [
    {
     "name": "stdout",
     "output_type": "stream",
     "text": [
      "5\n"
     ]
    }
   ],
   "source": [
    "# User will input (3ages).Find the oldest one\n",
    "\n",
    "a = int(input(\"No 1\"))\n",
    "b = int(input(\"No 2\"))\n",
    "c = int(input(\"No 3\"))\n",
    "\n",
    "print(max(a,b,c))\n",
    "\n"
   ]
  },
  {
   "cell_type": "code",
   "execution_count": 4,
   "metadata": {},
   "outputs": [
    {
     "name": "stdout",
     "output_type": "stream",
     "text": [
      "98.60000000000001\n"
     ]
    }
   ],
   "source": [
    "# Write a program that will convert celsius value to fahrenheit\n",
    "cel = int(input(\"Enter temp in celcius\"))\n",
    "\n",
    "fahrenheit = ((9/5)* cel) + 32\n",
    "print(fahrenheit)"
   ]
  },
  {
   "cell_type": "code",
   "execution_count": 5,
   "metadata": {},
   "outputs": [
    {
     "name": "stdout",
     "output_type": "stream",
     "text": [
      "44 34\n"
     ]
    }
   ],
   "source": [
    "# User will input (2numbers).Write a program to swap the numbers\n",
    "a = int(input(\"No 1\"))\n",
    "b = int(input(\"No 2\"))\n",
    "\n",
    "temp = a\n",
    "a=b\n",
    "b = temp\n",
    "print(a,b)"
   ]
  },
  {
   "cell_type": "code",
   "execution_count": 7,
   "metadata": {},
   "outputs": [
    {
     "name": "stdout",
     "output_type": "stream",
     "text": [
      "6\n"
     ]
    }
   ],
   "source": [
    "# Write a program that will give you the sum of 3 digits\n",
    "num = int(input(\"Enter the number\"))\n",
    "\n",
    "sum=0\n",
    "\n",
    "while num>0:\n",
    "    sum = sum + num%10\n",
    "    num = num//10\n",
    "\n",
    "print(sum)"
   ]
  },
  {
   "cell_type": "code",
   "execution_count": 15,
   "metadata": {},
   "outputs": [
    {
     "name": "stdout",
     "output_type": "stream",
     "text": [
      "32132\n"
     ]
    }
   ],
   "source": [
    "# Write a program that will reverse a four digit number.Also it checks whether the reverse is true.\n",
    "\n",
    "num = int(input(\"Enter the number\"))\n",
    "\n",
    "reverse = 0\n",
    "temp = num\n",
    "while num>0:\n",
    "    digit = num%10\n",
    "    reverse = reverse*10 + digit\n",
    "    num = num//10\n",
    "\n",
    "print(reverse)"
   ]
  },
  {
   "cell_type": "code",
   "execution_count": 16,
   "metadata": {},
   "outputs": [
    {
     "name": "stdout",
     "output_type": "stream",
     "text": [
      "The number is even\n"
     ]
    }
   ],
   "source": [
    "# Write a program that will tell whether the number entered by the user is odd or even.\n",
    "num = int(input(\"Enter the number\"))\n",
    "\n",
    "if num%2==0:\n",
    "    print(\"The number is even\")\n",
    "else:\n",
    "    print(\"The number is odd\")\n"
   ]
  },
  {
   "cell_type": "code",
   "execution_count": 18,
   "metadata": {},
   "outputs": [
    {
     "name": "stdout",
     "output_type": "stream",
     "text": [
      "Not a leap year\n"
     ]
    }
   ],
   "source": [
    "# Write a program that will tell whether the given year is a leap year or not.\n",
    "\n",
    "year = int(input(\"Enter the number\"))\n",
    "\n",
    "if (year%400==0) and year%100==0:\n",
    "    print(\"Leap year\")\n",
    "elif year%100==0 or year%4==0:\n",
    "    print(\"Leap year\")\n",
    "else:\n",
    "    print(\"Not a leap year\")"
   ]
  },
  {
   "cell_type": "code",
   "execution_count": null,
   "metadata": {},
   "outputs": [
    {
     "name": "stdout",
     "output_type": "stream",
     "text": [
      "The angles can form a triangle.\n"
     ]
    }
   ],
   "source": [
    "# Write a program that take a user inputr of three angles and will find out whether it can form a triangle or not.\n",
    "angle1 = float(input(\"Enter the first angle: \"))\n",
    "angle2 = float(input(\"Enter the second angle: \"))\n",
    "angle3 = float(input(\"Enter the third angle: \"))\n",
    "    \n",
    "    \n",
    "if (angle1 + angle2 + angle3 == 180) and (angle1 > 0 and angle2 > 0 and angle3 > 0):\n",
    "    print(\"The angles can form a triangle.\")\n",
    "else:\n",
    "    print(\"The angles cannot form a triangle.\")\n"
   ]
  },
  {
   "cell_type": "code",
   "execution_count": 20,
   "metadata": {},
   "outputs": [
    {
     "name": "stdout",
     "output_type": "stream",
     "text": [
      "Loss\n"
     ]
    }
   ],
   "source": [
    "# Write a program that will take user input of cost price and selling price and determines whether its a loss or a profit\n",
    "cost_price = int(input(\"Enter cost price\"))\n",
    "selling_price = int(input(\"Enter selling price\"))\n",
    "\n",
    "if cost_price-selling_price < 0:\n",
    "    print(\"Loss\")\n",
    "else:\n",
    "    print(\"Profit\")"
   ]
  },
  {
   "cell_type": "code",
   "execution_count": null,
   "metadata": {},
   "outputs": [
    {
     "name": "stdout",
     "output_type": "stream",
     "text": [
      "Simple Interest is :\n",
      "750.0\n"
     ]
    }
   ],
   "source": [
    "# Write a program to find the simple interest when the value of principle,rate of interest and time period is given.\n",
    "P= 5000   \n",
    "R=15    \n",
    "T=1  \n",
    "SI  = (P*R*T)/100\n",
    "print(\"Simple Interest is :\")\n",
    "print(SI)"
   ]
  },
  {
   "cell_type": "code",
   "execution_count": 24,
   "metadata": {},
   "outputs": [
    {
     "name": "stdout",
     "output_type": "stream",
     "text": [
      "50.24\n",
      "2009.6000000000001\n"
     ]
    }
   ],
   "source": [
    "# Write a program to find the volume of the cylinder. Also find the cost when ,when the cost of 1litre milk is 40Rs.\n",
    "r = int(input(\"Radius: \"))\n",
    "h = int(input(\"Height: \"))\n",
    "\n",
    "vol = 3.14*r*r*h\n",
    "print(vol)\n",
    "\n",
    "print(vol*40)"
   ]
  },
  {
   "cell_type": "code",
   "execution_count": 25,
   "metadata": {},
   "outputs": [
    {
     "name": "stdout",
     "output_type": "stream",
     "text": [
      "The number is divisible by both 3 and 6\n"
     ]
    }
   ],
   "source": [
    "# Write  a program that will tell whether the given number is divisible by 3 & 6.\n",
    "\n",
    "n = int(input(\"Enter the number\"))\n",
    "if n % 3 == 0 and n % 6 == 0:\n",
    "    print(\"The number is divisible by both 3 and 6\")\n",
    "else:\n",
    "    print(\"Not\")"
   ]
  },
  {
   "cell_type": "code",
   "execution_count": null,
   "metadata": {},
   "outputs": [
    {
     "name": "stdout",
     "output_type": "stream",
     "text": [
      "The weather condition is: Cool\n"
     ]
    }
   ],
   "source": [
    "# Write a program that will determine weather when the value of temperature and humidity is provided by the user.\n",
    "\n",
    "temperature = float(input(\"Enter the temperature (°C): \"))\n",
    "humidity = float(input(\"Enter the humidity (%): \"))\n",
    "\n",
    "if temperature >= 30:\n",
    "    if humidity >= 90:\n",
    "        weather = \"Hot and Humid\"\n",
    "    else:\n",
    "        weather = \"Hot\"\n",
    "else:\n",
    "    if humidity >= 90:\n",
    "        weather = \"Cool and Humid\"\n",
    "    else:\n",
    "        weather = \"Cool\"\n",
    "print(f\"The weather condition is: {weather}\")"
   ]
  },
  {
   "cell_type": "code",
   "execution_count": 1,
   "metadata": {},
   "outputs": [
    {
     "name": "stdout",
     "output_type": "stream",
     "text": [
      "14\n"
     ]
    }
   ],
   "source": [
    "# Write a program that will take three digits from the user and add the square of each digit.\n",
    "\n",
    "a = int(input(\"Enter number 1: \"))\n",
    "b = int(input(\"Enter number 2: \"))\n",
    "c = int(input(\"Enter number 3: \"))\n",
    "\n",
    "sum = a**2 + b**2 + c**2\n",
    "print(sum)"
   ]
  },
  {
   "cell_type": "code",
   "execution_count": null,
   "metadata": {},
   "outputs": [
    {
     "name": "stdout",
     "output_type": "stream",
     "text": [
      "Armstrong number\n"
     ]
    }
   ],
   "source": [
    "# Write a program that will check whether the number is palindrom number or not.\n",
    "\n",
    "num = int(input(\"Enter the number: \"))\n",
    "\n",
    "temp = num\n",
    "reverse = 0\n",
    "while num>0:\n",
    "    digit = num%10\n",
    "    reverse = reverse*10 + digit\n",
    "    num = num//10\n",
    "\n",
    "if reverse == temp:\n",
    "    print(\"Palindrom number\")\n",
    "else:\n",
    "    print(\"Not Palindrom\")"
   ]
  },
  {
   "cell_type": "code",
   "execution_count": null,
   "metadata": {},
   "outputs": [],
   "source": [
    "# Write a program that will take user input of (4 digits number) and check whether the number is narcissist number or not.\n",
    "\n",
    "num = int(input(\"Enter the number: \"))\n",
    "order = len(str(num))\n",
    "sum = 0\n",
    "temp = num\n",
    "while num>0:\n",
    "    digit = num%10\n",
    "    sum = sum + digit**order\n",
    "    num = num//10\n",
    "\n",
    "print(sum)\n",
    "\n",
    "if sum == temp:\n",
    "    print(\"Armstrong number\")\n",
    "else:\n",
    "    print(\"Not Armstrong\")"
   ]
  },
  {
   "cell_type": "code",
   "execution_count": 12,
   "metadata": {},
   "outputs": [
    {
     "name": "stdout",
     "output_type": "stream",
     "text": [
      "160686407918.58197\n"
     ]
    }
   ],
   "source": [
    "# Write a program that will give you the in hand salary after deduction of HRA(10%),DA(5%),PF(3%), \n",
    "# and tax(if salary is between 5-10 lakh–10%),(11-20lakh–20%),(20< _   – 30%)(0-1lakh print k).\n",
    "\n",
    "gross_sal = float(input(\"Enter salary\"))\n",
    "\n",
    "HRA = gross_sal*10/100\n",
    "DA = gross_sal*5/100\n",
    "PF = gross_sal*3/100\n",
    "tax = 0\n",
    "\n",
    "taxable_income = gross_sal - HRA+DA+PF\n",
    "\n",
    "if 500000<=taxable_income<=1000000:\n",
    "    tax = taxable_income*10/100\n",
    "elif 1100000<=taxable_income<=2000000:\n",
    "    tax = taxable_income*20/100\n",
    "elif taxable_income>=2000000:\n",
    "    tax = taxable_income*30/100\n",
    "\n",
    "\n",
    "inhand_sal = taxable_income - tax\n",
    "\n",
    "print(inhand_sal)"
   ]
  },
  {
   "cell_type": "code",
   "execution_count": 8,
   "metadata": {},
   "outputs": [
    {
     "name": "stdout",
     "output_type": "stream",
     "text": [
      "Value of 2.0 in miles is 1.242742\n",
      "Value of 1.0 in inr is 82.0\n",
      "Exit the program\n"
     ]
    }
   ],
   "source": [
    "# Write a menu driven program - 1.cm to ft  2.kl to miles  3.usd to inr  4.exit\n",
    "\n",
    "# while True:\n",
    "#     value = input(\"Enter your choice (1-4): \")\n",
    "#     if value == '1':\n",
    "#         cm = float(input(\"Enter the value in cm\"))\n",
    "#         ft = cm/30.48\n",
    "#         print(f\"Value of {cm} in feet is {ft}\")\n",
    "#     elif value=='2':\n",
    "#         km = float(input(\"Enter the value in km\"))\n",
    "#         miles = km * 0.621371\n",
    "#         print(f\"Value of {km} in miles is {miles}\")\n",
    "#     elif value=='3':\n",
    "#         usd = float(input(\"Enter the value in usd\"))\n",
    "#         inr = usd*82.0\n",
    "#         print(f\"Value of {usd} in inr is {inr}\")\n",
    "#     elif value=='4':\n",
    "#         print(\"Exit the program\")\n",
    "#         break\n",
    "#     else:\n",
    "#         print(\"Invalid choice. Please select a valid option.\")\n",
    "\n",
    "\n",
    "\n",
    "\n",
    "\n",
    "\n",
    "while True:\n",
    "    value = input(\"Enter your choice (1-4): \")\n",
    "    match value:\n",
    "        case '1':\n",
    "            cm = float(input(\"Enter the value in cm\"))\n",
    "            ft = cm/30.48\n",
    "            print(f\"Value of {cm} in feet is {ft}\")\n",
    "        case '2':\n",
    "            km = float(input(\"Enter the value in km\"))\n",
    "            miles = km * 0.621371\n",
    "            print(f\"Value of {km} in miles is {miles}\")\n",
    "        case '3':\n",
    "            usd = float(input(\"Enter the value in usd\"))\n",
    "            inr = usd*82.0\n",
    "            print(f\"Value of {usd} in inr is {inr}\")\n",
    "        case '4':\n",
    "            print(\"Exit the program\")\n",
    "            break\n",
    "        case _:\n",
    "            print(\"Invalid choice. Please select a valid option.\")\n",
    "\n",
    "\n",
    "\n",
    "        "
   ]
  },
  {
   "cell_type": "code",
   "execution_count": null,
   "metadata": {},
   "outputs": [
    {
     "name": "stdout",
     "output_type": "stream",
     "text": [
      "No valid solution exists for the given number of heads and legs.\n"
     ]
    }
   ],
   "source": [
    "# Write a program that will tell the number of dogs and chicken are there when the user will provide the \n",
    "# value of total heads and legs.\n",
    "\n",
    "\n",
    "def calculate_animals(total_heads, total_legs):\n",
    "\n",
    "    # d + c = total_heads  (1)\n",
    "    # 4d + 2c = total_legs (2)\n",
    "\n",
    "    # Rearrang gives eq:\n",
    "    # d = (total_legs - 2 * total_heads) / 2\n",
    "    # c = total_heads - d\n",
    "\n",
    "    d = (total_legs - 2 * total_heads) / 2\n",
    "    c = total_heads - d\n",
    "\n",
    "    if d < 0 or c < 0 or d != int(d) or c != int(c):\n",
    "        return None  \n",
    "    else:\n",
    "        return int(d), int(c)  \n",
    "\n",
    "\n",
    "total_heads = int(input(\"Enter the total number of heads: \"))\n",
    "total_legs = int(input(\"Enter the total number of legs: \"))\n",
    "\n",
    "\n",
    "result = calculate_animals(total_heads, total_legs)\n",
    "\n",
    "if result is None:\n",
    "    print(\"No valid solution exists for the given number of heads and legs.\")\n",
    "else:\n",
    "    dogs, chickens = result\n",
    "    print(f\"Number of dogs: {dogs}, Number of chickens: {chickens}\")"
   ]
  },
  {
   "cell_type": "code",
   "execution_count": 16,
   "metadata": {},
   "outputs": [
    {
     "name": "stdout",
     "output_type": "stream",
     "text": [
      "234 12\n"
     ]
    }
   ],
   "source": [
    "# Write a program that will swap numbers\n",
    "\n",
    "x = int(input(\"Enter the number\"))\n",
    "y = int(input(\"Enter the number\"))\n",
    "\n",
    "x = x+y\n",
    "y = x-y\n",
    "x = x-y\n",
    "\n",
    "print(x,y)\n"
   ]
  },
  {
   "cell_type": "code",
   "execution_count": 19,
   "metadata": {},
   "outputs": [
    {
     "name": "stdout",
     "output_type": "stream",
     "text": [
      "55\n"
     ]
    }
   ],
   "source": [
    "# Write a program to find the sum of first n numbers, where n will be provided by the user. Eg if the user provides \n",
    "# n=10 the output should be 55.\n",
    "\n",
    "n = int(input(\"Enter the number\"))\n",
    "sum = 0\n",
    "\n",
    "for i in range(1,n+1):\n",
    "    sum = sum + i\n",
    "print(sum)\n"
   ]
  },
  {
   "cell_type": "code",
   "execution_count": 23,
   "metadata": {},
   "outputs": [
    {
     "name": "stdout",
     "output_type": "stream",
     "text": [
      "-12\n"
     ]
    }
   ],
   "source": [
    "# Write a program that can multiply 2 numbers provided by the user without using the * operator\n",
    "\n",
    "x = int(input(\"Enter the number1\"))\n",
    "y = int(input(\"Enter the number2\"))\n",
    "sum = 0\n",
    "\n",
    "for i in range(abs(y)):\n",
    "    sum = sum +x\n",
    "if y<0:\n",
    "    sum = -sum\n",
    "\n",
    "print(sum)\n",
    "\n",
    "\n"
   ]
  },
  {
   "cell_type": "code",
   "execution_count": 30,
   "metadata": {},
   "outputs": [
    {
     "name": "stdout",
     "output_type": "stream",
     "text": [
      "Factorial does not exist for negative numbers\n"
     ]
    }
   ],
   "source": [
    "# Write a program that can find the factorial of a given number provided by the user.\n",
    "\n",
    "n = int(input(\"Enter the number\"))\n",
    "\n",
    "fact = 1\n",
    "if n<0:\n",
    "    print(\"Factorial does not exist for negative numbers\")\n",
    "elif n==0:\n",
    "    print(\"Factorial of 0 is 1\")\n",
    "else:\n",
    "    for i in range(1,n+1):\n",
    "        fact = fact*i\n",
    "    print(fact)\n"
   ]
  },
  {
   "cell_type": "code",
   "execution_count": 34,
   "metadata": {},
   "outputs": [
    {
     "name": "stdout",
     "output_type": "stream",
     "text": [
      "1\n",
      "3\n",
      "5\n",
      "7\n",
      "9\n",
      "11\n",
      "13\n",
      "15\n",
      "17\n",
      "19\n",
      "21\n",
      "23\n",
      "25\n",
      "27\n",
      "29\n",
      "31\n",
      "33\n",
      "35\n",
      "37\n",
      "39\n",
      "41\n",
      "43\n",
      "45\n",
      "47\n",
      "49\n"
     ]
    }
   ],
   "source": [
    "# Write a program to print the first 25 odd numbers\n",
    "# count = 0\n",
    "# for i in range(1,50,2):\n",
    "#     print(i)\n",
    "\n",
    "\n",
    "count = 0\n",
    "odd_number = 1\n",
    "while count < 25:\n",
    "    print(odd_number)  \n",
    "    odd_number += 2    \n",
    "    count += 1         "
   ]
  },
  {
   "cell_type": "code",
   "execution_count": 38,
   "metadata": {},
   "outputs": [
    {
     "name": "stdout",
     "output_type": "stream",
     "text": [
      "153\n",
      "370\n",
      "371\n",
      "407\n"
     ]
    }
   ],
   "source": [
    "# Print all the armstrong numbers in the range of 100 to 1000\n",
    "\n",
    "for i in range(100,1000+1):\n",
    "    digits = str(i)\n",
    "    sum = 0\n",
    "    for digit in digits:\n",
    "        sum = sum + int(digit)**3\n",
    "    if sum == i:\n",
    "        print(i)"
   ]
  },
  {
   "cell_type": "code",
   "execution_count": 48,
   "metadata": {},
   "outputs": [
    {
     "name": "stdout",
     "output_type": "stream",
     "text": [
      "10th year - 10000\n",
      "9th year - 9000\n",
      "8th year - 8100\n",
      "7th year - 7290\n",
      "6th year - 6561\n",
      "5th year - 5904\n",
      "4th year - 5314\n",
      "3th year - 4782\n",
      "2th year - 4304\n",
      "1th year - 3874\n"
     ]
    }
   ],
   "source": [
    "# The current population of a town is 10000. The population of the town is increasing at the rate of 10% per year. \n",
    "# You have to write a program to find out the population at the end of each of the last 10 years. For eg current population is 10000 so the output should be like this:\n",
    "# 10th year - 10000\n",
    "# 9th year - 9000\n",
    "# 8th year - 8100 and so on\n",
    "\n",
    "current_pop = 10000\n",
    "\n",
    "for i in range(10,0,-1):\n",
    "    print(f\"{i}th year - {int(current_pop)}\")\n",
    "    current_pop = current_pop * 0.9\n",
    "   \n"
   ]
  },
  {
   "cell_type": "code",
   "execution_count": 3,
   "metadata": {},
   "outputs": [
    {
     "name": "stdout",
     "output_type": "stream",
     "text": [
      "Print all permutations\n",
      "(1,)\n",
      "(2,)\n",
      "(3,)\n",
      "(4,)\n",
      "(1, 2)\n",
      "(1, 3)\n",
      "(1, 4)\n",
      "(2, 1)\n",
      "(2, 3)\n",
      "(2, 4)\n",
      "(3, 1)\n",
      "(3, 2)\n",
      "(3, 4)\n",
      "(4, 1)\n",
      "(4, 2)\n",
      "(4, 3)\n",
      "(1, 2, 3)\n",
      "(1, 2, 4)\n",
      "(1, 3, 2)\n",
      "(1, 3, 4)\n",
      "(1, 4, 2)\n",
      "(1, 4, 3)\n",
      "(2, 1, 3)\n",
      "(2, 1, 4)\n",
      "(2, 3, 1)\n",
      "(2, 3, 4)\n",
      "(2, 4, 1)\n",
      "(2, 4, 3)\n",
      "(3, 1, 2)\n",
      "(3, 1, 4)\n",
      "(3, 2, 1)\n",
      "(3, 2, 4)\n",
      "(3, 4, 1)\n",
      "(3, 4, 2)\n",
      "(4, 1, 2)\n",
      "(4, 1, 3)\n",
      "(4, 2, 1)\n",
      "(4, 2, 3)\n",
      "(4, 3, 1)\n",
      "(4, 3, 2)\n",
      "(1, 2, 3, 4)\n",
      "(1, 2, 4, 3)\n",
      "(1, 3, 2, 4)\n",
      "(1, 3, 4, 2)\n",
      "(1, 4, 2, 3)\n",
      "(1, 4, 3, 2)\n",
      "(2, 1, 3, 4)\n",
      "(2, 1, 4, 3)\n",
      "(2, 3, 1, 4)\n",
      "(2, 3, 4, 1)\n",
      "(2, 4, 1, 3)\n",
      "(2, 4, 3, 1)\n",
      "(3, 1, 2, 4)\n",
      "(3, 1, 4, 2)\n",
      "(3, 2, 1, 4)\n",
      "(3, 2, 4, 1)\n",
      "(3, 4, 1, 2)\n",
      "(3, 4, 2, 1)\n",
      "(4, 1, 2, 3)\n",
      "(4, 1, 3, 2)\n",
      "(4, 2, 1, 3)\n",
      "(4, 2, 3, 1)\n",
      "(4, 3, 1, 2)\n",
      "(4, 3, 2, 1)\n"
     ]
    }
   ],
   "source": [
    "# Write a program to print all the unique combinations of 1,2,3 and 4\n",
    "\n",
    "from itertools import permutations\n",
    "\n",
    "number = [1,2,3,4]\n",
    "\n",
    "all_permutation = []\n",
    "\n",
    "for i in range(1,len(number)+1):\n",
    "    perms = permutations(number,i)\n",
    "    all_permutation.extend(perms)\n",
    "\n",
    "print(\"Print all permutations\")\n",
    "for i in all_permutation:\n",
    "    print(i)"
   ]
  },
  {
   "cell_type": "code",
   "execution_count": 9,
   "metadata": {},
   "outputs": [
    {
     "name": "stdout",
     "output_type": "stream",
     "text": [
      "The HCF of 30 and 45 is: 15\n"
     ]
    }
   ],
   "source": [
    "# User will provide 2 numbers you have to find the HCF of those 2 numbers\n",
    "import math\n",
    "num1 = int(input(\"Enter the first number: \"))\n",
    "num2 = int(input(\"Enter the second number: \"))\n",
    "\n",
    "\n",
    "hcf = 1\n",
    "\n",
    "\n",
    "min_num = min(num1, num2)\n",
    "\n",
    "\n",
    "for i in range(1, min_num + 1):\n",
    "    if num1 % i == 0 and num2 % i == 0:\n",
    "        hcf = i  \n",
    "\n",
    "print(f\"The HCF of {num1} and {num2} is: {hcf}\")"
   ]
  },
  {
   "cell_type": "code",
   "execution_count": 15,
   "metadata": {},
   "outputs": [
    {
     "name": "stdout",
     "output_type": "stream",
     "text": [
      "10\n"
     ]
    }
   ],
   "source": [
    "# User will provide 2 numbers you have to find the by LCM of those 2 numbers\n",
    "num1 = int(input(\"Enter the first number: \"))\n",
    "num2 = int(input(\"Enter the second number: \"))\n",
    "\n",
    "lcm=1\n",
    "for i in range(max(num1, num2), (num1 * num2) + 1):\n",
    "    if i % num1 == 0 and i % num2 == 0:\n",
    "        lcm = i\n",
    "        break\n",
    "\n",
    "print(lcm)"
   ]
  },
  {
   "cell_type": "code",
   "execution_count": null,
   "metadata": {},
   "outputs": [
    {
     "name": "stdout",
     "output_type": "stream",
     "text": [
      "Not prime\n"
     ]
    }
   ],
   "source": [
    "\n",
    "import math\n",
    "num = int(input(\"Enter the number\"))\n",
    "is_prime = True\n",
    "\n",
    "if num<=1:\n",
    "    is_prime =False\n",
    "else:\n",
    "\n",
    "    for i in range(2,int(math.sqrt(num))+1):\n",
    "        if num%i==0:\n",
    "            is_prime = False\n",
    "            break\n",
    "\n",
    "\n",
    "if is_prime:\n",
    "    print(\"Prime\")\n",
    "else:\n",
    "    print(\"Not prime\")\n",
    "\n"
   ]
  },
  {
   "cell_type": "code",
   "execution_count": 24,
   "metadata": {},
   "outputs": [
    {
     "name": "stdout",
     "output_type": "stream",
     "text": [
      "3\n",
      "5\n",
      "7\n",
      "9\n",
      "11\n",
      "13\n",
      "15\n",
      "17\n",
      "19\n",
      "21\n",
      "23\n",
      "25\n",
      "27\n",
      "29\n",
      "31\n",
      "33\n",
      "35\n",
      "37\n",
      "39\n",
      "41\n",
      "43\n",
      "45\n",
      "47\n",
      "49\n",
      "51\n",
      "53\n",
      "55\n",
      "57\n",
      "59\n",
      "61\n",
      "63\n",
      "65\n",
      "67\n",
      "69\n",
      "71\n",
      "73\n",
      "75\n",
      "77\n",
      "79\n",
      "81\n",
      "83\n",
      "85\n",
      "87\n",
      "89\n",
      "91\n",
      "93\n",
      "95\n",
      "97\n",
      "99\n"
     ]
    }
   ],
   "source": [
    "# Print first 25 prime numbers\n",
    "\n",
    "def is_prime(n):\n",
    "    if n==0 or n==1:\n",
    "        return False\n",
    "    for i in range(2,int(num**0.5)+1):\n",
    "        if n%i==0:\n",
    "            return False\n",
    "    return True\n",
    "\n",
    "\n",
    "N = 100\n",
    "\n",
    "for i in range(1,N+1):\n",
    "    if is_prime(i):\n",
    "        print(i)\n"
   ]
  },
  {
   "cell_type": "code",
   "execution_count": null,
   "metadata": {},
   "outputs": [
    {
     "name": "stdout",
     "output_type": "stream",
     "text": [
      "0\n",
      "1\n",
      "1\n",
      "2\n",
      "3\n",
      "5\n",
      "8\n",
      "13\n",
      "21\n",
      "34\n",
      "55\n",
      "89\n",
      "144\n",
      "233\n",
      "377\n",
      "610\n",
      "987\n",
      "1597\n",
      "2584\n",
      "4181\n"
     ]
    }
   ],
   "source": [
    "# Print the first 20 numbers of a Fibonacci series\n",
    "\n",
    "a =0\n",
    "b=1\n",
    "for i in range(20):\n",
    "    print(a)\n",
    "    a,b = b,a+b\n",
    "\n"
   ]
  },
  {
   "cell_type": "code",
   "execution_count": 28,
   "metadata": {},
   "outputs": [
    {
     "name": "stdout",
     "output_type": "stream",
     "text": [
      "282.0372317085844\n"
     ]
    }
   ],
   "source": [
    "# Write a program to find the compound interest\n",
    "\n",
    "P = float(input(\"Enter the principal amount (P): \"))  \n",
    "r = float(input(\"Enter the annual interest rate (in %): \"))  \n",
    "n = int(input(\"Enter the number of times interest is compounded per year (n): \")) \n",
    "t = int(input(\"Enter the number of years (t): \")) \n",
    "\n",
    "\n",
    "A = P * (1 + r / 100 / n) ** (n * t)\n",
    "    # Calculate compound interest\n",
    "compound_interest = A - P\n",
    "\n",
    "print(compound_interest)"
   ]
  },
  {
   "cell_type": "code",
   "execution_count": 31,
   "metadata": {},
   "outputs": [
    {
     "name": "stdout",
     "output_type": "stream",
     "text": [
      "14\n"
     ]
    }
   ],
   "source": [
    "# Write a Python program that accepts an integer (n) and computes the value of n+nn+nnn.\n",
    "\n",
    "n = int(input(\"Enter the number\"))\n",
    "\n",
    "final = n + n*n + n*n*n\n",
    "print(final)"
   ]
  },
  {
   "cell_type": "code",
   "execution_count": 35,
   "metadata": {},
   "outputs": [
    {
     "name": "stdout",
     "output_type": "stream",
     "text": [
      "4\n"
     ]
    }
   ],
   "source": [
    "# Take a number from the user and find the number of digits in it\n",
    "\n",
    "n = int(input(\"Enter the number\"))\n",
    "\n",
    "cnt = 0\n",
    "while n>0:\n",
    "    digit = n%10\n",
    "    cnt +=1\n",
    "    n = n//10\n",
    "print(cnt)"
   ]
  },
  {
   "cell_type": "code",
   "execution_count": 39,
   "metadata": {},
   "outputs": [
    {
     "name": "stdout",
     "output_type": "stream",
     "text": [
      "1\n",
      "3\n",
      "5\n",
      "15\n"
     ]
    }
   ],
   "source": [
    "# Print all factors of a given number provided by the user.\n",
    "\n",
    "num = int(input(\"Enter the number\"))\n",
    "\n",
    "for i in range(1,num+1):\n",
    "    if num%i==0:\n",
    "        print(i)"
   ]
  },
  {
   "cell_type": "code",
   "execution_count": 42,
   "metadata": {},
   "outputs": [
    {
     "name": "stdout",
     "output_type": "stream",
     "text": [
      "321\n"
     ]
    }
   ],
   "source": [
    "# Find the reverse of a number provided by the user(any number of digit)\n",
    "num = int(input(\"Enter the number\"))\n",
    "reverse_num=0\n",
    "while num>0:\n",
    "    remainder = num % 10\n",
    "    reverse_num = reverse_num * 10 + remainder\n",
    "    num = num // 10\n",
    "print(reverse_num)\n"
   ]
  },
  {
   "cell_type": "code",
   "execution_count": 44,
   "metadata": {},
   "outputs": [
    {
     "name": "stdout",
     "output_type": "stream",
     "text": [
      "*\n",
      "**\n",
      "***\n",
      "****\n",
      "*****\n"
     ]
    }
   ],
   "source": [
    "# Write a program to print the following pattern\n",
    "# *\n",
    "# **\n",
    "# ***\n",
    "# ****\n",
    "# *****\n",
    "\n",
    "n = int(input(\"Enter the number\"))\n",
    "\n",
    "for i in range(1,n+1):\n",
    "    print(\"*\" * i)\n"
   ]
  },
  {
   "cell_type": "code",
   "execution_count": 50,
   "metadata": {},
   "outputs": [
    {
     "name": "stdout",
     "output_type": "stream",
     "text": [
      "*\n",
      "**\n",
      "***\n",
      "****\n",
      "*****\n",
      "****\n",
      "***\n",
      "**\n",
      "*\n"
     ]
    }
   ],
   "source": [
    "# Write a program to print the following pattern\n",
    "# *\n",
    "# **\n",
    "# ***\n",
    "# **\n",
    "# *\n",
    "\n",
    "n = int(input(\"Enter the number\"))\n",
    "\n",
    "for i in range(1,n+1):\n",
    "    print(\"*\" * i)\n",
    "for j in range(n-1,0,-1):\n",
    "    print(\"*\" * j)\n",
    "\n",
    "\n"
   ]
  },
  {
   "cell_type": "code",
   "execution_count": null,
   "metadata": {},
   "outputs": [
    {
     "name": "stdout",
     "output_type": "stream",
     "text": [
      "      *\n",
      "     ***\n",
      "    *****\n",
      "   *******\n",
      "  *********\n"
     ]
    }
   ],
   "source": [
    "# Write  a program to print the following pattern\n",
    "#         *\n",
    "#       * * *\n",
    "#     * * * * *\n",
    "#    * * * * * * *\n",
    "# * * * * * * * * *\n",
    "rows = int(input(\"Enter the number\"))\n",
    "\n",
    "for i in range(rows):\n",
    "    print(' ' * (rows-i+1),end='')\n",
    "    print(\"*\"*(2*i+1))\n"
   ]
  },
  {
   "cell_type": "code",
   "execution_count": 80,
   "metadata": {},
   "outputs": [
    {
     "name": "stdout",
     "output_type": "stream",
     "text": [
      "1 \n",
      "1 2 1 \n",
      "1 2 3 2 1 \n",
      "1 2 3 4 3 2 1 \n",
      "1 2 3 4 5 4 3 2 1 \n"
     ]
    }
   ],
   "source": [
    "# Write a program to print the following pattern\n",
    "# 1\n",
    "# 1 2 1\n",
    "# 1 2 3 2 1\n",
    "# 1 2 3 4 3 2 1\n",
    "# 1 2 3 4 5 4 3 2 1\n",
    "\n",
    "rows = int(input(\"Enter the number\"))\n",
    "\n",
    "for i in range(1,rows+1):\n",
    "    for j in range(1,i+1):\n",
    "        print(j,end=' ')\n",
    "\n",
    "    for j in range(i - 1,0,-1):\n",
    "        print(j,end=' ')\n",
    "\n",
    "        \n",
    "    print()\n",
    "        \n",
    "        \n"
   ]
  },
  {
   "cell_type": "code",
   "execution_count": 86,
   "metadata": {},
   "outputs": [
    {
     "name": "stdout",
     "output_type": "stream",
     "text": [
      "\n",
      "1 \n",
      "2 3 \n",
      "4 5 6 \n",
      "7 8 9 10 \n"
     ]
    }
   ],
   "source": [
    "# Write a program to print the following pattern\n",
    "# 1\n",
    "# 2 3\n",
    "# 4 5 6\n",
    "# 7 8 9 10\n",
    "\n",
    "current_num=1\n",
    "rows = int(input(\"Enter the number\"))\n",
    "for i in range(0,rows+1):\n",
    "    for j in range(i):\n",
    "        print(current_num,end=\" \")\n",
    "        current_num+=1\n",
    "        \n",
    "    print()\n",
    "\n"
   ]
  },
  {
   "cell_type": "code",
   "execution_count": null,
   "metadata": {},
   "outputs": [
    {
     "name": "stdout",
     "output_type": "stream",
     "text": [
      "The sum of the series till 4 terms is: 2.6666666666666665\n"
     ]
    }
   ],
   "source": [
    "# Write a program to calculate the sum of the following series till the nth term\n",
    "# 1/1! + 2/2! + 3/3! + 4/4! +…….+ n/n!\n",
    "# n will be provided by the user\n",
    "\n",
    "\n",
    "num = int(input(\"Enter the number\"))\n",
    "sum = 0\n",
    "\n",
    "fact = 1\n",
    "\n",
    "for i in range(1,num+1):\n",
    "    fact = fact*i\n",
    "    sum = sum + i/fact\n",
    "\n",
    "print(sum)"
   ]
  },
  {
   "cell_type": "code",
   "execution_count": 102,
   "metadata": {},
   "outputs": [
    {
     "name": "stdout",
     "output_type": "stream",
     "text": [
      "The sum of the series till 5 terms is: 16.07\n"
     ]
    }
   ],
   "source": [
    "# Write a Python Program to Find the Sum of the Series till the nth term: \n",
    "# 1 + x^2/2 + x^3/3 + … x^n/n\n",
    "# n will be provided by the user\n",
    "\n",
    "\n",
    "n = int(input(\"Enter the value of n: \"))\n",
    "x = float(input(\"Enter the value of x: \"))\n",
    "\n",
    "\n",
    "sum_series = 1  \n",
    "\n",
    "for i in range(2, n + 1):\n",
    "    term = (x ** i) / i  \n",
    "    sum_series += term   \n",
    "\n",
    "print(\"The sum of the series till\", n, \"terms is:\", round(sum_series,2))"
   ]
  },
  {
   "cell_type": "code",
   "execution_count": null,
   "metadata": {},
   "outputs": [
    {
     "name": "stdout",
     "output_type": "stream",
     "text": [
      "Sum of all numbers: 335.0\n",
      "Average of all numbers: 41.875\n"
     ]
    }
   ],
   "source": [
    "# Write a program that keeps on accepting a number from the user until the user enters Zero. \n",
    "# Display the sum and average of all the numbers.\n",
    "\n",
    "sum = 0\n",
    "cnt=0\n",
    "while n>0:\n",
    "    n = float(input(\"Enter the number\"))\n",
    "    if n==0:\n",
    "        break\n",
    "    sum = sum + n\n",
    "    cnt +=1\n",
    "\n",
    "if cnt>0:\n",
    "    avg = sum/cnt\n",
    "    print(\"Sum of all numbers:\", sum)\n",
    "    print(\"Average of all numbers:\", avg)\n",
    "else:\n",
    "    print(\"No numbers were entered.\")"
   ]
  },
  {
   "cell_type": "code",
   "execution_count": null,
   "metadata": {},
   "outputs": [
    {
     "name": "stdout",
     "output_type": "stream",
     "text": [
      "The simplified fraction is: 2/3\n"
     ]
    }
   ],
   "source": [
    "# Write a program that accepts 2 numbers from the user a numerator and a denominator and then simplifies it\n",
    "# Eg if the num = 5, den = 15 the answer should be ⅓\n",
    "# Eg if the num = 6, den = 9 the answer should be ⅔\n",
    "\n",
    "import math\n",
    "num = int(input(\"Enter the numerator: \"))\n",
    "den = int(input(\"Enter the denominator: \"))\n",
    "\n",
    "if den == 0:\n",
    "    print(\"Denominator cannot be zero.\")\n",
    "else:\n",
    "    \n",
    "    gcd = math.gcd(num,den)\n",
    "\n",
    "    simplified_num = num // gcd\n",
    "    simplified_den = den // gcd\n",
    "    \n",
    "    if simplified_den == 1:\n",
    "        print(f\"The simplified fraction is: {simplified_num}\")\n",
    "    else:\n",
    "        print(f\"The simplified fraction is: {simplified_num}/{simplified_den}\")"
   ]
  },
  {
   "cell_type": "code",
   "execution_count": 106,
   "metadata": {},
   "outputs": [
    {
     "name": "stdout",
     "output_type": "stream",
     "text": [
      "7\n"
     ]
    }
   ],
   "source": [
    "# Find the length of a given string without using the len() function.\n",
    "\n",
    "str = input(\"Enter string\")\n",
    "\n",
    "cnt = 0\n",
    "for i in str:\n",
    "    cnt += 1\n",
    "print(cnt)"
   ]
  },
  {
   "cell_type": "code",
   "execution_count": 111,
   "metadata": {},
   "outputs": [
    {
     "name": "stdout",
     "output_type": "stream",
     "text": [
      "Invalid email address. Please make sure it contains '@'.\n"
     ]
    }
   ],
   "source": [
    "# Extract username from a given email. \n",
    "# Eg if the email is nitish24singh@gmail.com then the username should be nitish24singh\n",
    "\n",
    "email = input(\"Enter email\")\n",
    "if '@' in email:\n",
    "    \n",
    "    username = email.split('@')\n",
    "    print(\"The username is:\", username[0])\n",
    "else:\n",
    "    print(\"Invalid email address. Please make sure it contains '@'.\")"
   ]
  },
  {
   "cell_type": "code",
   "execution_count": null,
   "metadata": {},
   "outputs": [
    {
     "name": "stdout",
     "output_type": "stream",
     "text": [
      "2\n"
     ]
    }
   ],
   "source": [
    "# Count the frequency of a particular character in a provided string. Eg 'hello how are you' is the string, the frequency of h in this string is 2.\n",
    "\n",
    "str = input(\"Enter string\")\n",
    "str = str.lower()\n",
    "char = input(\"Enter character\")\n",
    "char = char.lower()\n",
    "\n",
    "count = str.count(char)\n",
    "print(count)"
   ]
  },
  {
   "cell_type": "code",
   "execution_count": 115,
   "metadata": {},
   "outputs": [
    {
     "data": {
      "text/plain": [
       "4"
      ]
     },
     "execution_count": 115,
     "metadata": {},
     "output_type": "execute_result"
    }
   ],
   "source": [
    "# Find the index position of a particular character in another string. \n",
    "\n",
    "str = input(\"Enter string\")\n",
    "char = input(\"Enter char\")\n",
    "str.index(char)"
   ]
  },
  {
   "cell_type": "code",
   "execution_count": 116,
   "metadata": {},
   "outputs": [
    {
     "name": "stdout",
     "output_type": "stream",
     "text": [
      "3\n"
     ]
    }
   ],
   "source": [
    "# Count the number of vowels in a string provided by the user.\n",
    "str = input(\"Enter the string\")\n",
    "vowels = \"aeiouAEIOU\"\n",
    "count = 0\n",
    "for char in str:\n",
    "    if char in vowels:\n",
    "        count += 1\n",
    "print(count)"
   ]
  },
  {
   "cell_type": "code",
   "execution_count": 117,
   "metadata": {},
   "outputs": [
    {
     "name": "stdout",
     "output_type": "stream",
     "text": [
      "The string after removing the character is:  aad\n"
     ]
    }
   ],
   "source": [
    "# Write a program which can remove a particular character from a string. \n",
    "\n",
    "string = input(\"Enter the string from which the character is to be removed: \")\n",
    "char = input(\"Enter the character to be removed: \")\n",
    "new_string = string.replace(char, \"\")\n",
    "print(\"The string after removing the character is: \", new_string)\n"
   ]
  },
  {
   "cell_type": "code",
   "execution_count": null,
   "metadata": {},
   "outputs": [
    {
     "name": "stdout",
     "output_type": "stream",
     "text": [
      "The string is palindrome\n"
     ]
    }
   ],
   "source": [
    "# Write a program that can check whether a given string is palindrome or not.\n",
    "\n",
    "str = input(\"Enter string\")\n",
    "def palindrom(str):\n",
    "    str = str.replace(\" \",\"\").lower()\n",
    "    return str == str[::-1]\n",
    "\n",
    "if palindrom(str):\n",
    "    print(\"The string is palindrome\")\n",
    "else:\n",
    "    print(\"The string is not palindrome\")\n"
   ]
  },
  {
   "cell_type": "code",
   "execution_count": 127,
   "metadata": {},
   "outputs": [
    {
     "name": "stdout",
     "output_type": "stream",
     "text": [
      "[1, 2, 3, 4, 3]\n"
     ]
    }
   ],
   "source": [
    "# Write a python program to remove all the duplicates from a list\n",
    "list = input(\"Enter the list\")\n",
    "list = list.split()\n",
    "\n",
    "input_list = []\n",
    "for item in list:\n",
    "    input_list.append(int(item))\n",
    "\n",
    "print(input_list)\n",
    "\n",
    "# Remove duplicates from the list\n",
    "unique_list = set(input_list)"
   ]
  },
  {
   "cell_type": "code",
   "execution_count": 130,
   "metadata": {},
   "outputs": [
    {
     "name": "stdout",
     "output_type": "stream",
     "text": [
      "Anand Gupta Surta\n"
     ]
    }
   ],
   "source": [
    "# Write a python program to convert a string to title case without using the title()\n",
    "str = input(\"Enter the list\")\n",
    "title_string = ' '.join(word.capitalize() for word in str.split())\n",
    "print(title_string)\n"
   ]
  },
  {
   "cell_type": "code",
   "execution_count": null,
   "metadata": {},
   "outputs": [
    {
     "name": "stdout",
     "output_type": "stream",
     "text": [
      "434\n"
     ]
    }
   ],
   "source": [
    "# Write a python program to find the max item from a list without using the max function\n",
    "list = input(\"Enter list\")\n",
    "list = list.split()\n",
    "\n",
    "new_list = []\n",
    "for item in list:\n",
    "    new_list.append(int(item))\n",
    "\n",
    "\n",
    "# new_list = list(map(int, list.split()))\n",
    "\n",
    "maxi = new_list[0]\n",
    "for i in new_list:\n",
    "    if i >maxi:\n",
    "        maxi = i\n",
    "print(maxi)\n"
   ]
  },
  {
   "cell_type": "code",
   "execution_count": null,
   "metadata": {},
   "outputs": [],
   "source": []
  }
 ],
 "metadata": {
  "kernelspec": {
   "display_name": "Python 3",
   "language": "python",
   "name": "python3"
  },
  "language_info": {
   "codemirror_mode": {
    "name": "ipython",
    "version": 3
   },
   "file_extension": ".py",
   "mimetype": "text/x-python",
   "name": "python",
   "nbconvert_exporter": "python",
   "pygments_lexer": "ipython3",
   "version": "3.11.9"
  }
 },
 "nbformat": 4,
 "nbformat_minor": 2
}
