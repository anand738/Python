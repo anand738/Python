{
 "cells": [
  {
   "cell_type": "code",
   "execution_count": 1,
   "metadata": {},
   "outputs": [
    {
     "name": "stdout",
     "output_type": "stream",
     "text": [
      "[(5, 6), (6, 10), (7, 13)]\n"
     ]
    }
   ],
   "source": [
    "# Join Tuples if similar initial element While working with Python tuples, we can have a problem in which we \n",
    "# need to perform concatenation of records from the similarity of initial element. This problem can have \n",
    "# applications in data domains such as Data Science.\n",
    "\n",
    "test_list = [(5, 6), (5, 7), (5, 8), (6, 10), (7, 13)]\n",
    "\n",
    "unique = []\n",
    "\n",
    "for item in test_list:\n",
    "    for i in item:\n",
    "        if item[0]\n",
    "        \n",
    "print(unique)"
   ]
  },
  {
   "cell_type": "code",
   "execution_count": 7,
   "metadata": {},
   "outputs": [
    {
     "name": "stdout",
     "output_type": "stream",
     "text": [
      "(5, 40, 91, 136, 80)\n"
     ]
    }
   ],
   "source": [
    "# Multiply Adjacent elements (both side) and take sum of right and lest side multiplication result.\n",
    "t = (1, 5, 7, 8, 10)\n",
    "\n",
    "L=[]\n",
    "L.append(t[0]*t[1])\n",
    "\n",
    "for i in range(1,len(t)-1):\n",
    "    L.append(t[i]*t[i-1] + t[i]*t[i+1])\n",
    "\n",
    "L.append(t[-1]*t[-2])\n",
    "print(tuple(L))\n",
    "\n"
   ]
  },
  {
   "cell_type": "code",
   "execution_count": 8,
   "metadata": {},
   "outputs": [
    {
     "name": "stdout",
     "output_type": "stream",
     "text": [
      "same\n"
     ]
    }
   ],
   "source": [
    "t1 = (1,2,3,0)\n",
    "t2 = (1,2,3,0)\n",
    "\n",
    "flag = True\n",
    "for i,j in zip(t1,t2):\n",
    "  if i == j:\n",
    "    continue\n",
    "  else:\n",
    "    flag = False\n",
    "    break\n",
    "if flag:\n",
    "  print('same')\n",
    "else:\n",
    "  print('not same')"
   ]
  },
  {
   "cell_type": "code",
   "execution_count": 10,
   "metadata": {},
   "outputs": [
    {
     "name": "stdout",
     "output_type": "stream",
     "text": [
      "Lists-2\n",
      "Sets-2\n",
      "Tuples-1\n"
     ]
    }
   ],
   "source": [
    "# Count no of tuples, list and set from a list\n",
    "\n",
    "L = [{'hi', 'bye'},{'Geeks', 'forGeeks'},('a', 'b'),['hi', 'bye'],['a', 'b']]\n",
    "output = [0,0,0]\n",
    "\n",
    "for i in L:\n",
    "    if type(i)==list:\n",
    "        output[0]+=1\n",
    "    elif type(i)==set:\n",
    "        output[1]+=1\n",
    "    elif type(i)==tuple:\n",
    "        output[2]+=1\n",
    "    else:\n",
    "        pass\n",
    "print('Lists-{}\\nSets-{}\\nTuples-{}'.format(output[0],output[1],output[2]))\n",
    "\n"
   ]
  },
  {
   "cell_type": "code",
   "execution_count": null,
   "metadata": {},
   "outputs": [],
   "source": [
    "student = []\n",
    "num = int(input(\"Enter number of applicants\"))\n",
    "for i in range(num):\n",
    "    print('Enter details of',i+1,'applicant:')\n",
    "    name = input('enter name')\n",
    "    h_ed = input('enter higher education')\n",
    "    p_skill = input('enter primary skill')\n",
    "    yog = input('enter year of graduation')\n",
    "student.append(name,h_ed,p_skill,yog)\n",
    "\n",
    "required_skill = input('enter required skill')\n",
    "required_hed = input('enter required higher education')\n",
    "required_yog = input('enter required year of graduation')\n",
    "\n",
    "flag = False\n",
    "\n",
    "for i in student:\n",
    "    if i[1] == required_hed and i[2]==required_skill and i[3]==required_yog:\n",
    "        print(i)\n",
    "        flag = True\n",
    "if flag == False:\n",
    "  print('No such candidates')\n",
    "\n",
    "\n"
   ]
  },
  {
   "cell_type": "code",
   "execution_count": 13,
   "metadata": {},
   "outputs": [
    {
     "name": "stdout",
     "output_type": "stream",
     "text": [
      "[80, 20]\n"
     ]
    }
   ],
   "source": [
    "ar1 = [1, 5, 10, 20, 40, 80]\n",
    "ar2 = [6, 7, 20, 80, 100]\n",
    "ar3 = [3, 4, 15, 20, 30, 70, 80, 120]\n",
    "\n",
    "result = []\n",
    "s1 = set(ar1)\n",
    "s2 = set(ar2)\n",
    "s3 = set(ar3)\n",
    "\n",
    "result = (s1&s2&s3)\n",
    "print(list(result))"
   ]
  },
  {
   "cell_type": "code",
   "execution_count": 14,
   "metadata": {},
   "outputs": [
    {
     "name": "stdout",
     "output_type": "stream",
     "text": [
      "Unique number of vowels: 6\n"
     ]
    }
   ],
   "source": [
    "vowels = set('aeiouAEIOU')\n",
    "\n",
    "s = set(\"hands-on data science mentorship progrAm with live classes at affordable fee only on CampusX\")\n",
    "\n",
    "print(\"Unique number of vowels:\",len(vowels&s))"
   ]
  },
  {
   "cell_type": "code",
   "execution_count": 15,
   "metadata": {},
   "outputs": [
    {
     "name": "stdout",
     "output_type": "stream",
     "text": [
      "not binary\n"
     ]
    }
   ],
   "source": [
    "s = \"010101010103\"\n",
    "\n",
    "if len(set(s)) == 2:\n",
    "  print('binary')\n",
    "else:\n",
    "  print('not binary')"
   ]
  },
  {
   "cell_type": "code",
   "execution_count": 17,
   "metadata": {},
   "outputs": [
    {
     "name": "stdout",
     "output_type": "stream",
     "text": [
      "{1, 2, 3, 4, 5, 6, 7, 9}\n"
     ]
    }
   ],
   "source": [
    "L = [[1, 2, 2, 4, 3, 6],\n",
    " [5, 1, 3, 4],\n",
    " [9, 5, 7, 1],\n",
    " [2, 4, 1, 3]]\n",
    "\n",
    "s = set()\n",
    "\n",
    "for i in L:\n",
    "    s.update(i)\n",
    "\n",
    "print(s)"
   ]
  },
  {
   "cell_type": "code",
   "execution_count": 18,
   "metadata": {},
   "outputs": [
    {
     "data": {
      "text/plain": [
       "[4, 5, 9, 10]"
      ]
     },
     "execution_count": 18,
     "metadata": {},
     "output_type": "execute_result"
    }
   ],
   "source": [
    "lst1 = {15, 9, 10, 56, 23, 78, 5, 4, 9}\n",
    "lst2 = {9, 4, 5, 36, 47, 26, 10, 45, 87}\n",
    "\n",
    "[i for i in lst1 if i in lst2]"
   ]
  },
  {
   "cell_type": "code",
   "execution_count": 25,
   "metadata": {},
   "outputs": [
    {
     "name": "stdout",
     "output_type": "stream",
     "text": [
      "Best\n"
     ]
    }
   ],
   "source": [
    "#  Key with maximum unique values\n",
    "# Given a dictionary with values list, extract key whose value has most unique values.\n",
    "\n",
    "test_dict = {\"CampusX\" : [5, 7, 7, 7, 7], \"is\" : [6, 7, 7, 7], \"Best\" : [9, 9, 6, 5, 5]}\n",
    "\n",
    "max_val = 0\n",
    "max_key = ''\n",
    "for i in test_dict:\n",
    "    if len(set(test_dict[i])) > max_val:\n",
    "        max_val = len(set(test_dict[i]))\n",
    "        max_key = i\n",
    "print(max_key)"
   ]
  },
  {
   "cell_type": "code",
   "execution_count": 26,
   "metadata": {},
   "outputs": [
    {
     "name": "stdout",
     "output_type": "stream",
     "text": [
      "CampusX is the best channel for Data-Science students.\n"
     ]
    }
   ],
   "source": [
    "# Replace words from Dictionary. Given String, replace it’s words from lookup dictionary.\n",
    "\n",
    "test_str = 'CampusX best for DS students.'\n",
    "repl_dict = {\"best\" : \"is the best channel\", \"DS\" : \"Data-Science\"}\n",
    "\n",
    "res = []\n",
    "\n",
    "for i in test_str.split():\n",
    "    if i in repl_dict:\n",
    "        res.append(repl_dict[i])\n",
    "    else:\n",
    "        res.append(i)\n",
    "print(\" \".join(res))\n"
   ]
  },
  {
   "cell_type": "code",
   "execution_count": 29,
   "metadata": {},
   "outputs": [
    {
     "name": "stdout",
     "output_type": "stream",
     "text": [
      "[{'name': 'CampusX', 'id': 10}]\n"
     ]
    }
   ],
   "source": [
    "test_list = [\"CampusX\", 10]\n",
    "key_list = [\"name\", \"id\"]\n",
    "\n",
    "n = len(test_list)\n",
    "\n",
    "res = []\n",
    "\n",
    "for i in range(0,n,2):\n",
    "  res.append({key_list[0]: test_list[i],key_list[1]:test_list[i+1]})\n",
    "\n",
    "print(res)"
   ]
  },
  {
   "cell_type": "code",
   "execution_count": 30,
   "metadata": {},
   "outputs": [
    {
     "name": "stdout",
     "output_type": "stream",
     "text": [
      "{'akash': 10, 'gaurav': 12, 'anand': 14, 'suraj': 20, 'akhil': 25, 'ashish': 30}\n"
     ]
    }
   ],
   "source": [
    "L1 = [(\"akash\", 10), (\"gaurav\", 12), (\"anand\", 14), (\"suraj\", 20), (\"akhil\", 25), (\"ashish\", 30)]\n",
    "L = [('A', 1), ('B', 2), ('C', 3)]\n",
    "\n",
    "d = {}\n",
    "\n",
    "for i,j in L1:\n",
    "    d[i] = j\n",
    "print(d)"
   ]
  },
  {
   "cell_type": "code",
   "execution_count": 41,
   "metadata": {},
   "outputs": [
    {
     "name": "stdout",
     "output_type": "stream",
     "text": [
      "{'a': [4, 19], 'b': [10, 12], 'c': [3]}\n"
     ]
    }
   ],
   "source": [
    "d = {'c': [3], 'b': [12, 10], 'a': [19, 4]}\n",
    "\n",
    "res = {}\n",
    "for i in sorted(d):\n",
    "    res[i] = sorted(d[i])\n",
    "\n",
    "print(res)"
   ]
  },
  {
   "cell_type": "code",
   "execution_count": null,
   "metadata": {},
   "outputs": [],
   "source": []
  }
 ],
 "metadata": {
  "kernelspec": {
   "display_name": "Python 3",
   "language": "python",
   "name": "python3"
  },
  "language_info": {
   "codemirror_mode": {
    "name": "ipython",
    "version": 3
   },
   "file_extension": ".py",
   "mimetype": "text/x-python",
   "name": "python",
   "nbconvert_exporter": "python",
   "pygments_lexer": "ipython3",
   "version": "3.11.9"
  }
 },
 "nbformat": 4,
 "nbformat_minor": 2
}
