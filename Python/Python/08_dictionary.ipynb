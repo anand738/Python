{
 "cells": [
  {
   "cell_type": "code",
   "execution_count": 1,
   "metadata": {},
   "outputs": [],
   "source": [
    "d = {}"
   ]
  },
  {
   "cell_type": "code",
   "execution_count": 2,
   "metadata": {},
   "outputs": [
    {
     "data": {
      "text/plain": [
       "dict"
      ]
     },
     "execution_count": 2,
     "metadata": {},
     "output_type": "execute_result"
    }
   ],
   "source": [
    "type(d)"
   ]
  },
  {
   "cell_type": "code",
   "execution_count": 4,
   "metadata": {},
   "outputs": [
    {
     "data": {
      "text/plain": [
       "dict"
      ]
     },
     "execution_count": 4,
     "metadata": {},
     "output_type": "execute_result"
    }
   ],
   "source": [
    "d1 = dict()\n",
    "type(d1)"
   ]
  },
  {
   "cell_type": "code",
   "execution_count": 8,
   "metadata": {},
   "outputs": [
    {
     "data": {
      "text/plain": [
       "{'name': 'Anand',\n",
       " 'email': 'anandgupta73830@gmail.com',\n",
       " 'age': 21,\n",
       " 'Single': True}"
      ]
     },
     "execution_count": 8,
     "metadata": {},
     "output_type": "execute_result"
    }
   ],
   "source": [
    "d2 = {\"name\":\"Anand\",\"email\":\"anandgupta73830@gmail.com\",\"age\":21,\"Single\":True}\n",
    "d2"
   ]
  },
  {
   "cell_type": "code",
   "execution_count": 7,
   "metadata": {},
   "outputs": [
    {
     "data": {
      "text/plain": [
       "{12, 'Anand'}"
      ]
     },
     "execution_count": 7,
     "metadata": {},
     "output_type": "execute_result"
    }
   ],
   "source": [
    "d3 = {12,\"Anand\"}\n",
    "d3"
   ]
  },
  {
   "cell_type": "code",
   "execution_count": 9,
   "metadata": {},
   "outputs": [
    {
     "ename": "SyntaxError",
     "evalue": "incomplete input (411593084.py, line 1)",
     "output_type": "error",
     "traceback": [
      "\u001b[1;36m  Cell \u001b[1;32mIn[9], line 1\u001b[1;36m\u001b[0m\n\u001b[1;33m    d4 = {#:\"And\"}\u001b[0m\n\u001b[1;37m                  ^\u001b[0m\n\u001b[1;31mSyntaxError\u001b[0m\u001b[1;31m:\u001b[0m incomplete input\n"
     ]
    }
   ],
   "source": [
    "d4 = {#:\"And\"}"
   ]
  },
  {
   "cell_type": "code",
   "execution_count": 11,
   "metadata": {},
   "outputs": [
    {
     "data": {
      "text/plain": [
       "{'#': 'Gupta'}"
      ]
     },
     "execution_count": 11,
     "metadata": {},
     "output_type": "execute_result"
    }
   ],
   "source": [
    "d4 = {\"#\":\"Gupta\"}\n",
    "d4"
   ]
  },
  {
   "cell_type": "code",
   "execution_count": null,
   "metadata": {},
   "outputs": [
    {
     "ename": "TypeError",
     "evalue": "unhashable type: 'list'",
     "output_type": "error",
     "traceback": [
      "\u001b[1;31m---------------------------------------------------------------------------\u001b[0m",
      "\u001b[1;31mTypeError\u001b[0m                                 Traceback (most recent call last)",
      "Cell \u001b[1;32mIn[12], line 1\u001b[0m\n\u001b[1;32m----> 1\u001b[0m d5 \u001b[38;5;241m=\u001b[39m {[\u001b[38;5;241m1\u001b[39m,\u001b[38;5;241m2\u001b[39m,\u001b[38;5;241m3\u001b[39m]:\u001b[38;5;124m\"\u001b[39m\u001b[38;5;124mAnand\u001b[39m\u001b[38;5;124m\"\u001b[39m}\n",
      "\u001b[1;31mTypeError\u001b[0m: unhashable type: 'list'"
     ]
    }
   ],
   "source": [
    "d5 = {[1,2,3]:\"Anand\"} # not possible"
   ]
  },
  {
   "cell_type": "code",
   "execution_count": 13,
   "metadata": {},
   "outputs": [
    {
     "ename": "TypeError",
     "evalue": "unhashable type: 'set'",
     "output_type": "error",
     "traceback": [
      "\u001b[1;31m---------------------------------------------------------------------------\u001b[0m",
      "\u001b[1;31mTypeError\u001b[0m                                 Traceback (most recent call last)",
      "Cell \u001b[1;32mIn[13], line 1\u001b[0m\n\u001b[1;32m----> 1\u001b[0m d5 \u001b[38;5;241m=\u001b[39m {{\u001b[38;5;241m1\u001b[39m,\u001b[38;5;241m2\u001b[39m,\u001b[38;5;241m3\u001b[39m}:\u001b[38;5;124m\"\u001b[39m\u001b[38;5;124mAnand\u001b[39m\u001b[38;5;124m\"\u001b[39m}\n",
      "\u001b[1;31mTypeError\u001b[0m: unhashable type: 'set'"
     ]
    }
   ],
   "source": [
    "d5 = {{1,2,3}:\"Anand\"}"
   ]
  },
  {
   "cell_type": "code",
   "execution_count": 15,
   "metadata": {},
   "outputs": [
    {
     "data": {
      "text/plain": [
       "{(1, 2, 3): 'Anand'}"
      ]
     },
     "execution_count": 15,
     "metadata": {},
     "output_type": "execute_result"
    }
   ],
   "source": [
    "d5 = {(1,2,3):\"Anand\"}\n",
    "d5"
   ]
  },
  {
   "cell_type": "code",
   "execution_count": 16,
   "metadata": {},
   "outputs": [],
   "source": [
    "d5 = {False:\"Anand\"}"
   ]
  },
  {
   "cell_type": "code",
   "execution_count": 17,
   "metadata": {},
   "outputs": [],
   "source": [
    "d5={23.43:\"Anand\"}"
   ]
  },
  {
   "cell_type": "code",
   "execution_count": 18,
   "metadata": {},
   "outputs": [],
   "source": [
    "d5 = {23+3j:\"Anan\"}"
   ]
  },
  {
   "cell_type": "code",
   "execution_count": 19,
   "metadata": {},
   "outputs": [
    {
     "ename": "TypeError",
     "evalue": "unhashable type: 'dict'",
     "output_type": "error",
     "traceback": [
      "\u001b[1;31m---------------------------------------------------------------------------\u001b[0m",
      "\u001b[1;31mTypeError\u001b[0m                                 Traceback (most recent call last)",
      "Cell \u001b[1;32mIn[19], line 1\u001b[0m\n\u001b[1;32m----> 1\u001b[0m d5 \u001b[38;5;241m=\u001b[39m {{\u001b[38;5;124m\"\u001b[39m\u001b[38;5;124mKey\u001b[39m\u001b[38;5;124m\"\u001b[39m:\u001b[38;5;124m\"\u001b[39m\u001b[38;5;124mValue\u001b[39m\u001b[38;5;124m\"\u001b[39m}}\n",
      "\u001b[1;31mTypeError\u001b[0m: unhashable type: 'dict'"
     ]
    }
   ],
   "source": [
    "d5 = {{\"Key\":\"Value\"}}"
   ]
  },
  {
   "cell_type": "code",
   "execution_count": 20,
   "metadata": {},
   "outputs": [
    {
     "data": {
      "text/plain": [
       "{'name': 'Anand Gupta'}"
      ]
     },
     "execution_count": 20,
     "metadata": {},
     "output_type": "execute_result"
    }
   ],
   "source": [
    "d5 = {\"name\":\"Anand\",\"name\":\"Anand Gupta\"}\n",
    "d5"
   ]
  },
  {
   "cell_type": "code",
   "execution_count": 23,
   "metadata": {},
   "outputs": [
    {
     "data": {
      "text/plain": [
       "{'name': 'Anand Gupta', 'subject': {'DSA, ML,PYTHON,DS, ANALYTICS,WEB DEV'}}"
      ]
     },
     "execution_count": 23,
     "metadata": {},
     "output_type": "execute_result"
    }
   ],
   "source": [
    "d6 = {\"name\":\"Anand Gupta\",\"subject\":{\"DSA, ML,PYTHON,DS, ANALYTICS,WEB DEV\"}}\n",
    "d6"
   ]
  },
  {
   "cell_type": "code",
   "execution_count": null,
   "metadata": {},
   "outputs": [
    {
     "data": {
      "text/plain": [
       "{'name': 'Anand Gupta',\n",
       " 'subject': ['DSA, ML,PYTHON,DS, ANALYTICS,WEB DEV'],\n",
       " 'email': ('anand738@gmail.com', 'nitin23@gmail.com')}"
      ]
     },
     "execution_count": 24,
     "metadata": {},
     "output_type": "execute_result"
    }
   ],
   "source": [
    "d6 = {\"name\":\"Anand Gupta\",\"subject\":[\"DSA, ML,PYTHON,DS, ANALYTICS,WEB DEV\"],\"email\":(\"anand738@gmail.com\",\"nitin23@gmail.com\")}\n",
    "d6"
   ]
  },
  {
   "cell_type": "code",
   "execution_count": 25,
   "metadata": {},
   "outputs": [
    {
     "data": {
      "text/plain": [
       "{'name': 'Anand Gupta',\n",
       " 'subject': ['DSA, ML,PYTHON,DS, ANALYTICS,WEB DEV'],\n",
       " 'email': ('anand738@gmail.com', 'nitin23@gmail.com'),\n",
       " 'phone numner': 7383029448,\n",
       " 'height': 166.32,\n",
       " 'Male': True}"
      ]
     },
     "execution_count": 25,
     "metadata": {},
     "output_type": "execute_result"
    }
   ],
   "source": [
    "d6 = {\"name\":\"Anand Gupta\",\n",
    "      \"subject\":[\"DSA, ML,PYTHON,DS, ANALYTICS,WEB DEV\"],\n",
    "      \"email\":(\"anand738@gmail.com\",\"nitin23@gmail.com\"),\n",
    "      \"phone numner\":7383029448,\n",
    "      \"height\":166.32,\n",
    "      \"Male\":True}\n",
    "d6"
   ]
  },
  {
   "cell_type": "code",
   "execution_count": 26,
   "metadata": {},
   "outputs": [
    {
     "data": {
      "text/plain": [
       "{'name': 'Anand Gupta',\n",
       " 'subject': ['DSA, ML,PYTHON,DS, ANALYTICS,WEB DEV'],\n",
       " 'email': ('anand738@gmail.com', 'nitin23@gmail.com'),\n",
       " 'phone numner': 7383029448,\n",
       " 'height': 166.32,\n",
       " 'Male': True,\n",
       " 'Lucky number': {1, 2, 4, 5, 12, 23, 56, 231}}"
      ]
     },
     "execution_count": 26,
     "metadata": {},
     "output_type": "execute_result"
    }
   ],
   "source": [
    "d6 = {\"name\":\"Anand Gupta\",\n",
    "      \"subject\":[\"DSA, ML,PYTHON,DS, ANALYTICS,WEB DEV\"],\n",
    "      \"email\":(\"anand738@gmail.com\",\"nitin23@gmail.com\"),\n",
    "      \"phone numner\":7383029448,\n",
    "      \"height\":166.32,\n",
    "      \"Male\":True,\n",
    "      \"Lucky number\":{1,2,23,23,231,1,12,12,2,4,5,56,2,1}}\n",
    "d6"
   ]
  },
  {
   "cell_type": "code",
   "execution_count": 72,
   "metadata": {},
   "outputs": [
    {
     "data": {
      "text/plain": [
       "{'name': 'Anand Gupta',\n",
       " 'subject': ['DSA, ML,PYTHON,DS, ANALYTICS,WEB DEV'],\n",
       " 'email': ('anand738@gmail.com', 'nitin23@gmail.com'),\n",
       " 'phone numner': 7383029448,\n",
       " 'height': 166.32,\n",
       " 'Male': True,\n",
       " 'Lucky number': {1, 2, 4, 5, 12, 23, 56, 231},\n",
       " 'Resume': {'linkedin': 'https://www.linkedin.com/in/anand-gupta-b8a43b200/',\n",
       "  'Github': 'https://www.github.com/anand738',\n",
       "  'age': 21,\n",
       "  'Project': ['WAR', 'DRDO', 'HPP']}}"
      ]
     },
     "execution_count": 72,
     "metadata": {},
     "output_type": "execute_result"
    }
   ],
   "source": [
    "d6 = {\"name\":\"Anand Gupta\",\n",
    "      \"subject\":[\"DSA, ML,PYTHON,DS, ANALYTICS,WEB DEV\"],\n",
    "      \"email\":(\"anand738@gmail.com\",\"nitin23@gmail.com\"),\n",
    "      \"phone numner\":7383029448,\n",
    "      \"height\":166.32,\n",
    "      \"Male\":True,\n",
    "      \"Lucky number\":{1,2,23,23,231,1,12,12,2,4,5,56,2,1},\n",
    "      \"Resume\":{\"linkedin\":\"https://www.linkedin.com/in/anand-gupta-b8a43b200/\",\n",
    "                \"Github\":\"https://www.github.com/anand738\",\n",
    "                \"age\":21,\n",
    "                \"Project\":[\"WAR\",\"DRDO\",\"HPP\"]}}\n",
    "d6"
   ]
  },
  {
   "cell_type": "code",
   "execution_count": 34,
   "metadata": {},
   "outputs": [
    {
     "data": {
      "text/plain": [
       "'Anand Gupta'"
      ]
     },
     "execution_count": 34,
     "metadata": {},
     "output_type": "execute_result"
    }
   ],
   "source": [
    "d6[\"name\"]"
   ]
  },
  {
   "cell_type": "code",
   "execution_count": 35,
   "metadata": {},
   "outputs": [
    {
     "data": {
      "text/plain": [
       "{'linkedin': 'https://www.linkedin.com/in/anand-gupta-b8a43b200/',\n",
       " 'Github': 'https://www.github.com/anand738',\n",
       " 'age': 21,\n",
       " 'Project': ['WAR', 'DRDO', 'HPP']}"
      ]
     },
     "execution_count": 35,
     "metadata": {},
     "output_type": "execute_result"
    }
   ],
   "source": [
    "d6[\"Resume\"]"
   ]
  },
  {
   "cell_type": "code",
   "execution_count": 36,
   "metadata": {},
   "outputs": [
    {
     "data": {
      "text/plain": [
       "'https://www.linkedin.com/in/anand-gupta-b8a43b200/'"
      ]
     },
     "execution_count": 36,
     "metadata": {},
     "output_type": "execute_result"
    }
   ],
   "source": [
    "d6[\"Resume\"][\"linkedin\"]"
   ]
  },
  {
   "cell_type": "code",
   "execution_count": 38,
   "metadata": {},
   "outputs": [
    {
     "data": {
      "text/plain": [
       "'HPP'"
      ]
     },
     "execution_count": 38,
     "metadata": {},
     "output_type": "execute_result"
    }
   ],
   "source": [
    "d6[\"Resume\"][\"Project\"][2]"
   ]
  },
  {
   "cell_type": "code",
   "execution_count": 40,
   "metadata": {},
   "outputs": [
    {
     "data": {
      "text/plain": [
       "{'name': 'Anand Gupta',\n",
       " 'subject': ['DSA, ML,PYTHON,DS, ANALYTICS,WEB DEV'],\n",
       " 'email': ('anand738@gmail.com', 'nitin23@gmail.com'),\n",
       " 'phone numner': 7383029448,\n",
       " 'height': 170.2,\n",
       " 'Male': True,\n",
       " 'Lucky number': {1, 2, 4, 5, 12, 23, 56, 231},\n",
       " 'Resume': {'linkedin': 'https://www.linkedin.com/in/anand-gupta-b8a43b200/',\n",
       "  'Github': 'https://www.github.com/anand738',\n",
       "  'age': 21,\n",
       "  'Project': ['WAR', 'DRDO', 'HPP']}}"
      ]
     },
     "execution_count": 40,
     "metadata": {},
     "output_type": "execute_result"
    }
   ],
   "source": [
    "d6[\"height\"] = 170.2\n",
    "d6"
   ]
  },
  {
   "cell_type": "code",
   "execution_count": 45,
   "metadata": {},
   "outputs": [
    {
     "data": {
      "text/plain": [
       "{'name': 'Anand Gupta',\n",
       " 'subject': ['DSA, ML,PYTHON,DS, ANALYTICS,WEB DEV'],\n",
       " 'email': ('anand738@gmail.com', 'nitin23@gmail.com'),\n",
       " 'phone numner': 7383029448,\n",
       " 'height': 166.32,\n",
       " 'Male': True,\n",
       " 'Lucky number': {1, 2, 4, 5, 12, 23, 56, 231},\n",
       " 'Resume': {'linkedin': 'https://www.linkedin.com/in/anand-gupta-b8a43b200/',\n",
       "  'Github': 'https://www.github.com/anand738',\n",
       "  'age': 21,\n",
       "  'Project': ['WAR', 'DRDO', 'HPP'],\n",
       "  'Company': ['AMNS', 'Wipro', 'John Deer', 'Oracle', 'Delloite', 'ineuron']},\n",
       " 'Company': ['AMNS', 'Wipro', 'John Deer', 'Oracle', 'Delloite', 'ineuron']}"
      ]
     },
     "execution_count": 45,
     "metadata": {},
     "output_type": "execute_result"
    }
   ],
   "source": [
    "d6[\"Company\"] = [\"AMNS\",\"Wipro\",\"John Deer\",\"Oracle\",\"Delloite\",\"ineuron\"]\n",
    "d6\n"
   ]
  },
  {
   "cell_type": "code",
   "execution_count": 46,
   "metadata": {},
   "outputs": [
    {
     "data": {
      "text/plain": [
       "{'name': 'Anand Gupta',\n",
       " 'subject': ['DSA, ML,PYTHON,DS, ANALYTICS,WEB DEV'],\n",
       " 'email': ('anand738@gmail.com', 'nitin23@gmail.com'),\n",
       " 'phone numner': 7383029448,\n",
       " 'height': 166.32,\n",
       " 'Male': True,\n",
       " 'Lucky number': {1, 2, 4, 5, 12, 23, 56, 231},\n",
       " 'Resume': {'linkedin': 'https://www.linkedin.com/in/anand-gupta-b8a43b200/',\n",
       "  'Github': 'https://www.github.com/anand738',\n",
       "  'age': 21,\n",
       "  'Project': ['WAR', 'DRDO', 'HPP'],\n",
       "  'Company': ['AMNS', 'Wipro', 'John Deer', 'Oracle', 'Delloite', 'ineuron']},\n",
       " 'Company': ['AMNS', 'Wipro', 'John Deer', 'Oracle', 'Delloite', 'ineuron']}"
      ]
     },
     "execution_count": 46,
     "metadata": {},
     "output_type": "execute_result"
    }
   ],
   "source": [
    "d6[\"Resume\"][\"Company\"] = [\"AMNS\",\"Wipro\",\"John Deer\",\"Oracle\",\"Delloite\",\"ineuron\"]\n",
    "d6\n"
   ]
  },
  {
   "cell_type": "code",
   "execution_count": 48,
   "metadata": {},
   "outputs": [
    {
     "data": {
      "text/plain": [
       "9"
      ]
     },
     "execution_count": 48,
     "metadata": {},
     "output_type": "execute_result"
    }
   ],
   "source": [
    "len(d6)"
   ]
  },
  {
   "cell_type": "code",
   "execution_count": 50,
   "metadata": {},
   "outputs": [
    {
     "data": {
      "text/plain": [
       "dict_keys(['name', 'subject', 'email', 'phone numner', 'height', 'Male', 'Lucky number', 'Resume', 'Company'])"
      ]
     },
     "execution_count": 50,
     "metadata": {},
     "output_type": "execute_result"
    }
   ],
   "source": [
    "d6.keys()"
   ]
  },
  {
   "cell_type": "code",
   "execution_count": 51,
   "metadata": {},
   "outputs": [
    {
     "data": {
      "text/plain": [
       "dict_values(['Anand Gupta', ['DSA, ML,PYTHON,DS, ANALYTICS,WEB DEV'], ('anand738@gmail.com', 'nitin23@gmail.com'), 7383029448, 166.32, True, {1, 2, 4, 5, 231, 12, 23, 56}, {'linkedin': 'https://www.linkedin.com/in/anand-gupta-b8a43b200/', 'Github': 'https://www.github.com/anand738', 'age': 21, 'Project': ['WAR', 'DRDO', 'HPP'], 'Company': ['AMNS', 'Wipro', 'John Deer', 'Oracle', 'Delloite', 'ineuron']}, ['AMNS', 'Wipro', 'John Deer', 'Oracle', 'Delloite', 'ineuron']])"
      ]
     },
     "execution_count": 51,
     "metadata": {},
     "output_type": "execute_result"
    }
   ],
   "source": [
    "d6.values()"
   ]
  },
  {
   "cell_type": "code",
   "execution_count": 52,
   "metadata": {},
   "outputs": [
    {
     "data": {
      "text/plain": [
       "dict_keys(['linkedin', 'Github', 'age', 'Project', 'Company'])"
      ]
     },
     "execution_count": 52,
     "metadata": {},
     "output_type": "execute_result"
    }
   ],
   "source": [
    "d6[\"Resume\"].keys()"
   ]
  },
  {
   "cell_type": "code",
   "execution_count": 53,
   "metadata": {},
   "outputs": [
    {
     "data": {
      "text/plain": [
       "dict_values(['https://www.linkedin.com/in/anand-gupta-b8a43b200/', 'https://www.github.com/anand738', 21, ['WAR', 'DRDO', 'HPP'], ['AMNS', 'Wipro', 'John Deer', 'Oracle', 'Delloite', 'ineuron']])"
      ]
     },
     "execution_count": 53,
     "metadata": {},
     "output_type": "execute_result"
    }
   ],
   "source": [
    "d6[\"Resume\"].values()"
   ]
  },
  {
   "cell_type": "code",
   "execution_count": 54,
   "metadata": {},
   "outputs": [
    {
     "data": {
      "text/plain": [
       "dict_items([('name', 'Anand Gupta'), ('subject', ['DSA, ML,PYTHON,DS, ANALYTICS,WEB DEV']), ('email', ('anand738@gmail.com', 'nitin23@gmail.com')), ('phone numner', 7383029448), ('height', 166.32), ('Male', True), ('Lucky number', {1, 2, 4, 5, 231, 12, 23, 56}), ('Resume', {'linkedin': 'https://www.linkedin.com/in/anand-gupta-b8a43b200/', 'Github': 'https://www.github.com/anand738', 'age': 21, 'Project': ['WAR', 'DRDO', 'HPP'], 'Company': ['AMNS', 'Wipro', 'John Deer', 'Oracle', 'Delloite', 'ineuron']}), ('Company', ['AMNS', 'Wipro', 'John Deer', 'Oracle', 'Delloite', 'ineuron'])])"
      ]
     },
     "execution_count": 54,
     "metadata": {},
     "output_type": "execute_result"
    }
   ],
   "source": [
    "d6.items()"
   ]
  },
  {
   "cell_type": "code",
   "execution_count": 57,
   "metadata": {},
   "outputs": [
    {
     "data": {
      "text/plain": [
       "[('name', 'Anand Gupta'),\n",
       " ('subject', ['DSA, ML,PYTHON,DS, ANALYTICS,WEB DEV']),\n",
       " ('email', ('anand738@gmail.com', 'nitin23@gmail.com')),\n",
       " ('phone numner', 7383029448),\n",
       " ('height', 166.32),\n",
       " ('Male', True),\n",
       " ('Lucky number', {1, 2, 4, 5, 12, 23, 56, 231}),\n",
       " ('Resume',\n",
       "  {'linkedin': 'https://www.linkedin.com/in/anand-gupta-b8a43b200/',\n",
       "   'Github': 'https://www.github.com/anand738',\n",
       "   'age': 21,\n",
       "   'Project': ['WAR', 'DRDO', 'HPP'],\n",
       "   'Company': ['AMNS',\n",
       "    'Wipro',\n",
       "    'John Deer',\n",
       "    'Oracle',\n",
       "    'Delloite',\n",
       "    'ineuron']}),\n",
       " ('Company', ['AMNS', 'Wipro', 'John Deer', 'Oracle', 'Delloite', 'ineuron'])]"
      ]
     },
     "execution_count": 57,
     "metadata": {},
     "output_type": "execute_result"
    }
   ],
   "source": [
    "list(d6.items())"
   ]
  },
  {
   "cell_type": "code",
   "execution_count": 58,
   "metadata": {},
   "outputs": [
    {
     "data": {
      "text/plain": [
       "'Anand Gupta'"
      ]
     },
     "execution_count": 58,
     "metadata": {},
     "output_type": "execute_result"
    }
   ],
   "source": [
    "d6[\"name\"]"
   ]
  },
  {
   "cell_type": "code",
   "execution_count": 59,
   "metadata": {},
   "outputs": [
    {
     "data": {
      "text/plain": [
       "'Anand Gupta'"
      ]
     },
     "execution_count": 59,
     "metadata": {},
     "output_type": "execute_result"
    }
   ],
   "source": [
    "d6.get(\"name\")"
   ]
  },
  {
   "cell_type": "code",
   "execution_count": 60,
   "metadata": {},
   "outputs": [
    {
     "data": {
      "text/plain": [
       "{'linkedin': 'https://www.linkedin.com/in/anand-gupta-b8a43b200/',\n",
       " 'Github': 'https://www.github.com/anand738',\n",
       " 'age': 21,\n",
       " 'Project': ['WAR', 'DRDO', 'HPP'],\n",
       " 'Company': ['AMNS', 'Wipro', 'John Deer', 'Oracle', 'Delloite', 'ineuron']}"
      ]
     },
     "execution_count": 60,
     "metadata": {},
     "output_type": "execute_result"
    }
   ],
   "source": [
    "d6.get(\"Resume\")"
   ]
  },
  {
   "cell_type": "code",
   "execution_count": 61,
   "metadata": {},
   "outputs": [],
   "source": [
    "d6.update({\"name\":\"Nitin Gupta\"})"
   ]
  },
  {
   "cell_type": "code",
   "execution_count": 62,
   "metadata": {},
   "outputs": [
    {
     "data": {
      "text/plain": [
       "{'name': 'Nitin Gupta',\n",
       " 'subject': ['DSA, ML,PYTHON,DS, ANALYTICS,WEB DEV'],\n",
       " 'email': ('anand738@gmail.com', 'nitin23@gmail.com'),\n",
       " 'phone numner': 7383029448,\n",
       " 'height': 166.32,\n",
       " 'Male': True,\n",
       " 'Lucky number': {1, 2, 4, 5, 12, 23, 56, 231},\n",
       " 'Resume': {'linkedin': 'https://www.linkedin.com/in/anand-gupta-b8a43b200/',\n",
       "  'Github': 'https://www.github.com/anand738',\n",
       "  'age': 21,\n",
       "  'Project': ['WAR', 'DRDO', 'HPP'],\n",
       "  'Company': ['AMNS', 'Wipro', 'John Deer', 'Oracle', 'Delloite', 'ineuron']},\n",
       " 'Company': ['AMNS', 'Wipro', 'John Deer', 'Oracle', 'Delloite', 'ineuron']}"
      ]
     },
     "execution_count": 62,
     "metadata": {},
     "output_type": "execute_result"
    }
   ],
   "source": [
    "d6"
   ]
  },
  {
   "cell_type": "code",
   "execution_count": 63,
   "metadata": {},
   "outputs": [
    {
     "ename": "TypeError",
     "evalue": "pop expected at least 1 argument, got 0",
     "output_type": "error",
     "traceback": [
      "\u001b[1;31m---------------------------------------------------------------------------\u001b[0m",
      "\u001b[1;31mTypeError\u001b[0m                                 Traceback (most recent call last)",
      "Cell \u001b[1;32mIn[63], line 1\u001b[0m\n\u001b[1;32m----> 1\u001b[0m \u001b[43md6\u001b[49m\u001b[38;5;241;43m.\u001b[39;49m\u001b[43mpop\u001b[49m\u001b[43m(\u001b[49m\u001b[43m)\u001b[49m\n",
      "\u001b[1;31mTypeError\u001b[0m: pop expected at least 1 argument, got 0"
     ]
    }
   ],
   "source": [
    "d6.pop()"
   ]
  },
  {
   "cell_type": "code",
   "execution_count": 65,
   "metadata": {},
   "outputs": [
    {
     "data": {
      "text/plain": [
       "166.32"
      ]
     },
     "execution_count": 65,
     "metadata": {},
     "output_type": "execute_result"
    }
   ],
   "source": [
    "d6.pop(\"height\")"
   ]
  },
  {
   "cell_type": "code",
   "execution_count": 76,
   "metadata": {},
   "outputs": [
    {
     "data": {
      "text/plain": [
       "{'name': 'Anand Gupta',\n",
       " 'subject': ['DSA, ML,PYTHON,DS, ANALYTICS,WEB DEV'],\n",
       " 'email': ('anand738@gmail.com', 'nitin23@gmail.com'),\n",
       " 'phone numner': 7383029448,\n",
       " 'height': 166.32,\n",
       " 'Male': True,\n",
       " 'Lucky number': {1, 2, 4, 5, 12, 23, 56, 231}}"
      ]
     },
     "execution_count": 76,
     "metadata": {},
     "output_type": "execute_result"
    }
   ],
   "source": [
    "d6"
   ]
  },
  {
   "cell_type": "code",
   "execution_count": 73,
   "metadata": {},
   "outputs": [
    {
     "data": {
      "text/plain": [
       "('Resume',\n",
       " {'linkedin': 'https://www.linkedin.com/in/anand-gupta-b8a43b200/',\n",
       "  'Github': 'https://www.github.com/anand738',\n",
       "  'age': 21,\n",
       "  'Project': ['WAR', 'DRDO', 'HPP']})"
      ]
     },
     "execution_count": 73,
     "metadata": {},
     "output_type": "execute_result"
    }
   ],
   "source": [
    "d6.popitem()"
   ]
  },
  {
   "cell_type": "code",
   "execution_count": 78,
   "metadata": {},
   "outputs": [
    {
     "ename": "AttributeError",
     "evalue": "'set' object has no attribute 'popitem'",
     "output_type": "error",
     "traceback": [
      "\u001b[1;31m---------------------------------------------------------------------------\u001b[0m",
      "\u001b[1;31mAttributeError\u001b[0m                            Traceback (most recent call last)",
      "Cell \u001b[1;32mIn[78], line 1\u001b[0m\n\u001b[1;32m----> 1\u001b[0m \u001b[43md6\u001b[49m\u001b[43m[\u001b[49m\u001b[38;5;124;43m\"\u001b[39;49m\u001b[38;5;124;43mLucky number\u001b[39;49m\u001b[38;5;124;43m\"\u001b[39;49m\u001b[43m]\u001b[49m\u001b[38;5;241;43m.\u001b[39;49m\u001b[43mpopitem\u001b[49m()\n",
      "\u001b[1;31mAttributeError\u001b[0m: 'set' object has no attribute 'popitem'"
     ]
    }
   ],
   "source": [
    "d6[\"Lucky number\"].popitem()"
   ]
  },
  {
   "cell_type": "code",
   "execution_count": 69,
   "metadata": {},
   "outputs": [],
   "source": [
    "d6 = d5.copy()"
   ]
  },
  {
   "cell_type": "code",
   "execution_count": 70,
   "metadata": {},
   "outputs": [
    {
     "data": {
      "text/plain": [
       "{'name': 'Anand Gupta'}"
      ]
     },
     "execution_count": 70,
     "metadata": {},
     "output_type": "execute_result"
    }
   ],
   "source": [
    "d6"
   ]
  },
  {
   "cell_type": "code",
   "execution_count": null,
   "metadata": {},
   "outputs": [],
   "source": []
  }
 ],
 "metadata": {
  "kernelspec": {
   "display_name": "Python 3",
   "language": "python",
   "name": "python3"
  },
  "language_info": {
   "codemirror_mode": {
    "name": "ipython",
    "version": 3
   },
   "file_extension": ".py",
   "mimetype": "text/x-python",
   "name": "python",
   "nbconvert_exporter": "python",
   "pygments_lexer": "ipython3",
   "version": "3.11.9"
  }
 },
 "nbformat": 4,
 "nbformat_minor": 2
}
