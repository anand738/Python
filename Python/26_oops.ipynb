{
 "cells": [
  {
   "cell_type": "code",
   "execution_count": 3,
   "metadata": {},
   "outputs": [
    {
     "name": "stdout",
     "output_type": "stream",
     "text": [
      "<__main__.Student object at 0x000001F9B0C89B10>\n",
      "Anand\n"
     ]
    }
   ],
   "source": [
    "class Student:\n",
    "    name = \"Anand\"\n",
    "s1 = Student()\n",
    "print(s1)\n",
    "print(s1.name)"
   ]
  },
  {
   "cell_type": "code",
   "execution_count": 5,
   "metadata": {},
   "outputs": [
    {
     "name": "stdout",
     "output_type": "stream",
     "text": [
      "Blue\n",
      "Mercedes\n"
     ]
    }
   ],
   "source": [
    "class Car:\n",
    "    color = \"Blue\"\n",
    "    brand = \"Mercedes\"\n",
    "\n",
    "car1 = Car()\n",
    "print(car1.color)\n",
    "print(car1.brand)"
   ]
  },
  {
   "cell_type": "code",
   "execution_count": null,
   "metadata": {},
   "outputs": [
    {
     "name": "stdout",
     "output_type": "stream",
     "text": [
      "Welcome Students Anand\n",
      "94\n"
     ]
    }
   ],
   "source": [
    "class Student:\n",
    "\n",
    "    # # default constructor\n",
    "    # def __init__(self):\n",
    "    #     pass\n",
    "    \n",
    "    collage_name = \"Svnit\"  # class attiribute\n",
    "    # name = \"hbjss\"\n",
    "\n",
    "    # parameterized constructor\n",
    "    def __init__(self,fullname,marks):\n",
    "        # print(self)\n",
    "        self.name = fullname   # object attributes\n",
    "        self.marks = marks\n",
    "\n",
    "        \n",
    "    \n",
    "    def welcome(self):\n",
    "        print(\"Welcome Students\",self.name)\n",
    "\n",
    "\n",
    "    def get_marks(self):\n",
    "        return self.marks\n",
    "    \n",
    "s1 = Student(\"Anand\",94)\n",
    "\n",
    "# print(s1.name,s1.marks)\n",
    "# s2 = Student(\"Nitin\",96)\n",
    "# print(s2.name,s2.marks)\n",
    "# print(s1.collage_name)\n",
    "# print(Student.collage_name)\n",
    "\n",
    "\n",
    "s1.welcome()\n",
    "print(s1.get_marks())\n",
    "\n"
   ]
  },
  {
   "cell_type": "code",
   "execution_count": 31,
   "metadata": {},
   "outputs": [
    {
     "name": "stdout",
     "output_type": "stream",
     "text": [
      "Hii Anand Gupta Your avegrage score is: 94.0\n",
      "Svnit\n"
     ]
    }
   ],
   "source": [
    "# practice Question\n",
    "\n",
    "class Student1:\n",
    "    def __init__(self,name,marks):\n",
    "        self.name = name\n",
    "        self.marks = marks\n",
    "\n",
    "    @staticmethod\n",
    "    def collage():\n",
    "        print(\"Svnit\")\n",
    "\n",
    "    def get_avg(self):\n",
    "        sum = 0\n",
    "        for val in self.marks:\n",
    "            sum += val\n",
    "        print(\"Hii\",self.name, \"Your avegrage score is:\",sum/3)\n",
    "\n",
    "\n",
    "s1 = Student1(\"Anand Gupta\",[95,96,91])\n",
    "s1.get_avg()\n",
    "s1.collage()"
   ]
  },
  {
   "cell_type": "code",
   "execution_count": 33,
   "metadata": {},
   "outputs": [
    {
     "name": "stdout",
     "output_type": "stream",
     "text": [
      "Car started\n"
     ]
    }
   ],
   "source": [
    "# Abstraction\n",
    "\n",
    "class Car:\n",
    "    def __init__(self):\n",
    "        self.acce = False\n",
    "        self.brek = False\n",
    "        self.clutch = False\n",
    "\n",
    "    def start(self):\n",
    "        self.clutch = True\n",
    "        self.acce = True\n",
    "        print(\"Car started\")\n",
    "\n",
    "car1  = Car()\n",
    "car1.start()"
   ]
  },
  {
   "cell_type": "code",
   "execution_count": 36,
   "metadata": {},
   "outputs": [
    {
     "name": "stdout",
     "output_type": "stream",
     "text": [
      "Rs. 4000 was debited\n",
      "Total balance is: 6000\n",
      "Rs. 6000 was credited\n",
      "Total balance is: 12000\n"
     ]
    }
   ],
   "source": [
    "# practice question\n",
    "\n",
    "class Account:\n",
    "    def __init__(self, account_number, balance):\n",
    "        self.account_number = account_number\n",
    "        self.balance = balance\n",
    "    def debit(self,amount):\n",
    "        self.balance -= amount\n",
    "        print(\"Rs.\",amount,\"was debited\")\n",
    "        print(\"Total balance is:\",self.get_balance())\n",
    "\n",
    "    def credit(self,amount):\n",
    "        self.balance += amount\n",
    "        print(\"Rs.\",amount,\"was credited\")\n",
    "        print(\"Total balance is:\",self.get_balance())\n",
    "\n",
    "\n",
    "    def get_balance(self):\n",
    "        return self.balance\n",
    "\n",
    "acc = Account(12423,10000)\n",
    "acc.debit(4000)\n",
    "acc.credit(6000)"
   ]
  },
  {
   "cell_type": "code",
   "execution_count": 7,
   "metadata": {},
   "outputs": [
    {
     "name": "stdout",
     "output_type": "stream",
     "text": [
      "231224\n",
      "abndfkjsd\n",
      "None\n"
     ]
    }
   ],
   "source": [
    "# delete \n",
    "\n",
    "class Account:\n",
    "    def __init__(self,acc_no,acc_pass):\n",
    "        self.acc_no = acc_no\n",
    "        # self.acc_pass = acc_pass \n",
    "        self.__acc_pass = acc_pass  # privete\n",
    "\n",
    "    def reset_pass(self):\n",
    "        print(self.__acc_pass)\n",
    "\n",
    "acc1 = Account(\"231224\",\"abndfkjsd\")\n",
    "print(acc1.acc_no)\n",
    "# print(acc1.acc_pass)\n",
    "# print(acc1.__acc_pass) # will not run\n",
    "print(acc1.reset_pass()) \n",
    "\n"
   ]
  },
  {
   "cell_type": "code",
   "execution_count": 10,
   "metadata": {},
   "outputs": [
    {
     "name": "stdout",
     "output_type": "stream",
     "text": [
      "Hello person\n",
      "None\n"
     ]
    }
   ],
   "source": [
    "class Person:\n",
    "    __name = \"anonymous\"\n",
    "\n",
    "\n",
    "    def __hello(self):\n",
    "        print(\"Hello person\")\n",
    "\n",
    "    def welcome(self):\n",
    "        self.__hello()\n",
    "p1 = Person()\n",
    "\n",
    "# print(p1.__name)\n",
    "# print(p1.__hello())\n",
    "\n",
    "print(p1.welcome())\n",
    "\n"
   ]
  },
  {
   "cell_type": "code",
   "execution_count": null,
   "metadata": {},
   "outputs": [
    {
     "name": "stdout",
     "output_type": "stream",
     "text": [
      "Car is started\n",
      "None\n"
     ]
    }
   ],
   "source": [
    "# Inheritance\n",
    "\n",
    "# single\n",
    "\n",
    "class Car:\n",
    "    @staticmethod\n",
    "    def start():\n",
    "        print(\"Car is started\")\n",
    "    @staticmethod\n",
    "    def stop():\n",
    "        print(\"Car is stooped\")\n",
    "\n",
    "class Toyotacar(Car):\n",
    "    def __init__(self,name):\n",
    "        self.name = name\n",
    "\n",
    "car1 = Toyotacar(\"Furtuner\")\n",
    "car2 = Toyotacar(\"prius\")\n",
    "\n",
    "print(car1.start())"
   ]
  },
  {
   "cell_type": "code",
   "execution_count": 22,
   "metadata": {},
   "outputs": [
    {
     "name": "stdout",
     "output_type": "stream",
     "text": [
      "diesel\n",
      "car stopped\n",
      "None\n"
     ]
    }
   ],
   "source": [
    "# multi-level\n",
    "\n",
    "class Car:\n",
    "\n",
    "\n",
    "    @staticmethod\n",
    "    def start():\n",
    "        print(\"Car started\")\n",
    "    \n",
    "    @staticmethod\n",
    "    def stop():\n",
    "        print(\"car stopped\")\n",
    "\n",
    "class Toyotacar(Car):\n",
    "    def __init__(self,brand):\n",
    "        self.brand= brand\n",
    "\n",
    "\n",
    "class Fortuner(Toyotacar):\n",
    "\n",
    "    def __init__(self,type):\n",
    "        self.type = type\n",
    "\n",
    "\n",
    "car1 = Fortuner(\"diesel\")\n",
    "print(car1.type)\n",
    "print(car1.stop())\n"
   ]
  },
  {
   "cell_type": "code",
   "execution_count": 18,
   "metadata": {},
   "outputs": [
    {
     "name": "stdout",
     "output_type": "stream",
     "text": [
      "Welcome to class A\n",
      "Welcome to class B\n",
      "Welcome to class C\n"
     ]
    }
   ],
   "source": [
    "# multiple\n",
    "\n",
    "class A:\n",
    "    varA = \"Welcome to class A\"\n",
    "\n",
    "class B:\n",
    "\n",
    "    varB = \"Welcome to class B\"\n",
    "\n",
    "class C(A,B):\n",
    "\n",
    "    varC = \"Welcome to class C\"\n",
    "\n",
    "c1 = C()\n",
    "\n",
    "print(c1.varA)\n",
    "print(c1.varB)\n",
    "print(c1.varC)\n"
   ]
  },
  {
   "cell_type": "code",
   "execution_count": 28,
   "metadata": {},
   "outputs": [
    {
     "name": "stdout",
     "output_type": "stream",
     "text": [
      "Car started\n",
      "electric\n",
      "car stopped\n",
      "None\n"
     ]
    }
   ],
   "source": [
    "# super () method\n",
    "\n",
    "class Car:\n",
    "\n",
    "    def __init__(self,type):\n",
    "        self.type = type\n",
    "\n",
    "    @staticmethod\n",
    "    def start():\n",
    "        print(\"Car started\")\n",
    "    \n",
    "    @staticmethod\n",
    "    def stop():\n",
    "        print(\"car stopped\")\n",
    "\n",
    "class Toyotacar(Car):\n",
    "    def __init__(self,name,type):\n",
    "        self.name= name\n",
    "        # self.type = type\n",
    "        super().__init__(type)\n",
    "        super().start()\n",
    "\n",
    "\n",
    "car1 = Toyotacar(\"diesel\",\"electric\")\n",
    "print(car1.type)\n",
    "print(car1.stop())\n"
   ]
  },
  {
   "cell_type": "code",
   "execution_count": 36,
   "metadata": {},
   "outputs": [
    {
     "name": "stdout",
     "output_type": "stream",
     "text": [
      "Rahul\n",
      "Rahul\n"
     ]
    }
   ],
   "source": [
    "# class method\n",
    "\n",
    "class Person:\n",
    "\n",
    "    name = \"Anonymaous\"\n",
    "\n",
    "    def changeName(self,name):\n",
    "        # self.name = name\n",
    "        # Person.name = name\n",
    "        self.__class__.name = \"Rahul\"\n",
    "\n",
    "p1 = Person()\n",
    "p1.changeName(\"Anand Gupta\")\n",
    "print(p1.name)\n",
    "print(Person.name)"
   ]
  },
  {
   "cell_type": "code",
   "execution_count": 37,
   "metadata": {},
   "outputs": [
    {
     "name": "stdout",
     "output_type": "stream",
     "text": [
      "Anand Gupta\n",
      "Anand Gupta\n"
     ]
    }
   ],
   "source": [
    "# class method\n",
    "\n",
    "class Person:\n",
    "\n",
    "    name = \"Anonymaous\"\n",
    "\n",
    "    @classmethod\n",
    "    def changeName(cls,name):\n",
    "        cls.name = name\n",
    "\n",
    "p1 = Person()\n",
    "p1.changeName(\"Anand Gupta\")\n",
    "print(p1.name)\n",
    "print(Person.name)"
   ]
  },
  {
   "cell_type": "code",
   "execution_count": 7,
   "metadata": {},
   "outputs": [
    {
     "name": "stdout",
     "output_type": "stream",
     "text": [
      "98.0%\n",
      "86\n",
      "94.0%\n"
     ]
    }
   ],
   "source": [
    "# Propertry deorator\n",
    "\n",
    "class Student:\n",
    "    def __init__(self, phy,chem,math):\n",
    "        self.phy = phy\n",
    "        self.chem = chem\n",
    "        self.math = math\n",
    "        # self.percentage = str((self.phy + self.chem + self.math)/3) + \"%\"\n",
    "\n",
    "\n",
    "\n",
    "    # if teacher chnage the marks of phy anc calc again but \n",
    "    # percentge will not change so we use this method\n",
    "\n",
    "    # def calcpercentage(self):\n",
    "    #     self.percentage =  str((self.phy + self.chem + self.math)/3) + \"%\"    \n",
    "\n",
    "\n",
    "    # we can do it by using property decorator as welll\n",
    "    @property\n",
    "    def percentage(self):\n",
    "        return str((self.phy + self.chem + self.math)/3) + \"%\"\n",
    "        \n",
    "\n",
    "stu1 = Student(98,97,99)\n",
    "print(stu1.percentage)\n",
    "\n",
    "stu1.phy = 86\n",
    "\n",
    "print(stu1.phy)\n",
    "# stu1.calcpercentage()\n",
    "print(stu1.percentage)"
   ]
  },
  {
   "cell_type": "code",
   "execution_count": 17,
   "metadata": {},
   "outputs": [
    {
     "name": "stdout",
     "output_type": "stream",
     "text": [
      "1 i + 3 j\n",
      "3 i + 6 j\n",
      "4 i + 9 j\n",
      "-2 i + -3 j\n"
     ]
    }
   ],
   "source": [
    "# Polymorphism : Operator Overloading\n",
    "class Complex:\n",
    "    def __init__(self,real,img):\n",
    "        self.real = real\n",
    "        self.img = img\n",
    "\n",
    "\n",
    "    def showNumber(self):\n",
    "        print(self.real,\"i +\",self.img,\"j\")\n",
    "\n",
    "    \n",
    "    def __add__(self,num2):  # dunder fn\n",
    "        newReal = self.real + num2.real\n",
    "        newimg = self.img + num2.img\n",
    "        return Complex(newReal,newimg)\n",
    "    \n",
    "    def __sub__(self,num2):  # dunder fn\n",
    "        newReal = self.real - num2.real\n",
    "        newimg = self.img - num2.img\n",
    "        return Complex(newReal,newimg)\n",
    "\n",
    "num1 = Complex(1,3)\n",
    "num1.showNumber()\n",
    "\n",
    "num2 = Complex(3,6)\n",
    "num2.showNumber()\n",
    "\n",
    "\n",
    "\n",
    "num3 = num1+num2\n",
    "num3.showNumber()\n",
    "num4 = num1-num2\n",
    "num4.showNumber()\n",
    "# num3 = num1.add(num2)\n",
    "# num3.showNumber()"
   ]
  },
  {
   "cell_type": "code",
   "execution_count": 26,
   "metadata": {},
   "outputs": [
    {
     "name": "stdout",
     "output_type": "stream",
     "text": [
      "Area of Circle is: 50.24\n",
      "Parimeter of Circle is: 25.142857142857142\n"
     ]
    }
   ],
   "source": [
    "# practice question\n",
    "\n",
    "class Circle:\n",
    "    def __init__(self,radius):\n",
    "        self.radius = radius\n",
    "\n",
    "    def Area(self):\n",
    "        self.area = 3.14*self.radius**2\n",
    "        print(\"Area of Circle is:\",self.area)\n",
    "\n",
    "    def parim(self):\n",
    "        self.pari = 2*(22/7)*self.radius\n",
    "        print(\"Parimeter of Circle is:\",self.pari)\n",
    "\n",
    "\n",
    "c1 = Circle(4)\n",
    "c1.Area()\n",
    "c1.parim()\n"
   ]
  },
  {
   "cell_type": "code",
   "execution_count": 32,
   "metadata": {},
   "outputs": [
    {
     "name": "stdout",
     "output_type": "stream",
     "text": [
      "Role = Accountant\n",
      "Department = Finance\n",
      "Salary = 60,0000\n",
      "Role = Engineer\n",
      "Department = IT\n",
      "Salary = 75,000\n"
     ]
    }
   ],
   "source": [
    "class Employee:\n",
    "    def __init__(self,role,dept,salary):\n",
    "        self.role = role\n",
    "        self.dept = dept\n",
    "        self.salary = salary\n",
    "\n",
    "    def showdetails(self):\n",
    "        print(\"Role =\",self.role)\n",
    "        print(\"Department =\",self.dept)\n",
    "        print(\"Salary =\",self.salary)\n",
    "\n",
    "\n",
    "class Engineer(Employee):\n",
    "    def __init__(self,name,age):\n",
    "        self.name = name\n",
    "        self.age = age\n",
    "        super().__init__(\"Engineer\",\"IT\",\"75,000\")\n",
    "\n",
    "e1 = Employee(\"Accountant\",\"Finance\",\"60,0000\")\n",
    "e1.showdetails()\n",
    "\n",
    "eng1 = Engineer(\"Anand Gupta\",40)\n",
    "eng1.showdetails()"
   ]
  },
  {
   "cell_type": "code",
   "execution_count": null,
   "metadata": {},
   "outputs": [
    {
     "name": "stdout",
     "output_type": "stream",
     "text": [
      "True\n"
     ]
    }
   ],
   "source": [
    "class Order:\n",
    "    def __init__(self,item,price):\n",
    "        self.item = item\n",
    "        self.price = price\n",
    "\n",
    "    def __gt__(self,ord2):\n",
    "        return self.price >ord2.price\n",
    "    \n",
    "\n",
    "\n",
    "ord1 = Order(\"chips\",20)\n",
    "ord2 = Order(\"Tea\",15)\n",
    "\n",
    "print(ord1>ord2) # true"
   ]
  },
  {
   "cell_type": "code",
   "execution_count": null,
   "metadata": {},
   "outputs": [],
   "source": []
  }
 ],
 "metadata": {
  "kernelspec": {
   "display_name": "Python 3",
   "language": "python",
   "name": "python3"
  },
  "language_info": {
   "codemirror_mode": {
    "name": "ipython",
    "version": 3
   },
   "file_extension": ".py",
   "mimetype": "text/x-python",
   "name": "python",
   "nbconvert_exporter": "python",
   "pygments_lexer": "ipython3",
   "version": "3.11.9"
  }
 },
 "nbformat": 4,
 "nbformat_minor": 2
}
