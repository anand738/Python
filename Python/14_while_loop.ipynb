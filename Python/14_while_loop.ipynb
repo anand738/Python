{
 "cells": [
  {
   "cell_type": "code",
   "execution_count": 4,
   "metadata": {},
   "outputs": [
    {
     "name": "stdout",
     "output_type": "stream",
     "text": [
      "0\n",
      "1\n",
      "2\n",
      "3\n",
      "4\n",
      "5\n",
      "6\n",
      "7\n",
      "8\n",
      "9\n",
      "10\n"
     ]
    }
   ],
   "source": [
    "i = 0\n",
    "n = 10\n",
    "while i<=n:\n",
    "    print(i)\n",
    "    i = i+1"
   ]
  },
  {
   "cell_type": "code",
   "execution_count": 8,
   "metadata": {},
   "outputs": [
    {
     "name": "stdout",
     "output_type": "stream",
     "text": [
      "1\n",
      "3\n",
      "6\n",
      "10\n",
      "15\n"
     ]
    }
   ],
   "source": [
    "sum=0\n",
    "i =1\n",
    "while i<=5:\n",
    "    sum = sum +i\n",
    "    i = i+1\n",
    "    print(sum)"
   ]
  },
  {
   "cell_type": "code",
   "execution_count": 10,
   "metadata": {},
   "outputs": [
    {
     "name": "stdout",
     "output_type": "stream",
     "text": [
      "You have guessed right number\n"
     ]
    }
   ],
   "source": [
    "sercret_number = 7\n",
    "guess = -1\n",
    "while guess!=sercret_number:\n",
    "    guess = int(input(\"Enter the guess numbeer\"))\n",
    "print(\"You have guessed right number\")"
   ]
  },
  {
   "cell_type": "code",
   "execution_count": 12,
   "metadata": {},
   "outputs": [
    {
     "name": "stdout",
     "output_type": "stream",
     "text": [
      "10\n",
      "9\n",
      "8\n",
      "7\n",
      "6\n",
      "5\n",
      "4\n",
      "3\n",
      "2\n",
      "1\n",
      "your time up\n"
     ]
    }
   ],
   "source": [
    "timer = 10\n",
    "while timer>0:\n",
    "    print(timer)\n",
    "    timer = timer-1\n",
    "print(\"your time up\")"
   ]
  },
  {
   "cell_type": "code",
   "execution_count": 13,
   "metadata": {},
   "outputs": [],
   "source": [
    "while True:\n",
    "    text = input(\"type exit to stop\")\n",
    "    if text == 'text':\n",
    "        break"
   ]
  },
  {
   "cell_type": "code",
   "execution_count": null,
   "metadata": {},
   "outputs": [
    {
     "name": "stdout",
     "output_type": "stream",
     "text": [
      "0\n",
      "1\n",
      "2\n",
      "3\n",
      "4\n",
      "It will execute itselr ehrn while complete\n"
     ]
    }
   ],
   "source": [
    "i = 0\n",
    "while i<5:\n",
    "    print(i)\n",
    "    i = i+1\n",
    "else:\n",
    "    print(\"It will execute itsele when while complete\")"
   ]
  },
  {
   "cell_type": "code",
   "execution_count": null,
   "metadata": {},
   "outputs": [
    {
     "name": "stdout",
     "output_type": "stream",
     "text": [
      "This is even number 0\n",
      "This is even number 2\n",
      "This is even number 4\n",
      "This is even number 6\n",
      "This is even number 8\n",
      "This is even number 10\n"
     ]
    }
   ],
   "source": [
    "i =0\n",
    "n=10\n",
    "while i<=10:\n",
    "    if i%2==0:\n",
    "        print(\"This is even number:\",i)\n",
    "        \n",
    "    i = i+1\n"
   ]
  },
  {
   "cell_type": "code",
   "execution_count": 20,
   "metadata": {},
   "outputs": [
    {
     "name": "stdout",
     "output_type": "stream",
     "text": [
      "2\n",
      "3\n",
      "4\n",
      "65\n",
      "6\n",
      "0\n",
      "8\n",
      "5\n"
     ]
    }
   ],
   "source": [
    "l = [2,3,4,65,6,0,8,5]\n",
    "index=0\n",
    "while index<len(l):\n",
    "    print(l[index])\n",
    "    index +=1"
   ]
  },
  {
   "cell_type": "code",
   "execution_count": null,
   "metadata": {},
   "outputs": [],
   "source": []
  }
 ],
 "metadata": {
  "kernelspec": {
   "display_name": "Python 3",
   "language": "python",
   "name": "python3"
  },
  "language_info": {
   "codemirror_mode": {
    "name": "ipython",
    "version": 3
   },
   "file_extension": ".py",
   "mimetype": "text/x-python",
   "name": "python",
   "nbconvert_exporter": "python",
   "pygments_lexer": "ipython3",
   "version": "3.11.9"
  }
 },
 "nbformat": 4,
 "nbformat_minor": 2
}
