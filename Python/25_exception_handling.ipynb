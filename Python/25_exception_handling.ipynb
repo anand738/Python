{
 "cells": [
  {
   "cell_type": "code",
   "execution_count": 3,
   "metadata": {},
   "outputs": [
    {
     "ename": "ZeroDivisionError",
     "evalue": "division by zero",
     "output_type": "error",
     "traceback": [
      "\u001b[1;31m---------------------------------------------------------------------------\u001b[0m",
      "\u001b[1;31mZeroDivisionError\u001b[0m                         Traceback (most recent call last)",
      "Cell \u001b[1;32mIn[3], line 2\u001b[0m\n\u001b[0;32m      1\u001b[0m a \u001b[38;5;241m=\u001b[39m\u001b[38;5;241m10\u001b[39m\n\u001b[1;32m----> 2\u001b[0m \u001b[43ma\u001b[49m\u001b[38;5;241;43m/\u001b[39;49m\u001b[38;5;241;43m0\u001b[39;49m\n\u001b[0;32m      3\u001b[0m a\u001b[38;5;241m/\u001b[39m\u001b[38;5;241m2\u001b[39m\n",
      "\u001b[1;31mZeroDivisionError\u001b[0m: division by zero"
     ]
    }
   ],
   "source": [
    "a =10\n",
    "a/0\n",
    "a/2"
   ]
  },
  {
   "cell_type": "code",
   "execution_count": 5,
   "metadata": {},
   "outputs": [
    {
     "ename": "ValueError",
     "evalue": "invalid literal for int() with base 10: 'evef'",
     "output_type": "error",
     "traceback": [
      "\u001b[1;31m---------------------------------------------------------------------------\u001b[0m",
      "\u001b[1;31mValueError\u001b[0m                                Traceback (most recent call last)",
      "Cell \u001b[1;32mIn[5], line 1\u001b[0m\n\u001b[1;32m----> 1\u001b[0m s \u001b[38;5;241m=\u001b[39m \u001b[38;5;28;43mint\u001b[39;49m\u001b[43m(\u001b[49m\u001b[38;5;28;43minput\u001b[39;49m\u001b[43m(\u001b[49m\u001b[38;5;124;43m\"\u001b[39;49m\u001b[38;5;124;43mEnter your name\u001b[39;49m\u001b[38;5;124;43m\"\u001b[39;49m\u001b[43m)\u001b[49m\u001b[43m)\u001b[49m\n\u001b[0;32m      2\u001b[0m s\n",
      "\u001b[1;31mValueError\u001b[0m: invalid literal for int() with base 10: 'evef'"
     ]
    }
   ],
   "source": [
    "s = int(input(\"Enter your name\"))\n",
    "s"
   ]
  },
  {
   "cell_type": "code",
   "execution_count": 9,
   "metadata": {},
   "outputs": [
    {
     "name": "stdout",
     "output_type": "stream",
     "text": [
      "This will be executed after try and except\n"
     ]
    }
   ],
   "source": [
    "try:\n",
    "    a = 10\n",
    "    a/0\n",
    "except:\n",
    "    pass\n",
    "print(\"This will be executed after try and except\")"
   ]
  },
  {
   "cell_type": "code",
   "execution_count": 14,
   "metadata": {},
   "outputs": [
    {
     "name": "stdout",
     "output_type": "stream",
     "text": [
      "Division by zero is not allowed division by zero\n"
     ]
    }
   ],
   "source": [
    "try:\n",
    "    a = int(input(\"Enter the number\"))\n",
    "    b = int(input(\"Enter another number\"))\n",
    "    c = a/b\n",
    "    print(c)\n",
    "except ZeroDivisionError as e:\n",
    "    print(\"Division by zero is not allowed\",e)\n"
   ]
  },
  {
   "cell_type": "code",
   "execution_count": 15,
   "metadata": {},
   "outputs": [
    {
     "ename": "ValueError",
     "evalue": "invalid literal for int() with base 10: 'sdd'",
     "output_type": "error",
     "traceback": [
      "\u001b[1;31m---------------------------------------------------------------------------\u001b[0m",
      "\u001b[1;31mValueError\u001b[0m                                Traceback (most recent call last)",
      "Cell \u001b[1;32mIn[15], line 2\u001b[0m\n\u001b[0;32m      1\u001b[0m \u001b[38;5;28;01mtry\u001b[39;00m:\n\u001b[1;32m----> 2\u001b[0m     a \u001b[38;5;241m=\u001b[39m \u001b[38;5;28;43mint\u001b[39;49m\u001b[43m(\u001b[49m\u001b[38;5;28;43minput\u001b[39;49m\u001b[43m(\u001b[49m\u001b[38;5;124;43m\"\u001b[39;49m\u001b[38;5;124;43mEnter the number\u001b[39;49m\u001b[38;5;124;43m\"\u001b[39;49m\u001b[43m)\u001b[49m\u001b[43m)\u001b[49m\n\u001b[0;32m      3\u001b[0m     b \u001b[38;5;241m=\u001b[39m \u001b[38;5;28mint\u001b[39m(\u001b[38;5;28minput\u001b[39m(\u001b[38;5;124m\"\u001b[39m\u001b[38;5;124mEnter another number\u001b[39m\u001b[38;5;124m\"\u001b[39m))\n\u001b[0;32m      4\u001b[0m     c \u001b[38;5;241m=\u001b[39m a\u001b[38;5;241m/\u001b[39mb\n",
      "\u001b[1;31mValueError\u001b[0m: invalid literal for int() with base 10: 'sdd'"
     ]
    }
   ],
   "source": [
    "try:\n",
    "    a = int(input(\"Enter the number\"))\n",
    "    b = int(input(\"Enter another number\"))\n",
    "    c = a/b\n",
    "    print(c)\n",
    "except ZeroDivisionError as e:\n",
    "    print(\"Division by zero is not allowed\",e)\n"
   ]
  },
  {
   "cell_type": "code",
   "execution_count": 17,
   "metadata": {},
   "outputs": [
    {
     "name": "stdout",
     "output_type": "stream",
     "text": [
      "User has entered inccorect value  invalid literal for int() with base 10: 'dwefre'\n"
     ]
    }
   ],
   "source": [
    "try:\n",
    "    a = int(input(\"Enter the number\"))\n",
    "    b = int(input(\"Enter another number\"))\n",
    "    c = a/b\n",
    "    print(c)\n",
    "except ZeroDivisionError as e:\n",
    "    print(\"Division by zero is not allowed\",e)\n",
    "except ValueError as e:\n",
    "    print(\"User has entered inccorect value \",e)"
   ]
  },
  {
   "cell_type": "code",
   "execution_count": 20,
   "metadata": {},
   "outputs": [
    {
     "name": "stdout",
     "output_type": "stream",
     "text": [
      "There is an error division by zero\n"
     ]
    }
   ],
   "source": [
    "try:\n",
    "    a = int(input(\"Enter the number\"))\n",
    "    b = int(input(\"Enter another number\"))\n",
    "    c = a/b\n",
    "    print(c)\n",
    "except (ZeroDivisionError, ValueError) as e:\n",
    "    print(\"There is an error\",e)\n"
   ]
  },
  {
   "cell_type": "code",
   "execution_count": 22,
   "metadata": {},
   "outputs": [
    {
     "name": "stdout",
     "output_type": "stream",
     "text": [
      "There is an error invalid literal for int() with base 10: 'dscd'\n"
     ]
    }
   ],
   "source": [
    "try:\n",
    "    a = int(input(\"Enter the number\"))\n",
    "    b = int(input(\"Enter another number\"))\n",
    "    c = a/b\n",
    "    print(c)\n",
    "except Exception as e:\n",
    "    print(\"There is an error\",e)\n"
   ]
  },
  {
   "cell_type": "code",
   "execution_count": 23,
   "metadata": {},
   "outputs": [
    {
     "name": "stdout",
     "output_type": "stream",
     "text": [
      "There is an error invalid literal for int() with base 10: 'wecf'\n"
     ]
    }
   ],
   "source": [
    "try:\n",
    "    a = int(input(\"Enter the number\"))\n",
    "    b = int(input(\"Enter another number\"))\n",
    "    c = a/b\n",
    "    print(c)\n",
    "except Exception as e:\n",
    "    print(\"There is an error\",e)\n"
   ]
  },
  {
   "cell_type": "code",
   "execution_count": 25,
   "metadata": {},
   "outputs": [
    {
     "name": "stdout",
     "output_type": "stream",
     "text": [
      "There is an error invalid literal for int() with base 10: 'efv'\n"
     ]
    }
   ],
   "source": [
    "try:\n",
    "    a = int(input(\"Enter the number\"))\n",
    "    b = int(input(\"Enter another number\"))\n",
    "    c = a/b\n",
    "    print(c)\n",
    "except Exception as e:\n",
    "    print(\"There is an error\",e)\n",
    "except ZeroDivisionError as e:\n",
    "    print(\"Division by zero is not allowed\",e)\n",
    "except ValueError as e:\n",
    "    print(\"User has entered inccorect value \",e)"
   ]
  },
  {
   "cell_type": "code",
   "execution_count": 26,
   "metadata": {},
   "outputs": [
    {
     "name": "stdout",
     "output_type": "stream",
     "text": [
      "User has entered inccorect value  invalid literal for int() with base 10: 'fder'\n"
     ]
    }
   ],
   "source": [
    "try:\n",
    "    a = int(input(\"Enter the number\"))\n",
    "    b = int(input(\"Enter another number\"))\n",
    "    c = a/b\n",
    "    print(c)\n",
    "except ZeroDivisionError as e:\n",
    "    print(\"Division by zero is not allowed\",e)\n",
    "except ValueError as e:\n",
    "    print(\"User has entered inccorect value \",e)\n",
    "except Exception as e:\n",
    "    print(\"There is an error\",e)"
   ]
  },
  {
   "cell_type": "code",
   "execution_count": 28,
   "metadata": {},
   "outputs": [
    {
     "name": "stdout",
     "output_type": "stream",
     "text": [
      "4.6\n",
      "This will be executed on a successfull completion of a try block\n"
     ]
    }
   ],
   "source": [
    "try:\n",
    "    a = int(input(\"Enter the number\"))\n",
    "    b = int(input(\"Enter another number\"))\n",
    "    c = a/b\n",
    "    print(c)\n",
    "except ZeroDivisionError as e:\n",
    "    print(\"Division by zero is not allowed\",e)\n",
    "except ValueError as e:\n",
    "    print(\"User has entered inccorect value \",e)\n",
    "except Exception as e:\n",
    "    print(\"There is an error\",e)\n",
    "else:\n",
    "    print(\"This will be executed on a successfull completion of a try block\")"
   ]
  },
  {
   "cell_type": "code",
   "execution_count": 29,
   "metadata": {},
   "outputs": [
    {
     "name": "stdout",
     "output_type": "stream",
     "text": [
      "User has entered inccorect value  invalid literal for int() with base 10: 'fds'\n",
      "This will be executed by default even if we have a error\n"
     ]
    }
   ],
   "source": [
    "try:\n",
    "    a = int(input(\"Enter the number\"))\n",
    "    b = int(input(\"Enter another number\"))\n",
    "    c = a/b\n",
    "    print(c)\n",
    "except ZeroDivisionError as e:\n",
    "    print(\"Division by zero is not allowed\",e)\n",
    "except ValueError as e:\n",
    "    print(\"User has entered inccorect value \",e)\n",
    "except Exception as e:\n",
    "    print(\"There is an error\",e)\n",
    "else:\n",
    "    print(\"This will be executed on a successfull completion of a try block\")\n",
    "finally:\n",
    "    print(\"This will be executed by default even if we have a error\")"
   ]
  },
  {
   "cell_type": "code",
   "execution_count": 30,
   "metadata": {},
   "outputs": [
    {
     "ename": "SyntaxError",
     "evalue": "invalid syntax (3091292863.py, line 14)",
     "output_type": "error",
     "traceback": [
      "\u001b[1;36m  Cell \u001b[1;32mIn[30], line 14\u001b[1;36m\u001b[0m\n\u001b[1;33m    else:\u001b[0m\n\u001b[1;37m    ^\u001b[0m\n\u001b[1;31mSyntaxError\u001b[0m\u001b[1;31m:\u001b[0m invalid syntax\n"
     ]
    }
   ],
   "source": [
    "try:\n",
    "    a = int(input(\"Enter the number\"))\n",
    "    b = int(input(\"Enter another number\"))\n",
    "    c = a/b\n",
    "    print(c)\n",
    "except ZeroDivisionError as e:\n",
    "    print(\"Division by zero is not allowed\",e)\n",
    "except ValueError as e:\n",
    "    print(\"User has entered inccorect value \",e)\n",
    "except Exception as e:\n",
    "    print(\"There is an error\",e)\n",
    "finally:\n",
    "    print(\"This will be executed by default even if we have a error\")\n",
    "else:\n",
    "    print(\"This will be executed on a successfull completion of a try block\")\n"
   ]
  },
  {
   "cell_type": "code",
   "execution_count": 31,
   "metadata": {},
   "outputs": [
    {
     "name": "stdout",
     "output_type": "stream",
     "text": [
      "7.222222222222222\n",
      "This will be executed by default even if we have a error\n"
     ]
    }
   ],
   "source": [
    "try:\n",
    "    a = int(input(\"Enter the number\"))\n",
    "    b = int(input(\"Enter another number\"))\n",
    "    c = a/b\n",
    "    print(c)\n",
    "except ZeroDivisionError as e:\n",
    "    print(\"Division by zero is not allowed\",e)\n",
    "except ValueError as e:\n",
    "    print(\"User has entered inccorect value \",e)\n",
    "except Exception as e:\n",
    "    print(\"There is an error\",e)\n",
    "finally:\n",
    "    print(\"This will be executed by default even if we have a error\")\n"
   ]
  },
  {
   "cell_type": "code",
   "execution_count": null,
   "metadata": {},
   "outputs": [],
   "source": []
  }
 ],
 "metadata": {
  "kernelspec": {
   "display_name": "Python 3",
   "language": "python",
   "name": "python3"
  },
  "language_info": {
   "codemirror_mode": {
    "name": "ipython",
    "version": 3
   },
   "file_extension": ".py",
   "mimetype": "text/x-python",
   "name": "python",
   "nbconvert_exporter": "python",
   "pygments_lexer": "ipython3",
   "version": "3.11.9"
  }
 },
 "nbformat": 4,
 "nbformat_minor": 2
}
