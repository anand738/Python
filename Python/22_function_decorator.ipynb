{
 "cells": [
  {
   "cell_type": "code",
   "execution_count": 37,
   "metadata": {},
   "outputs": [],
   "source": [
    "def name(name:str)->str:\n",
    "    return f\"Hello {name}\"\n"
   ]
  },
  {
   "cell_type": "code",
   "execution_count": 38,
   "metadata": {},
   "outputs": [
    {
     "data": {
      "text/plain": [
       "'Hello ANAND'"
      ]
     },
     "execution_count": 38,
     "metadata": {},
     "output_type": "execute_result"
    }
   ],
   "source": [
    "name(\"ANAND\")"
   ]
  },
  {
   "cell_type": "code",
   "execution_count": 39,
   "metadata": {},
   "outputs": [],
   "source": [
    "def say_hello():\n",
    "    print(\"Hello \")"
   ]
  },
  {
   "cell_type": "code",
   "execution_count": 40,
   "metadata": {},
   "outputs": [
    {
     "name": "stdout",
     "output_type": "stream",
     "text": [
      "Hello \n"
     ]
    }
   ],
   "source": [
    "say_hello()"
   ]
  },
  {
   "cell_type": "code",
   "execution_count": 41,
   "metadata": {},
   "outputs": [],
   "source": [
    "def my_decorator(fun):\n",
    "    def wrapper():\n",
    "        print(\"Print Something before \")\n",
    "        fun()\n",
    "        print(\"Print something after\")\n",
    "    return wrapper"
   ]
  },
  {
   "cell_type": "code",
   "execution_count": 42,
   "metadata": {},
   "outputs": [
    {
     "name": "stdout",
     "output_type": "stream",
     "text": [
      "Hello \n"
     ]
    }
   ],
   "source": [
    "say_hello()"
   ]
  },
  {
   "cell_type": "code",
   "execution_count": 43,
   "metadata": {},
   "outputs": [],
   "source": [
    "@my_decorator\n",
    "def say_hello():\n",
    "    print(\"Hello Anand\")\n",
    "    "
   ]
  },
  {
   "cell_type": "code",
   "execution_count": 44,
   "metadata": {},
   "outputs": [
    {
     "name": "stdout",
     "output_type": "stream",
     "text": [
      "Print Something before \n",
      "Hello Anand\n",
      "Print something after\n"
     ]
    }
   ],
   "source": [
    "say_hello()"
   ]
  },
  {
   "cell_type": "code",
   "execution_count": 45,
   "metadata": {},
   "outputs": [],
   "source": [
    "import time\n",
    "def timer(fun):\n",
    "    def wrapper(*arg,**kwargs):\n",
    "        start_time = time.time()\n",
    "        fun(*arg,**kwargs)\n",
    "        end_time = time.time()\n",
    "\n",
    "        print(f\"The final time difference between execution is {start_time - end_time}\")\n",
    "    return wrapper"
   ]
  },
  {
   "cell_type": "code",
   "execution_count": 46,
   "metadata": {},
   "outputs": [],
   "source": [
    "@timer\n",
    "def say_hello():\n",
    "    print(\"Hii Anand\")"
   ]
  },
  {
   "cell_type": "code",
   "execution_count": 47,
   "metadata": {},
   "outputs": [
    {
     "name": "stdout",
     "output_type": "stream",
     "text": [
      "Hii Anand\n",
      "The final time difference between execution is 0.0\n"
     ]
    }
   ],
   "source": [
    "say_hello()"
   ]
  },
  {
   "cell_type": "code",
   "execution_count": 48,
   "metadata": {},
   "outputs": [],
   "source": [
    "@timer\n",
    "def test(l):\n",
    "    for i in l:\n",
    "        print(l)"
   ]
  },
  {
   "cell_type": "code",
   "execution_count": 49,
   "metadata": {},
   "outputs": [
    {
     "name": "stdout",
     "output_type": "stream",
     "text": [
      "[2, 2, 3, 454, 5, 6, 7, 8, 9, 8, 5, 34, 3, 2, 32, 4, 6, 6, 3, 3]\n",
      "[2, 2, 3, 454, 5, 6, 7, 8, 9, 8, 5, 34, 3, 2, 32, 4, 6, 6, 3, 3]\n",
      "[2, 2, 3, 454, 5, 6, 7, 8, 9, 8, 5, 34, 3, 2, 32, 4, 6, 6, 3, 3]\n",
      "[2, 2, 3, 454, 5, 6, 7, 8, 9, 8, 5, 34, 3, 2, 32, 4, 6, 6, 3, 3]\n",
      "[2, 2, 3, 454, 5, 6, 7, 8, 9, 8, 5, 34, 3, 2, 32, 4, 6, 6, 3, 3]\n",
      "[2, 2, 3, 454, 5, 6, 7, 8, 9, 8, 5, 34, 3, 2, 32, 4, 6, 6, 3, 3]\n",
      "[2, 2, 3, 454, 5, 6, 7, 8, 9, 8, 5, 34, 3, 2, 32, 4, 6, 6, 3, 3]\n",
      "[2, 2, 3, 454, 5, 6, 7, 8, 9, 8, 5, 34, 3, 2, 32, 4, 6, 6, 3, 3]\n",
      "[2, 2, 3, 454, 5, 6, 7, 8, 9, 8, 5, 34, 3, 2, 32, 4, 6, 6, 3, 3]\n",
      "[2, 2, 3, 454, 5, 6, 7, 8, 9, 8, 5, 34, 3, 2, 32, 4, 6, 6, 3, 3]\n",
      "[2, 2, 3, 454, 5, 6, 7, 8, 9, 8, 5, 34, 3, 2, 32, 4, 6, 6, 3, 3]\n",
      "[2, 2, 3, 454, 5, 6, 7, 8, 9, 8, 5, 34, 3, 2, 32, 4, 6, 6, 3, 3]\n",
      "[2, 2, 3, 454, 5, 6, 7, 8, 9, 8, 5, 34, 3, 2, 32, 4, 6, 6, 3, 3]\n",
      "[2, 2, 3, 454, 5, 6, 7, 8, 9, 8, 5, 34, 3, 2, 32, 4, 6, 6, 3, 3]\n",
      "[2, 2, 3, 454, 5, 6, 7, 8, 9, 8, 5, 34, 3, 2, 32, 4, 6, 6, 3, 3]\n",
      "[2, 2, 3, 454, 5, 6, 7, 8, 9, 8, 5, 34, 3, 2, 32, 4, 6, 6, 3, 3]\n",
      "[2, 2, 3, 454, 5, 6, 7, 8, 9, 8, 5, 34, 3, 2, 32, 4, 6, 6, 3, 3]\n",
      "[2, 2, 3, 454, 5, 6, 7, 8, 9, 8, 5, 34, 3, 2, 32, 4, 6, 6, 3, 3]\n",
      "[2, 2, 3, 454, 5, 6, 7, 8, 9, 8, 5, 34, 3, 2, 32, 4, 6, 6, 3, 3]\n",
      "[2, 2, 3, 454, 5, 6, 7, 8, 9, 8, 5, 34, 3, 2, 32, 4, 6, 6, 3, 3]\n",
      "The final time difference between execution is 0.0\n"
     ]
    }
   ],
   "source": [
    "test([2,2,3,454,5,6,7,8,9,8,5,34,3,2,32,4,6,6,3,3])"
   ]
  },
  {
   "cell_type": "code",
   "execution_count": null,
   "metadata": {},
   "outputs": [],
   "source": []
  }
 ],
 "metadata": {
  "kernelspec": {
   "display_name": "Python 3",
   "language": "python",
   "name": "python3"
  },
  "language_info": {
   "codemirror_mode": {
    "name": "ipython",
    "version": 3
   },
   "file_extension": ".py",
   "mimetype": "text/x-python",
   "name": "python",
   "nbconvert_exporter": "python",
   "pygments_lexer": "ipython3",
   "version": "3.11.9"
  }
 },
 "nbformat": 4,
 "nbformat_minor": 2
}
