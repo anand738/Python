{
 "cells": [
  {
   "cell_type": "code",
   "execution_count": 2,
   "metadata": {},
   "outputs": [
    {
     "name": "stdout",
     "output_type": "stream",
     "text": [
      "5 4 3 2 1  \n",
      "4 3 2 1  \n",
      "3 2 1  \n",
      "2 1  \n",
      "1  \n",
      " \n"
     ]
    }
   ],
   "source": [
    "# Problem 1 - Print the following pattern. Write a program to use for loop to print the following reverse number pattern.\n",
    "# 5 4 3 2 1 \n",
    "# 4 3 2 1 \n",
    "# 3 2 1 \n",
    "# 2 1 \n",
    "# 1\n",
    "\n",
    "row=5\n",
    "for i in range(0,row+1):\n",
    "    for j in range(row-i,0,-1):\n",
    "        print(j,end=\" \")\n",
    "\n",
    "    print(\" \")\n"
   ]
  },
  {
   "cell_type": "code",
   "execution_count": 11,
   "metadata": {},
   "outputs": [
    {
     "name": "stdout",
     "output_type": "stream",
     "text": [
      "* \n",
      "* * \n",
      "* * * \n",
      "* * * * \n",
      "* * * \n",
      "* * \n",
      "* \n"
     ]
    }
   ],
   "source": [
    "# * \n",
    "# * * \n",
    "# * * * \n",
    "# * * * * \n",
    "# * * * * * \n",
    "# * * * * \n",
    "# * * * \n",
    "# * * \n",
    "# *\n",
    "\n",
    "\n",
    "row = 4\n",
    "\n",
    "for i in range(1,row+1):\n",
    "    for j in range(0,i):\n",
    "        print(\"*\",end=\" \")\n",
    "    print()\n",
    "\n",
    "for i in range(1,row):\n",
    "    for j in range(row-i,0,-1):\n",
    "        print(\"*\",end=\" \")\n",
    "    print()"
   ]
  },
  {
   "cell_type": "code",
   "execution_count": 30,
   "metadata": {},
   "outputs": [
    {
     "name": "stdout",
     "output_type": "stream",
     "text": [
      "      * \n",
      "     * * \n",
      "    * * * \n",
      "   * * * * \n",
      "  * * * * * \n",
      " * * * * * * \n"
     ]
    }
   ],
   "source": [
    "#     *\n",
    "#    * *\n",
    "#   * * *\n",
    "\n",
    "\n",
    "rows = 6\n",
    "for i in range(1,rows+1):\n",
    "  print(' '*rows,end='')\n",
    "  print('* '*i)\n",
    "  rows = rows - 1\n"
   ]
  },
  {
   "cell_type": "code",
   "execution_count": 34,
   "metadata": {},
   "outputs": [
    {
     "name": "stdout",
     "output_type": "stream",
     "text": [
      "\n",
      "1 \n",
      "2 1 \n",
      "3 2 1 \n",
      "4 3 2 1 \n",
      "5 4 3 2 1 \n"
     ]
    }
   ],
   "source": [
    "# 1\n",
    "\n",
    "# 2 1\n",
    "\n",
    "# 3 2 1\n",
    "\n",
    "# 4 3 2 1\n",
    "\n",
    "# 5 4 3 2 1\n",
    "\n",
    "row = 5\n",
    "for i in range(0,row+1):\n",
    "    for j in range(i,0,-1):\n",
    "        print(j,end=\" \")\n",
    "    print()"
   ]
  },
  {
   "cell_type": "code",
   "execution_count": 39,
   "metadata": {},
   "outputs": [
    {
     "name": "stdout",
     "output_type": "stream",
     "text": [
      "1 + x^2/2 + x^3/3 + x^4/4 + x^5/5 + \n",
      "22884.333333333332\n"
     ]
    }
   ],
   "source": [
    "# Write a Python Program to Find the Sum of the Series till the nth term:\n",
    "# 1 + x^2/2 + x^3/3 + … x^n/n\n",
    "\n",
    "x = 10\n",
    "n =5\n",
    "sum=1\n",
    "s=\"\"\n",
    "\n",
    "print(\"1 + \",end=\"\")\n",
    "for i in range(2,n+1):\n",
    "    sum += x**i/i\n",
    "    s = s + \"x^{}/{} + \".format(i,i)\n",
    "\n",
    "print(s)\n",
    "print(sum)"
   ]
  },
  {
   "cell_type": "code",
   "execution_count": 40,
   "metadata": {},
   "outputs": [
    {
     "name": "stdout",
     "output_type": "stream",
     "text": [
      "1 1 1 1\n",
      "1 1 1 2\n",
      "1 1 1 3\n",
      "1 1 1 4\n",
      "1 1 2 1\n",
      "1 1 2 2\n",
      "1 1 2 3\n",
      "1 1 2 4\n",
      "1 1 3 1\n",
      "1 1 3 2\n",
      "1 1 3 3\n",
      "1 1 3 4\n",
      "1 1 4 1\n",
      "1 1 4 2\n",
      "1 1 4 3\n",
      "1 1 4 4\n",
      "1 2 1 1\n",
      "1 2 1 2\n",
      "1 2 1 3\n",
      "1 2 1 4\n",
      "1 2 2 1\n",
      "1 2 2 2\n",
      "1 2 2 3\n",
      "1 2 2 4\n",
      "1 2 3 1\n",
      "1 2 3 2\n",
      "1 2 3 3\n",
      "1 2 3 4\n",
      "1 2 4 1\n",
      "1 2 4 2\n",
      "1 2 4 3\n",
      "1 2 4 4\n",
      "1 3 1 1\n",
      "1 3 1 2\n",
      "1 3 1 3\n",
      "1 3 1 4\n",
      "1 3 2 1\n",
      "1 3 2 2\n",
      "1 3 2 3\n",
      "1 3 2 4\n",
      "1 3 3 1\n",
      "1 3 3 2\n",
      "1 3 3 3\n",
      "1 3 3 4\n",
      "1 3 4 1\n",
      "1 3 4 2\n",
      "1 3 4 3\n",
      "1 3 4 4\n",
      "1 4 1 1\n",
      "1 4 1 2\n",
      "1 4 1 3\n",
      "1 4 1 4\n",
      "1 4 2 1\n",
      "1 4 2 2\n",
      "1 4 2 3\n",
      "1 4 2 4\n",
      "1 4 3 1\n",
      "1 4 3 2\n",
      "1 4 3 3\n",
      "1 4 3 4\n",
      "1 4 4 1\n",
      "1 4 4 2\n",
      "1 4 4 3\n",
      "1 4 4 4\n",
      "2 1 1 1\n",
      "2 1 1 2\n",
      "2 1 1 3\n",
      "2 1 1 4\n",
      "2 1 2 1\n",
      "2 1 2 2\n",
      "2 1 2 3\n",
      "2 1 2 4\n",
      "2 1 3 1\n",
      "2 1 3 2\n",
      "2 1 3 3\n",
      "2 1 3 4\n",
      "2 1 4 1\n",
      "2 1 4 2\n",
      "2 1 4 3\n",
      "2 1 4 4\n",
      "2 2 1 1\n",
      "2 2 1 2\n",
      "2 2 1 3\n",
      "2 2 1 4\n",
      "2 2 2 1\n",
      "2 2 2 2\n",
      "2 2 2 3\n",
      "2 2 2 4\n",
      "2 2 3 1\n",
      "2 2 3 2\n",
      "2 2 3 3\n",
      "2 2 3 4\n",
      "2 2 4 1\n",
      "2 2 4 2\n",
      "2 2 4 3\n",
      "2 2 4 4\n",
      "2 3 1 1\n",
      "2 3 1 2\n",
      "2 3 1 3\n",
      "2 3 1 4\n",
      "2 3 2 1\n",
      "2 3 2 2\n",
      "2 3 2 3\n",
      "2 3 2 4\n",
      "2 3 3 1\n",
      "2 3 3 2\n",
      "2 3 3 3\n",
      "2 3 3 4\n",
      "2 3 4 1\n",
      "2 3 4 2\n",
      "2 3 4 3\n",
      "2 3 4 4\n",
      "2 4 1 1\n",
      "2 4 1 2\n",
      "2 4 1 3\n",
      "2 4 1 4\n",
      "2 4 2 1\n",
      "2 4 2 2\n",
      "2 4 2 3\n",
      "2 4 2 4\n",
      "2 4 3 1\n",
      "2 4 3 2\n",
      "2 4 3 3\n",
      "2 4 3 4\n",
      "2 4 4 1\n",
      "2 4 4 2\n",
      "2 4 4 3\n",
      "2 4 4 4\n",
      "3 1 1 1\n",
      "3 1 1 2\n",
      "3 1 1 3\n",
      "3 1 1 4\n",
      "3 1 2 1\n",
      "3 1 2 2\n",
      "3 1 2 3\n",
      "3 1 2 4\n",
      "3 1 3 1\n",
      "3 1 3 2\n",
      "3 1 3 3\n",
      "3 1 3 4\n",
      "3 1 4 1\n",
      "3 1 4 2\n",
      "3 1 4 3\n",
      "3 1 4 4\n",
      "3 2 1 1\n",
      "3 2 1 2\n",
      "3 2 1 3\n",
      "3 2 1 4\n",
      "3 2 2 1\n",
      "3 2 2 2\n",
      "3 2 2 3\n",
      "3 2 2 4\n",
      "3 2 3 1\n",
      "3 2 3 2\n",
      "3 2 3 3\n",
      "3 2 3 4\n",
      "3 2 4 1\n",
      "3 2 4 2\n",
      "3 2 4 3\n",
      "3 2 4 4\n",
      "3 3 1 1\n",
      "3 3 1 2\n",
      "3 3 1 3\n",
      "3 3 1 4\n",
      "3 3 2 1\n",
      "3 3 2 2\n",
      "3 3 2 3\n",
      "3 3 2 4\n",
      "3 3 3 1\n",
      "3 3 3 2\n",
      "3 3 3 3\n",
      "3 3 3 4\n",
      "3 3 4 1\n",
      "3 3 4 2\n",
      "3 3 4 3\n",
      "3 3 4 4\n",
      "3 4 1 1\n",
      "3 4 1 2\n",
      "3 4 1 3\n",
      "3 4 1 4\n",
      "3 4 2 1\n",
      "3 4 2 2\n",
      "3 4 2 3\n",
      "3 4 2 4\n",
      "3 4 3 1\n",
      "3 4 3 2\n",
      "3 4 3 3\n",
      "3 4 3 4\n",
      "3 4 4 1\n",
      "3 4 4 2\n",
      "3 4 4 3\n",
      "3 4 4 4\n",
      "4 1 1 1\n",
      "4 1 1 2\n",
      "4 1 1 3\n",
      "4 1 1 4\n",
      "4 1 2 1\n",
      "4 1 2 2\n",
      "4 1 2 3\n",
      "4 1 2 4\n",
      "4 1 3 1\n",
      "4 1 3 2\n",
      "4 1 3 3\n",
      "4 1 3 4\n",
      "4 1 4 1\n",
      "4 1 4 2\n",
      "4 1 4 3\n",
      "4 1 4 4\n",
      "4 2 1 1\n",
      "4 2 1 2\n",
      "4 2 1 3\n",
      "4 2 1 4\n",
      "4 2 2 1\n",
      "4 2 2 2\n",
      "4 2 2 3\n",
      "4 2 2 4\n",
      "4 2 3 1\n",
      "4 2 3 2\n",
      "4 2 3 3\n",
      "4 2 3 4\n",
      "4 2 4 1\n",
      "4 2 4 2\n",
      "4 2 4 3\n",
      "4 2 4 4\n",
      "4 3 1 1\n",
      "4 3 1 2\n",
      "4 3 1 3\n",
      "4 3 1 4\n",
      "4 3 2 1\n",
      "4 3 2 2\n",
      "4 3 2 3\n",
      "4 3 2 4\n",
      "4 3 3 1\n",
      "4 3 3 2\n",
      "4 3 3 3\n",
      "4 3 3 4\n",
      "4 3 4 1\n",
      "4 3 4 2\n",
      "4 3 4 3\n",
      "4 3 4 4\n",
      "4 4 1 1\n",
      "4 4 1 2\n",
      "4 4 1 3\n",
      "4 4 1 4\n",
      "4 4 2 1\n",
      "4 4 2 2\n",
      "4 4 2 3\n",
      "4 4 2 4\n",
      "4 4 3 1\n",
      "4 4 3 2\n",
      "4 4 3 3\n",
      "4 4 3 4\n",
      "4 4 4 1\n",
      "4 4 4 2\n",
      "4 4 4 3\n",
      "4 4 4 4\n"
     ]
    }
   ],
   "source": [
    "# 1 2 3 4\n",
    "# 1 2 4 3\n",
    "# 1 3 2 4\n",
    "# 1 3 4 2\n",
    "# 1 4 2 3\n",
    "# 1 4 3 2\n",
    "# 2 1 3 4\n",
    "# 2 1 4 3\n",
    "# 2 3 1 4\n",
    "# 2 3 4 1\n",
    "# 2 4 1 3\n",
    "\n",
    "for i in range(1,5):\n",
    "  for j in range(1,5):\n",
    "    for k in range(1,5):\n",
    "      for m in range(1,5):\n",
    "        print(i,j,k,m)"
   ]
  },
  {
   "cell_type": "code",
   "execution_count": 43,
   "metadata": {},
   "outputs": [
    {
     "name": "stdout",
     "output_type": "stream",
     "text": [
      "110"
     ]
    }
   ],
   "source": [
    "# Write a program that will take a decimal number as input and prints out the binary equivalent of the number\n",
    "\n",
    "n = int(input('enter the number'))\n",
    "binary = []\n",
    "while n > 0:\n",
    "\n",
    "  binary.append(n%2)\n",
    "  n = n//2\n",
    "\n",
    "for i in binary[::-1]:\n",
    "  print(i,end='')"
   ]
  },
  {
   "cell_type": "code",
   "execution_count": 47,
   "metadata": {},
   "outputs": [
    {
     "name": "stdout",
     "output_type": "stream",
     "text": [
      "DSMP\n"
     ]
    }
   ],
   "source": [
    "# Given a string create short form ofthe string from Initial character. Short form should be capitalised.\n",
    "\n",
    "inp = 'Data science Mentorship Program'\n",
    "res=\"\"\n",
    "for i in inp.split():\n",
    "    res = res + i[0].upper()\n",
    "print(res)"
   ]
  },
  {
   "cell_type": "code",
   "execution_count": 52,
   "metadata": {},
   "outputs": [
    {
     "name": "stdout",
     "output_type": "stream",
     "text": [
      "asdscdscf\n"
     ]
    }
   ],
   "source": [
    "# Append second string in the middle of first string\n",
    "\n",
    "s1 = input('enter the 1st string')\n",
    "s2 = input('enter the 2nd string')\n",
    "\n",
    "print(s1[0:int(len(s1)/2)] + s2 + s1[int(len(s1)/2):])\n",
    "# print(s1[0:int(len(s1)/2)] + s2 + s1[int(len(s1)/2):])"
   ]
  },
  {
   "cell_type": "code",
   "execution_count": 54,
   "metadata": {},
   "outputs": [
    {
     "name": "stdout",
     "output_type": "stream",
     "text": [
      "yaivePNT\n"
     ]
    }
   ],
   "source": [
    "# Given string contains a combination of the lower and upper case letters. Write a program to arrange the characters of a string so that all lowercase letters should come first.\n",
    "\n",
    "s = 'PyNaTive'\n",
    "\n",
    "lower = ''\n",
    "upper = ''\n",
    "\n",
    "for i in s:\n",
    "    if i.islower():\n",
    "        lower = lower +i\n",
    "    else:\n",
    "        upper = upper +i\n",
    "\n",
    "print(lower + upper)\n"
   ]
  },
  {
   "cell_type": "code",
   "execution_count": 58,
   "metadata": {},
   "outputs": [
    {
     "name": "stdout",
     "output_type": "stream",
     "text": [
      "22\n",
      "3.142857142857143\n",
      "7\n"
     ]
    }
   ],
   "source": [
    "# Take a alphanumeric string input and print the sum and average of the digits that appear in the string, ignoring all other characters.\n",
    "\n",
    "s = 'hel123O4every093'\n",
    "\n",
    "sum = 0\n",
    "count = 0\n",
    "\n",
    "for i in s:\n",
    "    if i.isdigit():\n",
    "        sum = sum + int(i)\n",
    "        count = count + 1\n",
    "\n",
    "print(sum)\n",
    "print(sum/count)\n",
    "print(count)"
   ]
  },
  {
   "cell_type": "code",
   "execution_count": 59,
   "metadata": {},
   "outputs": [
    {
     "name": "stdout",
     "output_type": "stream",
     "text": [
      "2510\n"
     ]
    }
   ],
   "source": [
    "# Removal of all characters from a string except integers\n",
    "\n",
    "s = 'I am 25 years and 10 months old'\n",
    "res = \"\"\n",
    "for i in s:\n",
    "    if i.isdigit():\n",
    "        res = res+i\n",
    "\n",
    "print(res)"
   ]
  },
  {
   "cell_type": "code",
   "execution_count": 61,
   "metadata": {},
   "outputs": [
    {
     "name": "stdout",
     "output_type": "stream",
     "text": [
      "symmetrical\n"
     ]
    }
   ],
   "source": [
    "# Given a string. the task is to check if the string is symmetrical or not. A string is said to be symmetrical if both the halves of the string are the same.\n",
    "\n",
    "s = input('enter the string')\n",
    "\n",
    "if len(s)%2==0:\n",
    "    s1 = s[0:len(s)//2]\n",
    "    s2 = s[len(s)//2:]\n",
    "else:\n",
    "\n",
    "  s1 = s[0:len(s)//2]\n",
    "  s2 = s[len(s)//2 + 1:]\n",
    "\n",
    "if s1 == s2:\n",
    "  print('symmetrical')\n",
    "else:\n",
    "  print('not symmetrical')\n"
   ]
  },
  {
   "cell_type": "code",
   "execution_count": 66,
   "metadata": {},
   "outputs": [
    {
     "name": "stdout",
     "output_type": "stream",
     "text": [
      "geeks quiz practice code\n"
     ]
    }
   ],
   "source": [
    "# We are given a string and we need to reverse words of a given string.\n",
    "\n",
    "s = 'code practice quiz geeks'\n",
    "\n",
    "L = []\n",
    "for i in s.split():\n",
    "    L.append(i)\n",
    "L = L[::-1]\n",
    "print(' '.join(L))  "
   ]
  },
  {
   "cell_type": "code",
   "execution_count": 70,
   "metadata": {},
   "outputs": [
    {
     "name": "stdout",
     "output_type": "stream",
     "text": [
      "['apple', 'fruits']\n"
     ]
    }
   ],
   "source": [
    "# Given two sentences as strings A and B. The task is to return a list of all uncommon words. \n",
    "# A word is uncommon if it appears exactly once in any one of the sentences, and does not \n",
    "# appear in the other sentence. Note: A sentence is a string of space-separated words. Each word consists only of lowercase letters.\n",
    "\n",
    "A = \"apple banana mango\" \n",
    "B = \"banana fruits mango\"\n",
    "\n",
    "L = []\n",
    "for i in A.split():\n",
    "    if i not in B.split() and i not in L:\n",
    "        L.append(i)\n",
    "for i in B.split():\n",
    "    if i not in A.split() and i not in L:\n",
    "        L.append(i)\n",
    "print(L)"
   ]
  },
  {
   "cell_type": "code",
   "execution_count": 73,
   "metadata": {},
   "outputs": [
    {
     "name": "stdout",
     "output_type": "stream",
     "text": [
      "7\n"
     ]
    }
   ],
   "source": [
    "# Find a location of a word in a given sentence.\n",
    "\n",
    "s = 'We can learn data science through campusx mentorship program.'\n",
    "word = 'campusx'\n",
    "\n",
    "pos = 0\n",
    "\n",
    "for i in s.split():\n",
    "    pos +=1\n",
    "    if i==word:\n",
    "        break\n",
    "print(pos)\n",
    "        "
   ]
  },
  {
   "cell_type": "code",
   "execution_count": 75,
   "metadata": {},
   "outputs": [
    {
     "name": "stdout",
     "output_type": "stream",
     "text": [
      "abcdef\n"
     ]
    }
   ],
   "source": [
    "# Write a program that can remove all the duplicate characters from a string. User will provide the input.\n",
    "\n",
    "s = 'aaaabbbbbccccdddeeeeffff'\n",
    "\n",
    "res=\"\"\n",
    "for i in s:\n",
    "    if i not in res:\n",
    "        res+=i\n",
    "\n",
    "print(res)"
   ]
  },
  {
   "cell_type": "code",
   "execution_count": null,
   "metadata": {},
   "outputs": [],
   "source": []
  }
 ],
 "metadata": {
  "kernelspec": {
   "display_name": "Python 3",
   "language": "python",
   "name": "python3"
  },
  "language_info": {
   "codemirror_mode": {
    "name": "ipython",
    "version": 3
   },
   "file_extension": ".py",
   "mimetype": "text/x-python",
   "name": "python",
   "nbconvert_exporter": "python",
   "pygments_lexer": "ipython3",
   "version": "3.11.9"
  }
 },
 "nbformat": 4,
 "nbformat_minor": 2
}
