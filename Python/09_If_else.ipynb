{
 "cells": [
  {
   "cell_type": "code",
   "execution_count": 1,
   "metadata": {},
   "outputs": [
    {
     "name": "stdout",
     "output_type": "stream",
     "text": [
      "This number is pass\n"
     ]
    }
   ],
   "source": [
    "number = int(input(\"Enter the number\"))\n",
    "if number>0:\n",
    "    pass\n",
    "print(\"This number is pass\")"
   ]
  },
  {
   "cell_type": "code",
   "execution_count": 3,
   "metadata": {},
   "outputs": [
    {
     "name": "stdout",
     "output_type": "stream",
     "text": [
      "76 is positive\n"
     ]
    }
   ],
   "source": [
    "number = int(input(\"Enter the number\"))\n",
    "if number>0:\n",
    "    print(f\"{number} is positive\")\n",
    "elif number==0:\n",
    "    print(\"number is zero\")\n",
    "else:\n",
    "    print(f\"{number} is negative\")\n"
   ]
  },
  {
   "cell_type": "code",
   "execution_count": 4,
   "metadata": {},
   "outputs": [
    {
     "name": "stdout",
     "output_type": "stream",
     "text": [
      "87686 is positive\n"
     ]
    }
   ],
   "source": [
    "number = int(input(\"Enter the number\"))\n",
    "if number>0:\n",
    "    print(f\"{number} is positive\")\n",
    "if number==0:\n",
    "    print(\"number is zero\")\n",
    "if number<0:\n",
    "    print(f\"{number} is negative\")\n"
   ]
  },
  {
   "cell_type": "code",
   "execution_count": 6,
   "metadata": {},
   "outputs": [
    {
     "name": "stdout",
     "output_type": "stream",
     "text": [
      "2348.9\n"
     ]
    }
   ],
   "source": [
    "amt = int(input(\"Enter the amount\"))\n",
    "if amt>1000:\n",
    "    dct = amt*0.1\n",
    "elif amt>500:\n",
    "    dct = amt*0.5\n",
    "elif amt>250:\n",
    "    dct = amt*0.25\n",
    "else:\n",
    "    dct = 0\n",
    "\n",
    "print(dct)"
   ]
  },
  {
   "cell_type": "code",
   "execution_count": 1,
   "metadata": {},
   "outputs": [
    {
     "name": "stdout",
     "output_type": "stream",
     "text": [
      "cost 30.0\n"
     ]
    }
   ],
   "source": [
    "weight = float(input(\"Enter weight\"))\n",
    "location = input(\"Enter Location\").lower()\n",
    "\n",
    "if location == \"local\":\n",
    "    if weight<=2:\n",
    "        if weight<=1:\n",
    "            cost =2\n",
    "        else:\n",
    "            cost = 3\n",
    "    elif weight<=5:\n",
    "        cost = 5\n",
    "    else:\n",
    "        cost = 3+(weight-2)*1.5\n",
    "else:\n",
    "    if weight<=2:\n",
    "        cost=5\n",
    "    else:\n",
    "        cost = 5+(weight-2)*4\n",
    "print(\"cost\",cost)\n"
   ]
  },
  {
   "cell_type": "code",
   "execution_count": 2,
   "metadata": {},
   "outputs": [
    {
     "data": {
      "text/plain": [
       "20.0"
      ]
     },
     "execution_count": 2,
     "metadata": {},
     "output_type": "execute_result"
    }
   ],
   "source": [
    "weight"
   ]
  },
  {
   "cell_type": "code",
   "execution_count": 3,
   "metadata": {},
   "outputs": [
    {
     "data": {
      "text/plain": [
       "'local'"
      ]
     },
     "execution_count": 3,
     "metadata": {},
     "output_type": "execute_result"
    }
   ],
   "source": [
    "location"
   ]
  },
  {
   "cell_type": "code",
   "execution_count": null,
   "metadata": {},
   "outputs": [],
   "source": []
  }
 ],
 "metadata": {
  "kernelspec": {
   "display_name": "Python 3",
   "language": "python",
   "name": "python3"
  },
  "language_info": {
   "codemirror_mode": {
    "name": "ipython",
    "version": 3
   },
   "file_extension": ".py",
   "mimetype": "text/x-python",
   "name": "python",
   "nbconvert_exporter": "python",
   "pygments_lexer": "ipython3",
   "version": "3.11.9"
  }
 },
 "nbformat": 4,
 "nbformat_minor": 2
}
